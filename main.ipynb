{
 "cells": [
  {
   "cell_type": "markdown",
   "metadata": {},
   "source": [
    "### Import thư viện"
   ]
  },
  {
   "cell_type": "code",
   "execution_count": 1,
   "metadata": {},
   "outputs": [],
   "source": [
    "import pandas as pd\n",
    "import numpy as np\n",
    "import matplotlib.pyplot as plt\n",
    "import seaborn as sns\n",
    "import plotly.express as px\n",
    "import plotly.graph_objects as go"
   ]
  },
  {
   "cell_type": "markdown",
   "metadata": {},
   "source": [
    "### Đọc dữ liệu từ file csv"
   ]
  },
  {
   "cell_type": "code",
   "execution_count": 2,
   "metadata": {},
   "outputs": [],
   "source": [
    "df = pd.read_csv(\"./Sample - Superstore.csv\",encoding = \"ISO-8859-1\")"
   ]
  },
  {
   "cell_type": "markdown",
   "metadata": {},
   "source": [
    "## Tiền xử lý"
   ]
  },
  {
   "cell_type": "markdown",
   "metadata": {},
   "source": [
    "**In 5 dòng đầu tiên của dữ liệu**"
   ]
  },
  {
   "cell_type": "code",
   "execution_count": 3,
   "metadata": {},
   "outputs": [
    {
     "data": {
      "text/html": [
       "<div>\n",
       "<style scoped>\n",
       "    .dataframe tbody tr th:only-of-type {\n",
       "        vertical-align: middle;\n",
       "    }\n",
       "\n",
       "    .dataframe tbody tr th {\n",
       "        vertical-align: top;\n",
       "    }\n",
       "\n",
       "    .dataframe thead th {\n",
       "        text-align: right;\n",
       "    }\n",
       "</style>\n",
       "<table border=\"1\" class=\"dataframe\">\n",
       "  <thead>\n",
       "    <tr style=\"text-align: right;\">\n",
       "      <th></th>\n",
       "      <th>Row ID</th>\n",
       "      <th>Order ID</th>\n",
       "      <th>Order Date</th>\n",
       "      <th>Ship Date</th>\n",
       "      <th>Ship Mode</th>\n",
       "      <th>Customer ID</th>\n",
       "      <th>Customer Name</th>\n",
       "      <th>Segment</th>\n",
       "      <th>Country</th>\n",
       "      <th>City</th>\n",
       "      <th>...</th>\n",
       "      <th>Postal Code</th>\n",
       "      <th>Region</th>\n",
       "      <th>Product ID</th>\n",
       "      <th>Category</th>\n",
       "      <th>Sub-Category</th>\n",
       "      <th>Product Name</th>\n",
       "      <th>Sales</th>\n",
       "      <th>Quantity</th>\n",
       "      <th>Discount</th>\n",
       "      <th>Profit</th>\n",
       "    </tr>\n",
       "  </thead>\n",
       "  <tbody>\n",
       "    <tr>\n",
       "      <th>0</th>\n",
       "      <td>1</td>\n",
       "      <td>CA-2016-152156</td>\n",
       "      <td>11/8/2016</td>\n",
       "      <td>11/11/2016</td>\n",
       "      <td>Second Class</td>\n",
       "      <td>CG-12520</td>\n",
       "      <td>Claire Gute</td>\n",
       "      <td>Consumer</td>\n",
       "      <td>United States</td>\n",
       "      <td>Henderson</td>\n",
       "      <td>...</td>\n",
       "      <td>42420</td>\n",
       "      <td>South</td>\n",
       "      <td>FUR-BO-10001798</td>\n",
       "      <td>Furniture</td>\n",
       "      <td>Bookcases</td>\n",
       "      <td>Bush Somerset Collection Bookcase</td>\n",
       "      <td>261.9600</td>\n",
       "      <td>2</td>\n",
       "      <td>0.00</td>\n",
       "      <td>41.9136</td>\n",
       "    </tr>\n",
       "    <tr>\n",
       "      <th>1</th>\n",
       "      <td>2</td>\n",
       "      <td>CA-2016-152156</td>\n",
       "      <td>11/8/2016</td>\n",
       "      <td>11/11/2016</td>\n",
       "      <td>Second Class</td>\n",
       "      <td>CG-12520</td>\n",
       "      <td>Claire Gute</td>\n",
       "      <td>Consumer</td>\n",
       "      <td>United States</td>\n",
       "      <td>Henderson</td>\n",
       "      <td>...</td>\n",
       "      <td>42420</td>\n",
       "      <td>South</td>\n",
       "      <td>FUR-CH-10000454</td>\n",
       "      <td>Furniture</td>\n",
       "      <td>Chairs</td>\n",
       "      <td>Hon Deluxe Fabric Upholstered Stacking Chairs,...</td>\n",
       "      <td>731.9400</td>\n",
       "      <td>3</td>\n",
       "      <td>0.00</td>\n",
       "      <td>219.5820</td>\n",
       "    </tr>\n",
       "    <tr>\n",
       "      <th>2</th>\n",
       "      <td>3</td>\n",
       "      <td>CA-2016-138688</td>\n",
       "      <td>6/12/2016</td>\n",
       "      <td>6/16/2016</td>\n",
       "      <td>Second Class</td>\n",
       "      <td>DV-13045</td>\n",
       "      <td>Darrin Van Huff</td>\n",
       "      <td>Corporate</td>\n",
       "      <td>United States</td>\n",
       "      <td>Los Angeles</td>\n",
       "      <td>...</td>\n",
       "      <td>90036</td>\n",
       "      <td>West</td>\n",
       "      <td>OFF-LA-10000240</td>\n",
       "      <td>Office Supplies</td>\n",
       "      <td>Labels</td>\n",
       "      <td>Self-Adhesive Address Labels for Typewriters b...</td>\n",
       "      <td>14.6200</td>\n",
       "      <td>2</td>\n",
       "      <td>0.00</td>\n",
       "      <td>6.8714</td>\n",
       "    </tr>\n",
       "    <tr>\n",
       "      <th>3</th>\n",
       "      <td>4</td>\n",
       "      <td>US-2015-108966</td>\n",
       "      <td>10/11/2015</td>\n",
       "      <td>10/18/2015</td>\n",
       "      <td>Standard Class</td>\n",
       "      <td>SO-20335</td>\n",
       "      <td>Sean O'Donnell</td>\n",
       "      <td>Consumer</td>\n",
       "      <td>United States</td>\n",
       "      <td>Fort Lauderdale</td>\n",
       "      <td>...</td>\n",
       "      <td>33311</td>\n",
       "      <td>South</td>\n",
       "      <td>FUR-TA-10000577</td>\n",
       "      <td>Furniture</td>\n",
       "      <td>Tables</td>\n",
       "      <td>Bretford CR4500 Series Slim Rectangular Table</td>\n",
       "      <td>957.5775</td>\n",
       "      <td>5</td>\n",
       "      <td>0.45</td>\n",
       "      <td>-383.0310</td>\n",
       "    </tr>\n",
       "    <tr>\n",
       "      <th>4</th>\n",
       "      <td>5</td>\n",
       "      <td>US-2015-108966</td>\n",
       "      <td>10/11/2015</td>\n",
       "      <td>10/18/2015</td>\n",
       "      <td>Standard Class</td>\n",
       "      <td>SO-20335</td>\n",
       "      <td>Sean O'Donnell</td>\n",
       "      <td>Consumer</td>\n",
       "      <td>United States</td>\n",
       "      <td>Fort Lauderdale</td>\n",
       "      <td>...</td>\n",
       "      <td>33311</td>\n",
       "      <td>South</td>\n",
       "      <td>OFF-ST-10000760</td>\n",
       "      <td>Office Supplies</td>\n",
       "      <td>Storage</td>\n",
       "      <td>Eldon Fold 'N Roll Cart System</td>\n",
       "      <td>22.3680</td>\n",
       "      <td>2</td>\n",
       "      <td>0.20</td>\n",
       "      <td>2.5164</td>\n",
       "    </tr>\n",
       "  </tbody>\n",
       "</table>\n",
       "<p>5 rows × 21 columns</p>\n",
       "</div>"
      ],
      "text/plain": [
       "   Row ID        Order ID  Order Date   Ship Date       Ship Mode Customer ID  \\\n",
       "0       1  CA-2016-152156   11/8/2016  11/11/2016    Second Class    CG-12520   \n",
       "1       2  CA-2016-152156   11/8/2016  11/11/2016    Second Class    CG-12520   \n",
       "2       3  CA-2016-138688   6/12/2016   6/16/2016    Second Class    DV-13045   \n",
       "3       4  US-2015-108966  10/11/2015  10/18/2015  Standard Class    SO-20335   \n",
       "4       5  US-2015-108966  10/11/2015  10/18/2015  Standard Class    SO-20335   \n",
       "\n",
       "     Customer Name    Segment        Country             City  ...  \\\n",
       "0      Claire Gute   Consumer  United States        Henderson  ...   \n",
       "1      Claire Gute   Consumer  United States        Henderson  ...   \n",
       "2  Darrin Van Huff  Corporate  United States      Los Angeles  ...   \n",
       "3   Sean O'Donnell   Consumer  United States  Fort Lauderdale  ...   \n",
       "4   Sean O'Donnell   Consumer  United States  Fort Lauderdale  ...   \n",
       "\n",
       "  Postal Code  Region       Product ID         Category Sub-Category  \\\n",
       "0       42420   South  FUR-BO-10001798        Furniture    Bookcases   \n",
       "1       42420   South  FUR-CH-10000454        Furniture       Chairs   \n",
       "2       90036    West  OFF-LA-10000240  Office Supplies       Labels   \n",
       "3       33311   South  FUR-TA-10000577        Furniture       Tables   \n",
       "4       33311   South  OFF-ST-10000760  Office Supplies      Storage   \n",
       "\n",
       "                                        Product Name     Sales  Quantity  \\\n",
       "0                  Bush Somerset Collection Bookcase  261.9600         2   \n",
       "1  Hon Deluxe Fabric Upholstered Stacking Chairs,...  731.9400         3   \n",
       "2  Self-Adhesive Address Labels for Typewriters b...   14.6200         2   \n",
       "3      Bretford CR4500 Series Slim Rectangular Table  957.5775         5   \n",
       "4                     Eldon Fold 'N Roll Cart System   22.3680         2   \n",
       "\n",
       "   Discount    Profit  \n",
       "0      0.00   41.9136  \n",
       "1      0.00  219.5820  \n",
       "2      0.00    6.8714  \n",
       "3      0.45 -383.0310  \n",
       "4      0.20    2.5164  \n",
       "\n",
       "[5 rows x 21 columns]"
      ]
     },
     "execution_count": 3,
     "metadata": {},
     "output_type": "execute_result"
    }
   ],
   "source": [
    "df.head()"
   ]
  },
  {
   "cell_type": "markdown",
   "metadata": {},
   "source": [
    "**Thông tin số dòng và số cột**"
   ]
  },
  {
   "cell_type": "code",
   "execution_count": 4,
   "metadata": {},
   "outputs": [
    {
     "data": {
      "text/plain": [
       "(9994, 21)"
      ]
     },
     "execution_count": 4,
     "metadata": {},
     "output_type": "execute_result"
    }
   ],
   "source": [
    "df.shape"
   ]
  },
  {
   "attachments": {},
   "cell_type": "markdown",
   "metadata": {},
   "source": [
    "Dữ liệu có 9994 dòng và 21 cột"
   ]
  },
  {
   "cell_type": "markdown",
   "metadata": {},
   "source": [
    "**Thông tin cột**"
   ]
  },
  {
   "cell_type": "code",
   "execution_count": 5,
   "metadata": {},
   "outputs": [
    {
     "data": {
      "text/plain": [
       "Index(['Row ID', 'Order ID', 'Order Date', 'Ship Date', 'Ship Mode',\n",
       "       'Customer ID', 'Customer Name', 'Segment', 'Country', 'City', 'State',\n",
       "       'Postal Code', 'Region', 'Product ID', 'Category', 'Sub-Category',\n",
       "       'Product Name', 'Sales', 'Quantity', 'Discount', 'Profit'],\n",
       "      dtype='object')"
      ]
     },
     "execution_count": 5,
     "metadata": {},
     "output_type": "execute_result"
    }
   ],
   "source": [
    "df.columns"
   ]
  },
  {
   "attachments": {},
   "cell_type": "markdown",
   "metadata": {},
   "source": [
    "- Cột `Row ID` là số thứ tự của từng dòng trong dữ liệu\n",
    "- Cột `Order ID` là mã số của từng đơn hàng được đặt\n",
    "- Cột `Order Date` là ngày mà đơn hàng được thiết lập\n",
    "- Cột `Ship Date` là ngày mà đơn hàng được giao tới khách hàng \n",
    "- Cột `Ship Mode` là loại giao hàng của đơn hàng đó\n",
    "- Cột `Customer ID` là mã số của khách hàng\n",
    "- Cột `Customer Name` là tên của khách hàng\n",
    "- Cột `Segment` là loại khách hàng\n",
    "- Cột `Country` là tên quốc gia\n",
    "- Cột `City` là tên thành phố\n",
    "- Cột `State` là tên bang\n",
    "- Cột `Postal Code` là mã bưu điện của thành phố đó\n",
    "- Cột `Region` là tên khu vực\n",
    "- Cột `Product ID` là mã số sản phẩm được đặt hàng\n",
    "- Cột `Category` là loại sản phẩm\n",
    "- Cột `Sub-Category` là phân loại con của phân loại sản phẩm đó\n",
    "- Cột `Product Name` là tên loại sản phẩm\n",
    "- Cột `Sales` là số lượng sản phẩm đã bán được\n",
    "- Cột `Quantity` là số lượng sản phẩm trong đơn hàng\n",
    "- Cột `Discount` là phần trăm giảm giá của đơn hàng\n",
    "- Cột `Profit` là lợi nhuận của đơn hàng"
   ]
  },
  {
   "cell_type": "markdown",
   "metadata": {},
   "source": [
    "**Kiểu dữ liệu của từng cột**"
   ]
  },
  {
   "cell_type": "code",
   "execution_count": 6,
   "metadata": {},
   "outputs": [
    {
     "data": {
      "text/plain": [
       "Row ID             int64\n",
       "Order ID          object\n",
       "Order Date        object\n",
       "Ship Date         object\n",
       "Ship Mode         object\n",
       "Customer ID       object\n",
       "Customer Name     object\n",
       "Segment           object\n",
       "Country           object\n",
       "City              object\n",
       "State             object\n",
       "Postal Code        int64\n",
       "Region            object\n",
       "Product ID        object\n",
       "Category          object\n",
       "Sub-Category      object\n",
       "Product Name      object\n",
       "Sales            float64\n",
       "Quantity           int64\n",
       "Discount         float64\n",
       "Profit           float64\n",
       "dtype: object"
      ]
     },
     "execution_count": 6,
     "metadata": {},
     "output_type": "execute_result"
    }
   ],
   "source": [
    "df.dtypes"
   ]
  },
  {
   "attachments": {},
   "cell_type": "markdown",
   "metadata": {},
   "source": [
    "- Dữ liệu ở các cột `Row ID`, `Postal Code`, `Quantity` thuộc kiểu số nguyên\n",
    "- Dữ liệu ở các cột `Sales`, `Discount`, `Profit` thuộc kiểu số thực\n",
    "- Các dữ liệu ở các cột còn lại thuộc kiểu non-numeric"
   ]
  },
  {
   "cell_type": "markdown",
   "metadata": {},
   "source": [
    "**Số giá trị null của từng cột**"
   ]
  },
  {
   "cell_type": "code",
   "execution_count": 7,
   "metadata": {},
   "outputs": [
    {
     "data": {
      "text/plain": [
       "Row ID           0\n",
       "Order ID         0\n",
       "Order Date       0\n",
       "Ship Date        0\n",
       "Ship Mode        0\n",
       "Customer ID      0\n",
       "Customer Name    0\n",
       "Segment          0\n",
       "Country          0\n",
       "City             0\n",
       "State            0\n",
       "Postal Code      0\n",
       "Region           0\n",
       "Product ID       0\n",
       "Category         0\n",
       "Sub-Category     0\n",
       "Product Name     0\n",
       "Sales            0\n",
       "Quantity         0\n",
       "Discount         0\n",
       "Profit           0\n",
       "dtype: int64"
      ]
     },
     "execution_count": 7,
     "metadata": {},
     "output_type": "execute_result"
    }
   ],
   "source": [
    "df.isnull().sum()"
   ]
  },
  {
   "cell_type": "markdown",
   "metadata": {},
   "source": [
    "Ta thấy không có giá trị null trong dataframe"
   ]
  },
  {
   "attachments": {},
   "cell_type": "markdown",
   "metadata": {},
   "source": [
    "**Loại bỏ cột không cần thiết**\n",
    "\n",
    "Các cột bị loại bỏ:\n",
    "- Cột `Country` vì chỉ có một giá trị duy nhất là \"United States\"\n",
    "- Cột `Postal Code` chỉ là id của `City` đã được thể hiện ở cột trước"
   ]
  },
  {
   "cell_type": "code",
   "execution_count": 8,
   "metadata": {},
   "outputs": [
    {
     "data": {
      "text/plain": [
       "array(['United States'], dtype=object)"
      ]
     },
     "execution_count": 8,
     "metadata": {},
     "output_type": "execute_result"
    }
   ],
   "source": [
    "df[\"Country\"].unique()"
   ]
  },
  {
   "cell_type": "code",
   "execution_count": 9,
   "metadata": {},
   "outputs": [
    {
     "data": {
      "text/plain": [
       "Index(['Row ID', 'Order ID', 'Order Date', 'Ship Date', 'Ship Mode',\n",
       "       'Customer ID', 'Customer Name', 'Segment', 'City', 'State', 'Region',\n",
       "       'Product ID', 'Category', 'Sub-Category', 'Product Name', 'Sales',\n",
       "       'Quantity', 'Discount', 'Profit'],\n",
       "      dtype='object')"
      ]
     },
     "execution_count": 9,
     "metadata": {},
     "output_type": "execute_result"
    }
   ],
   "source": [
    "unused_columns = [\n",
    "    'Country', \n",
    "    'Postal Code']\n",
    "\n",
    "df.drop(columns=unused_columns, inplace=True)\n",
    "df.columns"
   ]
  },
  {
   "attachments": {},
   "cell_type": "markdown",
   "metadata": {},
   "source": [
    "**Chuyển về kiểu dữ liệu datetime**\n",
    "\n",
    "Áp dụng cho 2 cột `Order Date` và `Ship Date`"
   ]
  },
  {
   "cell_type": "code",
   "execution_count": 10,
   "metadata": {},
   "outputs": [],
   "source": [
    "df[\"Order Date\"] = pd.to_datetime(df[\"Order Date\"])\n",
    "df[\"Ship Date\"] = pd.to_datetime(df[\"Ship Date\"])"
   ]
  },
  {
   "cell_type": "markdown",
   "metadata": {},
   "source": [
    "Kiểu tra kiểu dữ liệu"
   ]
  },
  {
   "cell_type": "code",
   "execution_count": 11,
   "metadata": {},
   "outputs": [
    {
     "data": {
      "text/plain": [
       "Row ID                    int64\n",
       "Order ID                 object\n",
       "Order Date       datetime64[ns]\n",
       "Ship Date        datetime64[ns]\n",
       "Ship Mode                object\n",
       "Customer ID              object\n",
       "Customer Name            object\n",
       "Segment                  object\n",
       "City                     object\n",
       "State                    object\n",
       "Region                   object\n",
       "Product ID               object\n",
       "Category                 object\n",
       "Sub-Category             object\n",
       "Product Name             object\n",
       "Sales                   float64\n",
       "Quantity                  int64\n",
       "Discount                float64\n",
       "Profit                  float64\n",
       "dtype: object"
      ]
     },
     "execution_count": 11,
     "metadata": {},
     "output_type": "execute_result"
    }
   ],
   "source": [
    "df.dtypes"
   ]
  },
  {
   "cell_type": "markdown",
   "metadata": {},
   "source": [
    "Cách trích xuất thông tin từ dữ liệu datetime"
   ]
  },
  {
   "cell_type": "code",
   "execution_count": 12,
   "metadata": {},
   "outputs": [
    {
     "data": {
      "text/plain": [
       "0        8\n",
       "1        8\n",
       "2       12\n",
       "3       11\n",
       "4       11\n",
       "        ..\n",
       "9989    21\n",
       "9990    26\n",
       "9991    26\n",
       "9992    26\n",
       "9993     4\n",
       "Name: Order Date, Length: 9994, dtype: int64"
      ]
     },
     "execution_count": 12,
     "metadata": {},
     "output_type": "execute_result"
    }
   ],
   "source": [
    "df['Order Date'].dt.day"
   ]
  },
  {
   "attachments": {},
   "cell_type": "markdown",
   "metadata": {},
   "source": [
    "**Kiểm tra các ngày trong cột `Order Date` phải nhỏ hơn ngày trong cột `Ship Date`**"
   ]
  },
  {
   "cell_type": "code",
   "execution_count": 13,
   "metadata": {},
   "outputs": [
    {
     "data": {
      "text/plain": [
       "0"
      ]
     },
     "execution_count": 13,
     "metadata": {},
     "output_type": "execute_result"
    }
   ],
   "source": [
    "df_filtered = df[df['Order Date'] > df['Ship Date']]\n",
    "\n",
    "df_filtered.shape[0]"
   ]
  },
  {
   "attachments": {},
   "cell_type": "markdown",
   "metadata": {},
   "source": [
    "Không có các dòng dữ liệu nào mà `Order Date` lớn hơn `Ship Date`"
   ]
  },
  {
   "attachments": {},
   "cell_type": "markdown",
   "metadata": {},
   "source": [
    "**Kiểm tra các dòng bị trùng lặp**"
   ]
  },
  {
   "cell_type": "code",
   "execution_count": 14,
   "metadata": {},
   "outputs": [
    {
     "data": {
      "text/plain": [
       "0"
      ]
     },
     "execution_count": 14,
     "metadata": {},
     "output_type": "execute_result"
    }
   ],
   "source": [
    "df.duplicated().sum()"
   ]
  },
  {
   "attachments": {},
   "cell_type": "markdown",
   "metadata": {},
   "source": [
    "Không có dòng nào mà dữ liệu bị lặp"
   ]
  },
  {
   "cell_type": "code",
   "execution_count": 15,
   "metadata": {},
   "outputs": [
    {
     "data": {
      "text/html": [
       "<div>\n",
       "<style scoped>\n",
       "    .dataframe tbody tr th:only-of-type {\n",
       "        vertical-align: middle;\n",
       "    }\n",
       "\n",
       "    .dataframe tbody tr th {\n",
       "        vertical-align: top;\n",
       "    }\n",
       "\n",
       "    .dataframe thead th {\n",
       "        text-align: right;\n",
       "    }\n",
       "</style>\n",
       "<table border=\"1\" class=\"dataframe\">\n",
       "  <thead>\n",
       "    <tr style=\"text-align: right;\">\n",
       "      <th></th>\n",
       "      <th>Row ID</th>\n",
       "      <th>Order ID</th>\n",
       "      <th>Order Date</th>\n",
       "      <th>Ship Date</th>\n",
       "      <th>Ship Mode</th>\n",
       "      <th>Customer ID</th>\n",
       "      <th>Customer Name</th>\n",
       "      <th>Segment</th>\n",
       "      <th>City</th>\n",
       "      <th>State</th>\n",
       "      <th>Region</th>\n",
       "      <th>Product ID</th>\n",
       "      <th>Category</th>\n",
       "      <th>Sub-Category</th>\n",
       "      <th>Product Name</th>\n",
       "      <th>Sales</th>\n",
       "      <th>Quantity</th>\n",
       "      <th>Discount</th>\n",
       "      <th>Profit</th>\n",
       "    </tr>\n",
       "  </thead>\n",
       "  <tbody>\n",
       "    <tr>\n",
       "      <th>0</th>\n",
       "      <td>1</td>\n",
       "      <td>CA-2016-152156</td>\n",
       "      <td>2016-11-08</td>\n",
       "      <td>2016-11-11</td>\n",
       "      <td>Second Class</td>\n",
       "      <td>CG-12520</td>\n",
       "      <td>Claire Gute</td>\n",
       "      <td>Consumer</td>\n",
       "      <td>Henderson</td>\n",
       "      <td>Kentucky</td>\n",
       "      <td>South</td>\n",
       "      <td>FUR-BO-10001798</td>\n",
       "      <td>Furniture</td>\n",
       "      <td>Bookcases</td>\n",
       "      <td>Bush Somerset Collection Bookcase</td>\n",
       "      <td>261.9600</td>\n",
       "      <td>2</td>\n",
       "      <td>0.00</td>\n",
       "      <td>41.9136</td>\n",
       "    </tr>\n",
       "    <tr>\n",
       "      <th>1</th>\n",
       "      <td>2</td>\n",
       "      <td>CA-2016-152156</td>\n",
       "      <td>2016-11-08</td>\n",
       "      <td>2016-11-11</td>\n",
       "      <td>Second Class</td>\n",
       "      <td>CG-12520</td>\n",
       "      <td>Claire Gute</td>\n",
       "      <td>Consumer</td>\n",
       "      <td>Henderson</td>\n",
       "      <td>Kentucky</td>\n",
       "      <td>South</td>\n",
       "      <td>FUR-CH-10000454</td>\n",
       "      <td>Furniture</td>\n",
       "      <td>Chairs</td>\n",
       "      <td>Hon Deluxe Fabric Upholstered Stacking Chairs,...</td>\n",
       "      <td>731.9400</td>\n",
       "      <td>3</td>\n",
       "      <td>0.00</td>\n",
       "      <td>219.5820</td>\n",
       "    </tr>\n",
       "    <tr>\n",
       "      <th>2</th>\n",
       "      <td>3</td>\n",
       "      <td>CA-2016-138688</td>\n",
       "      <td>2016-06-12</td>\n",
       "      <td>2016-06-16</td>\n",
       "      <td>Second Class</td>\n",
       "      <td>DV-13045</td>\n",
       "      <td>Darrin Van Huff</td>\n",
       "      <td>Corporate</td>\n",
       "      <td>Los Angeles</td>\n",
       "      <td>California</td>\n",
       "      <td>West</td>\n",
       "      <td>OFF-LA-10000240</td>\n",
       "      <td>Office Supplies</td>\n",
       "      <td>Labels</td>\n",
       "      <td>Self-Adhesive Address Labels for Typewriters b...</td>\n",
       "      <td>14.6200</td>\n",
       "      <td>2</td>\n",
       "      <td>0.00</td>\n",
       "      <td>6.8714</td>\n",
       "    </tr>\n",
       "    <tr>\n",
       "      <th>3</th>\n",
       "      <td>4</td>\n",
       "      <td>US-2015-108966</td>\n",
       "      <td>2015-10-11</td>\n",
       "      <td>2015-10-18</td>\n",
       "      <td>Standard Class</td>\n",
       "      <td>SO-20335</td>\n",
       "      <td>Sean O'Donnell</td>\n",
       "      <td>Consumer</td>\n",
       "      <td>Fort Lauderdale</td>\n",
       "      <td>Florida</td>\n",
       "      <td>South</td>\n",
       "      <td>FUR-TA-10000577</td>\n",
       "      <td>Furniture</td>\n",
       "      <td>Tables</td>\n",
       "      <td>Bretford CR4500 Series Slim Rectangular Table</td>\n",
       "      <td>957.5775</td>\n",
       "      <td>5</td>\n",
       "      <td>0.45</td>\n",
       "      <td>-383.0310</td>\n",
       "    </tr>\n",
       "    <tr>\n",
       "      <th>4</th>\n",
       "      <td>5</td>\n",
       "      <td>US-2015-108966</td>\n",
       "      <td>2015-10-11</td>\n",
       "      <td>2015-10-18</td>\n",
       "      <td>Standard Class</td>\n",
       "      <td>SO-20335</td>\n",
       "      <td>Sean O'Donnell</td>\n",
       "      <td>Consumer</td>\n",
       "      <td>Fort Lauderdale</td>\n",
       "      <td>Florida</td>\n",
       "      <td>South</td>\n",
       "      <td>OFF-ST-10000760</td>\n",
       "      <td>Office Supplies</td>\n",
       "      <td>Storage</td>\n",
       "      <td>Eldon Fold 'N Roll Cart System</td>\n",
       "      <td>22.3680</td>\n",
       "      <td>2</td>\n",
       "      <td>0.20</td>\n",
       "      <td>2.5164</td>\n",
       "    </tr>\n",
       "  </tbody>\n",
       "</table>\n",
       "</div>"
      ],
      "text/plain": [
       "   Row ID        Order ID Order Date  Ship Date       Ship Mode Customer ID  \\\n",
       "0       1  CA-2016-152156 2016-11-08 2016-11-11    Second Class    CG-12520   \n",
       "1       2  CA-2016-152156 2016-11-08 2016-11-11    Second Class    CG-12520   \n",
       "2       3  CA-2016-138688 2016-06-12 2016-06-16    Second Class    DV-13045   \n",
       "3       4  US-2015-108966 2015-10-11 2015-10-18  Standard Class    SO-20335   \n",
       "4       5  US-2015-108966 2015-10-11 2015-10-18  Standard Class    SO-20335   \n",
       "\n",
       "     Customer Name    Segment             City       State Region  \\\n",
       "0      Claire Gute   Consumer        Henderson    Kentucky  South   \n",
       "1      Claire Gute   Consumer        Henderson    Kentucky  South   \n",
       "2  Darrin Van Huff  Corporate      Los Angeles  California   West   \n",
       "3   Sean O'Donnell   Consumer  Fort Lauderdale     Florida  South   \n",
       "4   Sean O'Donnell   Consumer  Fort Lauderdale     Florida  South   \n",
       "\n",
       "        Product ID         Category Sub-Category  \\\n",
       "0  FUR-BO-10001798        Furniture    Bookcases   \n",
       "1  FUR-CH-10000454        Furniture       Chairs   \n",
       "2  OFF-LA-10000240  Office Supplies       Labels   \n",
       "3  FUR-TA-10000577        Furniture       Tables   \n",
       "4  OFF-ST-10000760  Office Supplies      Storage   \n",
       "\n",
       "                                        Product Name     Sales  Quantity  \\\n",
       "0                  Bush Somerset Collection Bookcase  261.9600         2   \n",
       "1  Hon Deluxe Fabric Upholstered Stacking Chairs,...  731.9400         3   \n",
       "2  Self-Adhesive Address Labels for Typewriters b...   14.6200         2   \n",
       "3      Bretford CR4500 Series Slim Rectangular Table  957.5775         5   \n",
       "4                     Eldon Fold 'N Roll Cart System   22.3680         2   \n",
       "\n",
       "   Discount    Profit  \n",
       "0      0.00   41.9136  \n",
       "1      0.00  219.5820  \n",
       "2      0.00    6.8714  \n",
       "3      0.45 -383.0310  \n",
       "4      0.20    2.5164  "
      ]
     },
     "execution_count": 15,
     "metadata": {},
     "output_type": "execute_result"
    }
   ],
   "source": [
    "df.head()"
   ]
  },
  {
   "cell_type": "markdown",
   "metadata": {},
   "source": [
    "**Mô tả dữ liệu**"
   ]
  },
  {
   "attachments": {},
   "cell_type": "markdown",
   "metadata": {},
   "source": [
    "Tìm hiểu các cột có dữ liệu numerical"
   ]
  },
  {
   "cell_type": "code",
   "execution_count": 16,
   "metadata": {},
   "outputs": [
    {
     "data": {
      "text/html": [
       "<div>\n",
       "<style scoped>\n",
       "    .dataframe tbody tr th:only-of-type {\n",
       "        vertical-align: middle;\n",
       "    }\n",
       "\n",
       "    .dataframe tbody tr th {\n",
       "        vertical-align: top;\n",
       "    }\n",
       "\n",
       "    .dataframe thead th {\n",
       "        text-align: right;\n",
       "    }\n",
       "</style>\n",
       "<table border=\"1\" class=\"dataframe\">\n",
       "  <thead>\n",
       "    <tr style=\"text-align: right;\">\n",
       "      <th></th>\n",
       "      <th>Row ID</th>\n",
       "      <th>Sales</th>\n",
       "      <th>Quantity</th>\n",
       "      <th>Discount</th>\n",
       "      <th>Profit</th>\n",
       "    </tr>\n",
       "  </thead>\n",
       "  <tbody>\n",
       "    <tr>\n",
       "      <th>count</th>\n",
       "      <td>9994.000000</td>\n",
       "      <td>9994.000000</td>\n",
       "      <td>9994.000000</td>\n",
       "      <td>9994.000000</td>\n",
       "      <td>9994.000000</td>\n",
       "    </tr>\n",
       "    <tr>\n",
       "      <th>mean</th>\n",
       "      <td>4997.500000</td>\n",
       "      <td>229.858001</td>\n",
       "      <td>3.789574</td>\n",
       "      <td>0.156203</td>\n",
       "      <td>28.656896</td>\n",
       "    </tr>\n",
       "    <tr>\n",
       "      <th>std</th>\n",
       "      <td>2885.163629</td>\n",
       "      <td>623.245101</td>\n",
       "      <td>2.225110</td>\n",
       "      <td>0.206452</td>\n",
       "      <td>234.260108</td>\n",
       "    </tr>\n",
       "    <tr>\n",
       "      <th>min</th>\n",
       "      <td>1.000000</td>\n",
       "      <td>0.444000</td>\n",
       "      <td>1.000000</td>\n",
       "      <td>0.000000</td>\n",
       "      <td>-6599.978000</td>\n",
       "    </tr>\n",
       "    <tr>\n",
       "      <th>25%</th>\n",
       "      <td>2499.250000</td>\n",
       "      <td>17.280000</td>\n",
       "      <td>2.000000</td>\n",
       "      <td>0.000000</td>\n",
       "      <td>1.728750</td>\n",
       "    </tr>\n",
       "    <tr>\n",
       "      <th>50%</th>\n",
       "      <td>4997.500000</td>\n",
       "      <td>54.490000</td>\n",
       "      <td>3.000000</td>\n",
       "      <td>0.200000</td>\n",
       "      <td>8.666500</td>\n",
       "    </tr>\n",
       "    <tr>\n",
       "      <th>75%</th>\n",
       "      <td>7495.750000</td>\n",
       "      <td>209.940000</td>\n",
       "      <td>5.000000</td>\n",
       "      <td>0.200000</td>\n",
       "      <td>29.364000</td>\n",
       "    </tr>\n",
       "    <tr>\n",
       "      <th>max</th>\n",
       "      <td>9994.000000</td>\n",
       "      <td>22638.480000</td>\n",
       "      <td>14.000000</td>\n",
       "      <td>0.800000</td>\n",
       "      <td>8399.976000</td>\n",
       "    </tr>\n",
       "  </tbody>\n",
       "</table>\n",
       "</div>"
      ],
      "text/plain": [
       "            Row ID         Sales     Quantity     Discount       Profit\n",
       "count  9994.000000   9994.000000  9994.000000  9994.000000  9994.000000\n",
       "mean   4997.500000    229.858001     3.789574     0.156203    28.656896\n",
       "std    2885.163629    623.245101     2.225110     0.206452   234.260108\n",
       "min       1.000000      0.444000     1.000000     0.000000 -6599.978000\n",
       "25%    2499.250000     17.280000     2.000000     0.000000     1.728750\n",
       "50%    4997.500000     54.490000     3.000000     0.200000     8.666500\n",
       "75%    7495.750000    209.940000     5.000000     0.200000    29.364000\n",
       "max    9994.000000  22638.480000    14.000000     0.800000  8399.976000"
      ]
     },
     "execution_count": 16,
     "metadata": {},
     "output_type": "execute_result"
    }
   ],
   "source": [
    "df.describe()"
   ]
  },
  {
   "attachments": {},
   "cell_type": "markdown",
   "metadata": {},
   "source": [
    "- Số lượng sản phẩm cụ thể trong mỗi đơn hàng thường là 3\n",
    "- Mức giảm giá của các sản phẩm thường rơi vào mức 20%\n",
    "- Giá trị lợi nhuận của sản phẩm trong mỗi đơn hàng là khoảng 8.66 dollar"
   ]
  },
  {
   "attachments": {},
   "cell_type": "markdown",
   "metadata": {},
   "source": [
    "Tìm hiểu các cột có dữ liệu categorical"
   ]
  },
  {
   "cell_type": "code",
   "execution_count": 17,
   "metadata": {},
   "outputs": [
    {
     "data": {
      "text/html": [
       "<div>\n",
       "<style scoped>\n",
       "    .dataframe tbody tr th:only-of-type {\n",
       "        vertical-align: middle;\n",
       "    }\n",
       "\n",
       "    .dataframe tbody tr th {\n",
       "        vertical-align: top;\n",
       "    }\n",
       "\n",
       "    .dataframe thead th {\n",
       "        text-align: right;\n",
       "    }\n",
       "</style>\n",
       "<table border=\"1\" class=\"dataframe\">\n",
       "  <thead>\n",
       "    <tr style=\"text-align: right;\">\n",
       "      <th></th>\n",
       "      <th>Order ID</th>\n",
       "      <th>Ship Mode</th>\n",
       "      <th>Customer ID</th>\n",
       "      <th>Customer Name</th>\n",
       "      <th>Segment</th>\n",
       "      <th>City</th>\n",
       "      <th>State</th>\n",
       "      <th>Region</th>\n",
       "      <th>Product ID</th>\n",
       "      <th>Category</th>\n",
       "      <th>Sub-Category</th>\n",
       "      <th>Product Name</th>\n",
       "    </tr>\n",
       "  </thead>\n",
       "  <tbody>\n",
       "    <tr>\n",
       "      <th>count</th>\n",
       "      <td>9994</td>\n",
       "      <td>9994</td>\n",
       "      <td>9994</td>\n",
       "      <td>9994</td>\n",
       "      <td>9994</td>\n",
       "      <td>9994</td>\n",
       "      <td>9994</td>\n",
       "      <td>9994</td>\n",
       "      <td>9994</td>\n",
       "      <td>9994</td>\n",
       "      <td>9994</td>\n",
       "      <td>9994</td>\n",
       "    </tr>\n",
       "    <tr>\n",
       "      <th>unique</th>\n",
       "      <td>5009</td>\n",
       "      <td>4</td>\n",
       "      <td>793</td>\n",
       "      <td>793</td>\n",
       "      <td>3</td>\n",
       "      <td>531</td>\n",
       "      <td>49</td>\n",
       "      <td>4</td>\n",
       "      <td>1862</td>\n",
       "      <td>3</td>\n",
       "      <td>17</td>\n",
       "      <td>1850</td>\n",
       "    </tr>\n",
       "    <tr>\n",
       "      <th>top</th>\n",
       "      <td>CA-2017-100111</td>\n",
       "      <td>Standard Class</td>\n",
       "      <td>WB-21850</td>\n",
       "      <td>William Brown</td>\n",
       "      <td>Consumer</td>\n",
       "      <td>New York City</td>\n",
       "      <td>California</td>\n",
       "      <td>West</td>\n",
       "      <td>OFF-PA-10001970</td>\n",
       "      <td>Office Supplies</td>\n",
       "      <td>Binders</td>\n",
       "      <td>Staple envelope</td>\n",
       "    </tr>\n",
       "    <tr>\n",
       "      <th>freq</th>\n",
       "      <td>14</td>\n",
       "      <td>5968</td>\n",
       "      <td>37</td>\n",
       "      <td>37</td>\n",
       "      <td>5191</td>\n",
       "      <td>915</td>\n",
       "      <td>2001</td>\n",
       "      <td>3203</td>\n",
       "      <td>19</td>\n",
       "      <td>6026</td>\n",
       "      <td>1523</td>\n",
       "      <td>48</td>\n",
       "    </tr>\n",
       "  </tbody>\n",
       "</table>\n",
       "</div>"
      ],
      "text/plain": [
       "              Order ID       Ship Mode Customer ID  Customer Name   Segment  \\\n",
       "count             9994            9994        9994           9994      9994   \n",
       "unique            5009               4         793            793         3   \n",
       "top     CA-2017-100111  Standard Class    WB-21850  William Brown  Consumer   \n",
       "freq                14            5968          37             37      5191   \n",
       "\n",
       "                 City       State Region       Product ID         Category  \\\n",
       "count            9994        9994   9994             9994             9994   \n",
       "unique            531          49      4             1862                3   \n",
       "top     New York City  California   West  OFF-PA-10001970  Office Supplies   \n",
       "freq              915        2001   3203               19             6026   \n",
       "\n",
       "       Sub-Category     Product Name  \n",
       "count          9994             9994  \n",
       "unique           17             1850  \n",
       "top         Binders  Staple envelope  \n",
       "freq           1523               48  "
      ]
     },
     "execution_count": 17,
     "metadata": {},
     "output_type": "execute_result"
    }
   ],
   "source": [
    "cat_features = [f for f in df.columns if(df[f].dtype=='O')]\n",
    "tmp = df[cat_features].describe()\n",
    "\n",
    "tmp"
   ]
  },
  {
   "cell_type": "code",
   "execution_count": 18,
   "metadata": {},
   "outputs": [
    {
     "name": "stdout",
     "output_type": "stream",
     "text": [
      "Percent of Standard Class orders of total orders: 59.71582949769862\n",
      "Percent of William Brown's orders of total orders: 0.370222133279968\n",
      "Percent of Consumer orders of total orders: 51.94116469881929\n",
      "Percent of orders in New York of total orders: 9.155493295977587\n",
      "Percent of orders are Office Supplies of total orders: 60.29617770662397\n",
      "Percent of orders are Binders of total orders: 15.239143486091654\n",
      "Percent of orders include Staple envelope of total orders: 0.48028817290374226\n"
     ]
    }
   ],
   "source": [
    "print('Percent of Standard Class orders of total orders: ' + str(tmp.loc['freq', 'Ship Mode'] * 100 / tmp.loc['count', 'Ship Mode']))\n",
    "print(\"Percent of William Brown's orders of total orders: \" + str(tmp.loc['freq', 'Customer Name'] * 100 / tmp.loc['count', 'Customer Name']))\n",
    "print(\"Percent of Consumer orders of total orders: \" + str(tmp.loc['freq', 'Segment'] * 100 / tmp.loc['count', 'Segment']))\n",
    "print(\"Percent of orders in New York of total orders: \" + str(tmp.loc['freq', 'City'] * 100 / tmp.loc['count', 'City']))\n",
    "print(\"Percent of orders are Office Supplies of total orders: \" + str(tmp.loc['freq', 'Category'] * 100 / tmp.loc['count', 'Category']))\n",
    "print(\"Percent of orders are Binders of total orders: \" + str(tmp.loc['freq', 'Sub-Category'] * 100 / tmp.loc['count', 'Sub-Category']))\n",
    "print(\"Percent of orders include Staple envelope of total orders: \" + str(tmp.loc['freq', 'Product Name'] * 100 / tmp.loc['count', 'Product Name']))"
   ]
  },
  {
   "attachments": {},
   "cell_type": "markdown",
   "metadata": {},
   "source": [
    "- **Standard Class** là lựa chọn nhiều nhất của khách hàng khi chọn dịch vụ giao hàng chiếm gần 60% tổng số đơn hàng\n",
    "- Người mua hàng nhiều nhất tên là **William Brown** với 37 lần mua hàng trên nền tảng này, chiếm 0.37% tổng số đơn hàng\n",
    "- Thành phố **New York** có số lượng đơn hàng nhiều nhất chiếm gần 9.2% tổng số đơn hàng\n",
    "- Các đơn hàng thuộc loại **Office Supplies** chiếm khoảng 60% tổng số đơn hàng\n",
    "- Các đơn hàng thuộc loại cụ thể  **Binders** chiếm khoảng 15.2% tổng số đơn hàng\n",
    "- Đơn hàng có các **Staple envelope** được mua nhiều nhất với 0.48% tổng số đơn hàng"
   ]
  },
  {
   "cell_type": "markdown",
   "metadata": {},
   "source": [
    "## Hàm tiện ích ##"
   ]
  },
  {
   "cell_type": "code",
   "execution_count": 19,
   "metadata": {},
   "outputs": [],
   "source": [
    "# Helper Function For Visualization\n",
    "def Viz_Bar(df1 , cx , cy ,t='',rot=\"horizontal\" , x=True ):\n",
    "    if(x is False):\n",
    "        plt.rcdefaults()\n",
    "        fig, ax = plt.subplots()\n",
    "        ax.barh(df1.head(10)[cx], df1.head(10)[cy], align='center', color=['#F05454','#30475E' ,'#1f77b4', '#ff7f0e', '#2ca02c', '#d62728', '#9467bd', '#8c564b', '#e377c2', '#7f7f7f', '#bcbd22', '#17becf'] )\n",
    "        ax.set_yticks(df1.head(10)[cx], labels=df1.head(10)[cx])\n",
    "        ax.invert_yaxis()  # labels read top-to-bottom\n",
    "        ax.set_xlabel(cy)\n",
    "        ax.set_title(t)\n",
    "        plt.xticks(rotation = rot)\n",
    "        plt.show()\n",
    "    else :\n",
    "        plt.bar(df1.head(10)[cx] ,df1.head(10)[cy] ,  color=['#F05454','#30475E' ,'#1f77b4', '#ff7f0e', '#2ca02c', '#d62728', '#9467bd', '#8c564b', '#e377c2', '#7f7f7f', '#bcbd22', '#17becf'] )\n",
    "        plt.xlabel(cx)\n",
    "        plt.ylabel(cy)\n",
    "        plt.title(t)\n",
    "        plt.xticks(rotation = rot)\n",
    "        plt.show()\n",
    "        "
   ]
  },
  {
   "attachments": {},
   "cell_type": "markdown",
   "metadata": {},
   "source": [
    "## Đưa ra câu hỏi và câu trả lời\n",
    "\n",
    "**Câu 1:** Sự khác nhau về doanh số của các hạng mục giữa các vùng miền của nước Mỹ?\n",
    "\n",
    "**Câu 2:** Số lượng lượt mua sắm ở mỗi bang khác nhau như thế nào?\n",
    "\n",
    "**Câu 3:** Số lượng các sản phẩm bán ra của mỗi danh mục qua từng năm tăng giảm như thế nào?\n",
    "\n",
    "**Câu 4:** Hãy phân tích về các loại sản phẩm được bán ở siêu thị này dựa trên các yếu tố: sales, profit, quantity,...\n",
    "\n",
    "**Câu 5:** Hãy phân tích về các sự kiện discount của cửa hàng và mối liên hệ giữa Discount và các yếu tố khác.\n",
    "\n",
    "**Câu 6:** Quan sát và đánh giá về khách hàng.\n",
    "\n",
    "**Câu 7:** Phân tích mối quan hệ giữa khách hàng và khu vực sinh sống.\n",
    "\n",
    "**Câu 8:** Phân tích mối quan hệ giữa lợi nhuận và doanh thu.\n",
    "\n",
    "**Câu 9:** Các sub-category thường xuyên được mua chung của các đơn hàng có hơn hoặc bằng 2 sản phẩm\n"
   ]
  },
  {
   "cell_type": "markdown",
   "metadata": {},
   "source": [
    "## Câu hỏi 1:\n",
    "\n",
    "**Nội dung câu hỏi:** Sự khác nhau về doanh số của các hạng mục giữa các vùng miền của nước Mỹ?\n",
    "\n",
    "\n",
    "**Loại biểu đồ sử dụng:** Tree Map\n",
    "\n",
    "**Tính phù hợp của biểu đồ với dữ liệu:** TreeMap là một loại biểu đồ thống kê hiển thị dữ liệu dưới dạng các hình chữ nhật có diện tích khác nhau, trong đó độ lớn của hình chữ nhật sẽ đại diện cho giá trị lượng của một biến. Ta sẽ biểu tổng doanh số ở mỗi hạng mục sản phẩm bằng diện tích các hình chữ nhật theo từng vùng miền (vùng trung tâm, miền đông, miền tây, miền nam). Bằng cách này ta có thể dễ dàng so sánh tỉ lệ doanh thu giữa các hạng mục sản phẩm và giữa các vùng miền với nhau.\n",
    "\n",
    "**Trực quan hóa:**"
   ]
  },
  {
   "cell_type": "code",
   "execution_count": 20,
   "metadata": {},
   "outputs": [],
   "source": [
    "plot_df=df.groupby([\"Region\",\"Category\"])[\"Sales\"].sum().reset_index()"
   ]
  },
  {
   "cell_type": "code",
   "execution_count": 21,
   "metadata": {},
   "outputs": [
    {
     "data": {
      "application/vnd.plotly.v1+json": {
       "config": {
        "plotlyServerURL": "https://plot.ly"
       },
       "data": [
        {
         "branchvalues": "total",
         "domain": {
          "x": [
           0,
           1
          ],
          "y": [
           0,
           1
          ]
         },
         "hovertemplate": "labels=%{label}<br>Sales=%{value}<br>parent=%{parent}<br>id=%{id}<extra></extra>",
         "ids": [
          "South/Furniture/117298.684",
          "South/Office Supplies/125651.313",
          "South/Technology/148771.908",
          "Central/Furniture/163797.1638",
          "Central/Office Supplies/167026.415",
          "Central/Technology/170416.312",
          "East/Office Supplies/205516.055",
          "East/Furniture/208291.204",
          "West/Office Supplies/220853.249",
          "West/Technology/251991.832",
          "West/Furniture/252612.7435",
          "East/Technology/264973.981",
          "Central/Furniture",
          "East/Furniture",
          "South/Furniture",
          "West/Furniture",
          "Central/Office Supplies",
          "East/Office Supplies",
          "South/Office Supplies",
          "West/Office Supplies",
          "Central/Technology",
          "East/Technology",
          "South/Technology",
          "West/Technology",
          "Central",
          "East",
          "South",
          "West"
         ],
         "labels": [
          "117298.684",
          "125651.313",
          "148771.908",
          "163797.1638",
          "167026.415",
          "170416.312",
          "205516.055",
          "208291.204",
          "220853.249",
          "251991.832",
          "252612.7435",
          "264973.981",
          "Furniture",
          "Furniture",
          "Furniture",
          "Furniture",
          "Office Supplies",
          "Office Supplies",
          "Office Supplies",
          "Office Supplies",
          "Technology",
          "Technology",
          "Technology",
          "Technology",
          "Central",
          "East",
          "South",
          "West"
         ],
         "name": "",
         "parents": [
          "South/Furniture",
          "South/Office Supplies",
          "South/Technology",
          "Central/Furniture",
          "Central/Office Supplies",
          "Central/Technology",
          "East/Office Supplies",
          "East/Furniture",
          "West/Office Supplies",
          "West/Technology",
          "West/Furniture",
          "East/Technology",
          "Central",
          "East",
          "South",
          "West",
          "Central",
          "East",
          "South",
          "West",
          "Central",
          "East",
          "South",
          "West",
          "",
          "",
          "",
          ""
         ],
         "type": "treemap",
         "values": [
          117298.684,
          125651.313,
          148771.908,
          163797.1638,
          167026.415,
          170416.312,
          205516.055,
          208291.204,
          220853.249,
          251991.832,
          252612.7435,
          264973.981,
          163797.1638,
          208291.204,
          117298.684,
          252612.7435,
          167026.415,
          205516.055,
          125651.313,
          220853.249,
          170416.312,
          264973.981,
          148771.908,
          251991.832,
          501239.89080000005,
          678781.24,
          391721.90499999997,
          725457.8245
         ]
        }
       ],
       "layout": {
        "height": 600,
        "legend": {
         "tracegroupgap": 0
        },
        "margin": {
         "t": 130
        },
        "paper_bgcolor": "#DDF7E6",
        "plot_bgcolor": "#FFF1D7",
        "template": {
         "data": {
          "bar": [
           {
            "error_x": {
             "color": "rgb(36,36,36)"
            },
            "error_y": {
             "color": "rgb(36,36,36)"
            },
            "marker": {
             "line": {
              "color": "white",
              "width": 0.5
             },
             "pattern": {
              "fillmode": "overlay",
              "size": 10,
              "solidity": 0.2
             }
            },
            "type": "bar"
           }
          ],
          "barpolar": [
           {
            "marker": {
             "line": {
              "color": "white",
              "width": 0.5
             },
             "pattern": {
              "fillmode": "overlay",
              "size": 10,
              "solidity": 0.2
             }
            },
            "type": "barpolar"
           }
          ],
          "carpet": [
           {
            "aaxis": {
             "endlinecolor": "rgb(36,36,36)",
             "gridcolor": "white",
             "linecolor": "white",
             "minorgridcolor": "white",
             "startlinecolor": "rgb(36,36,36)"
            },
            "baxis": {
             "endlinecolor": "rgb(36,36,36)",
             "gridcolor": "white",
             "linecolor": "white",
             "minorgridcolor": "white",
             "startlinecolor": "rgb(36,36,36)"
            },
            "type": "carpet"
           }
          ],
          "choropleth": [
           {
            "colorbar": {
             "outlinewidth": 1,
             "tickcolor": "rgb(36,36,36)",
             "ticks": "outside"
            },
            "type": "choropleth"
           }
          ],
          "contour": [
           {
            "colorbar": {
             "outlinewidth": 1,
             "tickcolor": "rgb(36,36,36)",
             "ticks": "outside"
            },
            "colorscale": [
             [
              0,
              "#440154"
             ],
             [
              0.1111111111111111,
              "#482878"
             ],
             [
              0.2222222222222222,
              "#3e4989"
             ],
             [
              0.3333333333333333,
              "#31688e"
             ],
             [
              0.4444444444444444,
              "#26828e"
             ],
             [
              0.5555555555555556,
              "#1f9e89"
             ],
             [
              0.6666666666666666,
              "#35b779"
             ],
             [
              0.7777777777777778,
              "#6ece58"
             ],
             [
              0.8888888888888888,
              "#b5de2b"
             ],
             [
              1,
              "#fde725"
             ]
            ],
            "type": "contour"
           }
          ],
          "contourcarpet": [
           {
            "colorbar": {
             "outlinewidth": 1,
             "tickcolor": "rgb(36,36,36)",
             "ticks": "outside"
            },
            "type": "contourcarpet"
           }
          ],
          "heatmap": [
           {
            "colorbar": {
             "outlinewidth": 1,
             "tickcolor": "rgb(36,36,36)",
             "ticks": "outside"
            },
            "colorscale": [
             [
              0,
              "#440154"
             ],
             [
              0.1111111111111111,
              "#482878"
             ],
             [
              0.2222222222222222,
              "#3e4989"
             ],
             [
              0.3333333333333333,
              "#31688e"
             ],
             [
              0.4444444444444444,
              "#26828e"
             ],
             [
              0.5555555555555556,
              "#1f9e89"
             ],
             [
              0.6666666666666666,
              "#35b779"
             ],
             [
              0.7777777777777778,
              "#6ece58"
             ],
             [
              0.8888888888888888,
              "#b5de2b"
             ],
             [
              1,
              "#fde725"
             ]
            ],
            "type": "heatmap"
           }
          ],
          "heatmapgl": [
           {
            "colorbar": {
             "outlinewidth": 1,
             "tickcolor": "rgb(36,36,36)",
             "ticks": "outside"
            },
            "colorscale": [
             [
              0,
              "#440154"
             ],
             [
              0.1111111111111111,
              "#482878"
             ],
             [
              0.2222222222222222,
              "#3e4989"
             ],
             [
              0.3333333333333333,
              "#31688e"
             ],
             [
              0.4444444444444444,
              "#26828e"
             ],
             [
              0.5555555555555556,
              "#1f9e89"
             ],
             [
              0.6666666666666666,
              "#35b779"
             ],
             [
              0.7777777777777778,
              "#6ece58"
             ],
             [
              0.8888888888888888,
              "#b5de2b"
             ],
             [
              1,
              "#fde725"
             ]
            ],
            "type": "heatmapgl"
           }
          ],
          "histogram": [
           {
            "marker": {
             "line": {
              "color": "white",
              "width": 0.6
             }
            },
            "type": "histogram"
           }
          ],
          "histogram2d": [
           {
            "colorbar": {
             "outlinewidth": 1,
             "tickcolor": "rgb(36,36,36)",
             "ticks": "outside"
            },
            "colorscale": [
             [
              0,
              "#440154"
             ],
             [
              0.1111111111111111,
              "#482878"
             ],
             [
              0.2222222222222222,
              "#3e4989"
             ],
             [
              0.3333333333333333,
              "#31688e"
             ],
             [
              0.4444444444444444,
              "#26828e"
             ],
             [
              0.5555555555555556,
              "#1f9e89"
             ],
             [
              0.6666666666666666,
              "#35b779"
             ],
             [
              0.7777777777777778,
              "#6ece58"
             ],
             [
              0.8888888888888888,
              "#b5de2b"
             ],
             [
              1,
              "#fde725"
             ]
            ],
            "type": "histogram2d"
           }
          ],
          "histogram2dcontour": [
           {
            "colorbar": {
             "outlinewidth": 1,
             "tickcolor": "rgb(36,36,36)",
             "ticks": "outside"
            },
            "colorscale": [
             [
              0,
              "#440154"
             ],
             [
              0.1111111111111111,
              "#482878"
             ],
             [
              0.2222222222222222,
              "#3e4989"
             ],
             [
              0.3333333333333333,
              "#31688e"
             ],
             [
              0.4444444444444444,
              "#26828e"
             ],
             [
              0.5555555555555556,
              "#1f9e89"
             ],
             [
              0.6666666666666666,
              "#35b779"
             ],
             [
              0.7777777777777778,
              "#6ece58"
             ],
             [
              0.8888888888888888,
              "#b5de2b"
             ],
             [
              1,
              "#fde725"
             ]
            ],
            "type": "histogram2dcontour"
           }
          ],
          "mesh3d": [
           {
            "colorbar": {
             "outlinewidth": 1,
             "tickcolor": "rgb(36,36,36)",
             "ticks": "outside"
            },
            "type": "mesh3d"
           }
          ],
          "parcoords": [
           {
            "line": {
             "colorbar": {
              "outlinewidth": 1,
              "tickcolor": "rgb(36,36,36)",
              "ticks": "outside"
             }
            },
            "type": "parcoords"
           }
          ],
          "pie": [
           {
            "automargin": true,
            "type": "pie"
           }
          ],
          "scatter": [
           {
            "fillpattern": {
             "fillmode": "overlay",
             "size": 10,
             "solidity": 0.2
            },
            "type": "scatter"
           }
          ],
          "scatter3d": [
           {
            "line": {
             "colorbar": {
              "outlinewidth": 1,
              "tickcolor": "rgb(36,36,36)",
              "ticks": "outside"
             }
            },
            "marker": {
             "colorbar": {
              "outlinewidth": 1,
              "tickcolor": "rgb(36,36,36)",
              "ticks": "outside"
             }
            },
            "type": "scatter3d"
           }
          ],
          "scattercarpet": [
           {
            "marker": {
             "colorbar": {
              "outlinewidth": 1,
              "tickcolor": "rgb(36,36,36)",
              "ticks": "outside"
             }
            },
            "type": "scattercarpet"
           }
          ],
          "scattergeo": [
           {
            "marker": {
             "colorbar": {
              "outlinewidth": 1,
              "tickcolor": "rgb(36,36,36)",
              "ticks": "outside"
             }
            },
            "type": "scattergeo"
           }
          ],
          "scattergl": [
           {
            "marker": {
             "colorbar": {
              "outlinewidth": 1,
              "tickcolor": "rgb(36,36,36)",
              "ticks": "outside"
             }
            },
            "type": "scattergl"
           }
          ],
          "scattermapbox": [
           {
            "marker": {
             "colorbar": {
              "outlinewidth": 1,
              "tickcolor": "rgb(36,36,36)",
              "ticks": "outside"
             }
            },
            "type": "scattermapbox"
           }
          ],
          "scatterpolar": [
           {
            "marker": {
             "colorbar": {
              "outlinewidth": 1,
              "tickcolor": "rgb(36,36,36)",
              "ticks": "outside"
             }
            },
            "type": "scatterpolar"
           }
          ],
          "scatterpolargl": [
           {
            "marker": {
             "colorbar": {
              "outlinewidth": 1,
              "tickcolor": "rgb(36,36,36)",
              "ticks": "outside"
             }
            },
            "type": "scatterpolargl"
           }
          ],
          "scatterternary": [
           {
            "marker": {
             "colorbar": {
              "outlinewidth": 1,
              "tickcolor": "rgb(36,36,36)",
              "ticks": "outside"
             }
            },
            "type": "scatterternary"
           }
          ],
          "surface": [
           {
            "colorbar": {
             "outlinewidth": 1,
             "tickcolor": "rgb(36,36,36)",
             "ticks": "outside"
            },
            "colorscale": [
             [
              0,
              "#440154"
             ],
             [
              0.1111111111111111,
              "#482878"
             ],
             [
              0.2222222222222222,
              "#3e4989"
             ],
             [
              0.3333333333333333,
              "#31688e"
             ],
             [
              0.4444444444444444,
              "#26828e"
             ],
             [
              0.5555555555555556,
              "#1f9e89"
             ],
             [
              0.6666666666666666,
              "#35b779"
             ],
             [
              0.7777777777777778,
              "#6ece58"
             ],
             [
              0.8888888888888888,
              "#b5de2b"
             ],
             [
              1,
              "#fde725"
             ]
            ],
            "type": "surface"
           }
          ],
          "table": [
           {
            "cells": {
             "fill": {
              "color": "rgb(237,237,237)"
             },
             "line": {
              "color": "white"
             }
            },
            "header": {
             "fill": {
              "color": "rgb(217,217,217)"
             },
             "line": {
              "color": "white"
             }
            },
            "type": "table"
           }
          ]
         },
         "layout": {
          "annotationdefaults": {
           "arrowhead": 0,
           "arrowwidth": 1
          },
          "autotypenumbers": "strict",
          "coloraxis": {
           "colorbar": {
            "outlinewidth": 1,
            "tickcolor": "rgb(36,36,36)",
            "ticks": "outside"
           }
          },
          "colorscale": {
           "diverging": [
            [
             0,
             "rgb(103,0,31)"
            ],
            [
             0.1,
             "rgb(178,24,43)"
            ],
            [
             0.2,
             "rgb(214,96,77)"
            ],
            [
             0.3,
             "rgb(244,165,130)"
            ],
            [
             0.4,
             "rgb(253,219,199)"
            ],
            [
             0.5,
             "rgb(247,247,247)"
            ],
            [
             0.6,
             "rgb(209,229,240)"
            ],
            [
             0.7,
             "rgb(146,197,222)"
            ],
            [
             0.8,
             "rgb(67,147,195)"
            ],
            [
             0.9,
             "rgb(33,102,172)"
            ],
            [
             1,
             "rgb(5,48,97)"
            ]
           ],
           "sequential": [
            [
             0,
             "#440154"
            ],
            [
             0.1111111111111111,
             "#482878"
            ],
            [
             0.2222222222222222,
             "#3e4989"
            ],
            [
             0.3333333333333333,
             "#31688e"
            ],
            [
             0.4444444444444444,
             "#26828e"
            ],
            [
             0.5555555555555556,
             "#1f9e89"
            ],
            [
             0.6666666666666666,
             "#35b779"
            ],
            [
             0.7777777777777778,
             "#6ece58"
            ],
            [
             0.8888888888888888,
             "#b5de2b"
            ],
            [
             1,
             "#fde725"
            ]
           ],
           "sequentialminus": [
            [
             0,
             "#440154"
            ],
            [
             0.1111111111111111,
             "#482878"
            ],
            [
             0.2222222222222222,
             "#3e4989"
            ],
            [
             0.3333333333333333,
             "#31688e"
            ],
            [
             0.4444444444444444,
             "#26828e"
            ],
            [
             0.5555555555555556,
             "#1f9e89"
            ],
            [
             0.6666666666666666,
             "#35b779"
            ],
            [
             0.7777777777777778,
             "#6ece58"
            ],
            [
             0.8888888888888888,
             "#b5de2b"
            ],
            [
             1,
             "#fde725"
            ]
           ]
          },
          "colorway": [
           "#1F77B4",
           "#FF7F0E",
           "#2CA02C",
           "#D62728",
           "#9467BD",
           "#8C564B",
           "#E377C2",
           "#7F7F7F",
           "#BCBD22",
           "#17BECF"
          ],
          "font": {
           "color": "rgb(36,36,36)"
          },
          "geo": {
           "bgcolor": "white",
           "lakecolor": "white",
           "landcolor": "white",
           "showlakes": true,
           "showland": true,
           "subunitcolor": "white"
          },
          "hoverlabel": {
           "align": "left"
          },
          "hovermode": "closest",
          "mapbox": {
           "style": "light"
          },
          "paper_bgcolor": "white",
          "plot_bgcolor": "white",
          "polar": {
           "angularaxis": {
            "gridcolor": "rgb(232,232,232)",
            "linecolor": "rgb(36,36,36)",
            "showgrid": false,
            "showline": true,
            "ticks": "outside"
           },
           "bgcolor": "white",
           "radialaxis": {
            "gridcolor": "rgb(232,232,232)",
            "linecolor": "rgb(36,36,36)",
            "showgrid": false,
            "showline": true,
            "ticks": "outside"
           }
          },
          "scene": {
           "xaxis": {
            "backgroundcolor": "white",
            "gridcolor": "rgb(232,232,232)",
            "gridwidth": 2,
            "linecolor": "rgb(36,36,36)",
            "showbackground": true,
            "showgrid": false,
            "showline": true,
            "ticks": "outside",
            "zeroline": false,
            "zerolinecolor": "rgb(36,36,36)"
           },
           "yaxis": {
            "backgroundcolor": "white",
            "gridcolor": "rgb(232,232,232)",
            "gridwidth": 2,
            "linecolor": "rgb(36,36,36)",
            "showbackground": true,
            "showgrid": false,
            "showline": true,
            "ticks": "outside",
            "zeroline": false,
            "zerolinecolor": "rgb(36,36,36)"
           },
           "zaxis": {
            "backgroundcolor": "white",
            "gridcolor": "rgb(232,232,232)",
            "gridwidth": 2,
            "linecolor": "rgb(36,36,36)",
            "showbackground": true,
            "showgrid": false,
            "showline": true,
            "ticks": "outside",
            "zeroline": false,
            "zerolinecolor": "rgb(36,36,36)"
           }
          },
          "shapedefaults": {
           "fillcolor": "black",
           "line": {
            "width": 0
           },
           "opacity": 0.3
          },
          "ternary": {
           "aaxis": {
            "gridcolor": "rgb(232,232,232)",
            "linecolor": "rgb(36,36,36)",
            "showgrid": false,
            "showline": true,
            "ticks": "outside"
           },
           "baxis": {
            "gridcolor": "rgb(232,232,232)",
            "linecolor": "rgb(36,36,36)",
            "showgrid": false,
            "showline": true,
            "ticks": "outside"
           },
           "bgcolor": "white",
           "caxis": {
            "gridcolor": "rgb(232,232,232)",
            "linecolor": "rgb(36,36,36)",
            "showgrid": false,
            "showline": true,
            "ticks": "outside"
           }
          },
          "title": {
           "x": 0.05
          },
          "xaxis": {
           "automargin": true,
           "gridcolor": "rgb(232,232,232)",
           "linecolor": "rgb(36,36,36)",
           "showgrid": false,
           "showline": true,
           "ticks": "outside",
           "title": {
            "standoff": 15
           },
           "zeroline": false,
           "zerolinecolor": "rgb(36,36,36)"
          },
          "yaxis": {
           "automargin": true,
           "gridcolor": "rgb(232,232,232)",
           "linecolor": "rgb(36,36,36)",
           "showgrid": false,
           "showline": true,
           "ticks": "outside",
           "title": {
            "standoff": 15
           },
           "zeroline": false,
           "zerolinecolor": "rgb(36,36,36)"
          }
         }
        },
        "title": {
         "font": {
          "family": "Franklin Gothic",
          "size": 25
         },
         "text": "Sales by categories in the US regions",
         "x": 0.5,
         "y": 0.85
        },
        "treemapcolorway": [
         "#C44B6E",
         "#5F8D37",
         "#F7AD45",
         "#97D0D7"
        ],
        "width": 1000
       }
      }
     },
     "metadata": {},
     "output_type": "display_data"
    }
   ],
   "source": [
    "fig = px.treemap(plot_df,\n",
    "                 path = ['Region','Category','Sales'],\n",
    "                 values = 'Sales')\n",
    "\n",
    "fig.update_layout(title={'text': \"Sales by categories in the US regions\",'y':0.85,'x':0.5},\n",
    "                  titlefont = dict(size = 25, family=\"Franklin Gothic\"),\n",
    "                  template='simple_white',\n",
    "                  paper_bgcolor='#DDF7E6',\n",
    "                  plot_bgcolor='#FFF1D7',\n",
    "                  treemapcolorway = [\"#C44B6E\",'#5F8D37', \"#F7AD45\",\"#97D0D7\"],\n",
    "                  height = 600,\n",
    "                  width = 1000,\n",
    "                  margin=dict(t=130 ,))\n",
    "fig.show()"
   ]
  },
  {
   "cell_type": "markdown",
   "metadata": {},
   "source": [
    "Nhận xét:\n",
    "\n",
    "Xếp hạng tổng doanh số các vùng miền như sau: West > East > Central > South.\n",
    "\n",
    "Sản phẩm về công nghệ (Technology) có doanh số cao hơn các doanh mục sản phẩm khác tại miền Tây, miền Nam và vùng trung tâm."
   ]
  },
  {
   "cell_type": "markdown",
   "metadata": {},
   "source": [
    "## Câu hỏi 2:\n",
    "\n",
    "**Nội dung câu hỏi:** Số lượng lượt mua sắm ở mỗi bang khác nhau như thế nào?\n",
    "\n",
    "**Loại biểu đồ sử dụng:** Chorolepth map\n",
    "\n",
    "**Tính phù hợp của biểu đồ với dữ liệu:** Dữ liệu để trả lời cho câu hỏi này gồm có 2 loại đó là: dạng số (tổng số lượng lượt mua sắm) và vị trí (các bang của nước Mỹ). Dùng biểu đồ Chorolepth giúp dễ dàng so sánh tổng số lượng lượt mua sắm giữa các khu vực. Biểu đồ choropleth thể hiện giá trị dữ liệu theo mức độ màu sắc. Điều này cho phép người sử dụng dễ dàng so sánh giá trị dữ liệu giữa các khu vực.\n",
    "\n",
    "**Trực quan hóa:**"
   ]
  },
  {
   "cell_type": "code",
   "execution_count": 22,
   "metadata": {},
   "outputs": [],
   "source": [
    "#Xử lý dữ liệu\n",
    "State_code = {\n",
    "    \"Alabama\": \"AL\",\n",
    "    \"Alaska\": \"AK\",\n",
    "    \"Arizona\": \"AZ\",\n",
    "    \"Arkansas\": \"AR\",\n",
    "    \"California\": \"CA\",\n",
    "    \"Colorado\": \"CO\",\n",
    "    \"Connecticut\": \"CT\",\n",
    "    \"Delaware\": \"DE\",\n",
    "    \"Florida\": \"FL\",\n",
    "    \"Georgia\": \"GA\",\n",
    "    \"Hawaii\": \"HI\",\n",
    "    \"Idaho\": \"ID\",\n",
    "    \"Illinois\": \"IL\",\n",
    "    \"Indiana\": \"IN\",\n",
    "    \"Iowa\": \"IA\",\n",
    "    \"Kansas\": \"KS\",\n",
    "    \"Kentucky\": \"KY\",\n",
    "    \"Louisiana\": \"LA\",\n",
    "    \"Maine\": \"ME\",\n",
    "    \"Maryland\": \"MD\",\n",
    "    \"Massachusetts\": \"MA\",\n",
    "    \"Michigan\": \"MI\",\n",
    "    \"Minnesota\": \"MN\",\n",
    "    \"Mississippi\": \"MS\",\n",
    "    \"Missouri\": \"MO\",\n",
    "    \"Montana\": \"MT\",\n",
    "    \"Nebraska\": \"NE\",\n",
    "    \"Nevada\": \"NV\",\n",
    "    \"New Hampshire\": \"NH\",\n",
    "    \"New Jersey\": \"NJ\",\n",
    "    \"New Mexico\": \"NM\",\n",
    "    \"New York\": \"NY\",\n",
    "    \"North Carolina\": \"NC\",\n",
    "    \"North Dakota\": \"ND\",\n",
    "    \"Ohio\": \"OH\",\n",
    "    \"Oklahoma\": \"OK\",\n",
    "    \"Oregon\": \"OR\",\n",
    "    \"Pennsylvania\": \"PA\",\n",
    "    \"Rhode Island\": \"RI\",\n",
    "    \"South Carolina\": \"SC\",\n",
    "    \"South Dakota\": \"SD\",\n",
    "    \"Tennessee\": \"TN\",\n",
    "    \"Texas\": \"TX\",\n",
    "    \"Utah\": \"UT\",\n",
    "    \"Vermont\": \"VT\",\n",
    "    \"Virginia\": \"VA\",\n",
    "    \"Washington\": \"WA\",\n",
    "    \"West Virginia\": \"WV\",\n",
    "    \"Wisconsin\": \"WI\",\n",
    "    \"Wyoming\": \"WY\",\n",
    "    \"District of Columbia\": \"DC\",\n",
    "    \"American Samoa\": \"AS\",\n",
    "    \"Guam\": \"GU\",\n",
    "    \"Northern Mariana Islands\": \"MP\",\n",
    "    \"Puerto Rico\": \"PR\",\n",
    "    \"United States Minor Outlying Islands\": \"UM\",\n",
    "    \"U.S. Virgin Islands\": \"VI\",\n",
    "}\n",
    "\n",
    "plot_df=df.copy()\n",
    "plot_df['State_code'] = plot_df['State'].replace(State_code)"
   ]
  },
  {
   "cell_type": "code",
   "execution_count": 24,
   "metadata": {},
   "outputs": [
    {
     "data": {
      "application/vnd.plotly.v1+json": {
       "config": {
        "plotlyServerURL": "https://plot.ly"
       },
       "data": [
        {
         "colorscale": [
          [
           0,
           "rgb(209, 238, 234)"
          ],
          [
           0.16666666666666666,
           "rgb(168, 219, 217)"
          ],
          [
           0.3333333333333333,
           "rgb(133, 196, 201)"
          ],
          [
           0.5,
           "rgb(104, 171, 184)"
          ],
          [
           0.6666666666666666,
           "rgb(79, 144, 166)"
          ],
          [
           0.8333333333333334,
           "rgb(59, 115, 143)"
          ],
          [
           1,
           "rgb(42, 86, 116)"
          ]
         ],
         "locationmode": "USA-states",
         "locations": [
          "CA",
          "NY",
          "TX",
          "PA",
          "WA",
          "IL",
          "OH",
          "FL",
          "MI",
          "NC",
          "AZ",
          "VA",
          "GA",
          "TN",
          "CO",
          "IN",
          "KY",
          "MA",
          "NJ",
          "OR",
          "WI",
          "MD",
          "DE",
          "MN",
          "CT",
          "OK",
          "MO",
          "AL",
          "AR",
          "RI",
          "UT",
          "MS",
          "LA",
          "SC",
          "NV",
          "NE",
          "NM",
          "IA",
          "NH",
          "KS",
          "ID",
          "MT",
          "SD",
          "VT",
          "DC",
          "ME",
          "ND",
          "WV",
          "WY"
         ],
         "type": "choropleth",
         "z": [
          2001,
          1128,
          985,
          587,
          506,
          492,
          469,
          383,
          255,
          249,
          224,
          224,
          184,
          183,
          182,
          149,
          139,
          135,
          130,
          124,
          110,
          105,
          96,
          89,
          82,
          66,
          66,
          61,
          60,
          56,
          53,
          53,
          42,
          42,
          39,
          38,
          37,
          30,
          27,
          24,
          21,
          15,
          12,
          11,
          10,
          8,
          7,
          4,
          1
         ],
         "zmax": 2100,
         "zmin": 1
        }
       ],
       "layout": {
        "font": {
         "family": "Franklin Gothic",
         "size": 14
        },
        "geo": {
         "scope": "usa"
        },
        "height": 500,
        "template": {
         "data": {
          "bar": [
           {
            "error_x": {
             "color": "#2a3f5f"
            },
            "error_y": {
             "color": "#2a3f5f"
            },
            "marker": {
             "line": {
              "color": "#E5ECF6",
              "width": 0.5
             },
             "pattern": {
              "fillmode": "overlay",
              "size": 10,
              "solidity": 0.2
             }
            },
            "type": "bar"
           }
          ],
          "barpolar": [
           {
            "marker": {
             "line": {
              "color": "#E5ECF6",
              "width": 0.5
             },
             "pattern": {
              "fillmode": "overlay",
              "size": 10,
              "solidity": 0.2
             }
            },
            "type": "barpolar"
           }
          ],
          "carpet": [
           {
            "aaxis": {
             "endlinecolor": "#2a3f5f",
             "gridcolor": "white",
             "linecolor": "white",
             "minorgridcolor": "white",
             "startlinecolor": "#2a3f5f"
            },
            "baxis": {
             "endlinecolor": "#2a3f5f",
             "gridcolor": "white",
             "linecolor": "white",
             "minorgridcolor": "white",
             "startlinecolor": "#2a3f5f"
            },
            "type": "carpet"
           }
          ],
          "choropleth": [
           {
            "colorbar": {
             "outlinewidth": 0,
             "ticks": ""
            },
            "type": "choropleth"
           }
          ],
          "contour": [
           {
            "colorbar": {
             "outlinewidth": 0,
             "ticks": ""
            },
            "colorscale": [
             [
              0,
              "#0d0887"
             ],
             [
              0.1111111111111111,
              "#46039f"
             ],
             [
              0.2222222222222222,
              "#7201a8"
             ],
             [
              0.3333333333333333,
              "#9c179e"
             ],
             [
              0.4444444444444444,
              "#bd3786"
             ],
             [
              0.5555555555555556,
              "#d8576b"
             ],
             [
              0.6666666666666666,
              "#ed7953"
             ],
             [
              0.7777777777777778,
              "#fb9f3a"
             ],
             [
              0.8888888888888888,
              "#fdca26"
             ],
             [
              1,
              "#f0f921"
             ]
            ],
            "type": "contour"
           }
          ],
          "contourcarpet": [
           {
            "colorbar": {
             "outlinewidth": 0,
             "ticks": ""
            },
            "type": "contourcarpet"
           }
          ],
          "heatmap": [
           {
            "colorbar": {
             "outlinewidth": 0,
             "ticks": ""
            },
            "colorscale": [
             [
              0,
              "#0d0887"
             ],
             [
              0.1111111111111111,
              "#46039f"
             ],
             [
              0.2222222222222222,
              "#7201a8"
             ],
             [
              0.3333333333333333,
              "#9c179e"
             ],
             [
              0.4444444444444444,
              "#bd3786"
             ],
             [
              0.5555555555555556,
              "#d8576b"
             ],
             [
              0.6666666666666666,
              "#ed7953"
             ],
             [
              0.7777777777777778,
              "#fb9f3a"
             ],
             [
              0.8888888888888888,
              "#fdca26"
             ],
             [
              1,
              "#f0f921"
             ]
            ],
            "type": "heatmap"
           }
          ],
          "heatmapgl": [
           {
            "colorbar": {
             "outlinewidth": 0,
             "ticks": ""
            },
            "colorscale": [
             [
              0,
              "#0d0887"
             ],
             [
              0.1111111111111111,
              "#46039f"
             ],
             [
              0.2222222222222222,
              "#7201a8"
             ],
             [
              0.3333333333333333,
              "#9c179e"
             ],
             [
              0.4444444444444444,
              "#bd3786"
             ],
             [
              0.5555555555555556,
              "#d8576b"
             ],
             [
              0.6666666666666666,
              "#ed7953"
             ],
             [
              0.7777777777777778,
              "#fb9f3a"
             ],
             [
              0.8888888888888888,
              "#fdca26"
             ],
             [
              1,
              "#f0f921"
             ]
            ],
            "type": "heatmapgl"
           }
          ],
          "histogram": [
           {
            "marker": {
             "pattern": {
              "fillmode": "overlay",
              "size": 10,
              "solidity": 0.2
             }
            },
            "type": "histogram"
           }
          ],
          "histogram2d": [
           {
            "colorbar": {
             "outlinewidth": 0,
             "ticks": ""
            },
            "colorscale": [
             [
              0,
              "#0d0887"
             ],
             [
              0.1111111111111111,
              "#46039f"
             ],
             [
              0.2222222222222222,
              "#7201a8"
             ],
             [
              0.3333333333333333,
              "#9c179e"
             ],
             [
              0.4444444444444444,
              "#bd3786"
             ],
             [
              0.5555555555555556,
              "#d8576b"
             ],
             [
              0.6666666666666666,
              "#ed7953"
             ],
             [
              0.7777777777777778,
              "#fb9f3a"
             ],
             [
              0.8888888888888888,
              "#fdca26"
             ],
             [
              1,
              "#f0f921"
             ]
            ],
            "type": "histogram2d"
           }
          ],
          "histogram2dcontour": [
           {
            "colorbar": {
             "outlinewidth": 0,
             "ticks": ""
            },
            "colorscale": [
             [
              0,
              "#0d0887"
             ],
             [
              0.1111111111111111,
              "#46039f"
             ],
             [
              0.2222222222222222,
              "#7201a8"
             ],
             [
              0.3333333333333333,
              "#9c179e"
             ],
             [
              0.4444444444444444,
              "#bd3786"
             ],
             [
              0.5555555555555556,
              "#d8576b"
             ],
             [
              0.6666666666666666,
              "#ed7953"
             ],
             [
              0.7777777777777778,
              "#fb9f3a"
             ],
             [
              0.8888888888888888,
              "#fdca26"
             ],
             [
              1,
              "#f0f921"
             ]
            ],
            "type": "histogram2dcontour"
           }
          ],
          "mesh3d": [
           {
            "colorbar": {
             "outlinewidth": 0,
             "ticks": ""
            },
            "type": "mesh3d"
           }
          ],
          "parcoords": [
           {
            "line": {
             "colorbar": {
              "outlinewidth": 0,
              "ticks": ""
             }
            },
            "type": "parcoords"
           }
          ],
          "pie": [
           {
            "automargin": true,
            "type": "pie"
           }
          ],
          "scatter": [
           {
            "fillpattern": {
             "fillmode": "overlay",
             "size": 10,
             "solidity": 0.2
            },
            "type": "scatter"
           }
          ],
          "scatter3d": [
           {
            "line": {
             "colorbar": {
              "outlinewidth": 0,
              "ticks": ""
             }
            },
            "marker": {
             "colorbar": {
              "outlinewidth": 0,
              "ticks": ""
             }
            },
            "type": "scatter3d"
           }
          ],
          "scattercarpet": [
           {
            "marker": {
             "colorbar": {
              "outlinewidth": 0,
              "ticks": ""
             }
            },
            "type": "scattercarpet"
           }
          ],
          "scattergeo": [
           {
            "marker": {
             "colorbar": {
              "outlinewidth": 0,
              "ticks": ""
             }
            },
            "type": "scattergeo"
           }
          ],
          "scattergl": [
           {
            "marker": {
             "colorbar": {
              "outlinewidth": 0,
              "ticks": ""
             }
            },
            "type": "scattergl"
           }
          ],
          "scattermapbox": [
           {
            "marker": {
             "colorbar": {
              "outlinewidth": 0,
              "ticks": ""
             }
            },
            "type": "scattermapbox"
           }
          ],
          "scatterpolar": [
           {
            "marker": {
             "colorbar": {
              "outlinewidth": 0,
              "ticks": ""
             }
            },
            "type": "scatterpolar"
           }
          ],
          "scatterpolargl": [
           {
            "marker": {
             "colorbar": {
              "outlinewidth": 0,
              "ticks": ""
             }
            },
            "type": "scatterpolargl"
           }
          ],
          "scatterternary": [
           {
            "marker": {
             "colorbar": {
              "outlinewidth": 0,
              "ticks": ""
             }
            },
            "type": "scatterternary"
           }
          ],
          "surface": [
           {
            "colorbar": {
             "outlinewidth": 0,
             "ticks": ""
            },
            "colorscale": [
             [
              0,
              "#0d0887"
             ],
             [
              0.1111111111111111,
              "#46039f"
             ],
             [
              0.2222222222222222,
              "#7201a8"
             ],
             [
              0.3333333333333333,
              "#9c179e"
             ],
             [
              0.4444444444444444,
              "#bd3786"
             ],
             [
              0.5555555555555556,
              "#d8576b"
             ],
             [
              0.6666666666666666,
              "#ed7953"
             ],
             [
              0.7777777777777778,
              "#fb9f3a"
             ],
             [
              0.8888888888888888,
              "#fdca26"
             ],
             [
              1,
              "#f0f921"
             ]
            ],
            "type": "surface"
           }
          ],
          "table": [
           {
            "cells": {
             "fill": {
              "color": "#EBF0F8"
             },
             "line": {
              "color": "white"
             }
            },
            "header": {
             "fill": {
              "color": "#C8D4E3"
             },
             "line": {
              "color": "white"
             }
            },
            "type": "table"
           }
          ]
         },
         "layout": {
          "annotationdefaults": {
           "arrowcolor": "#2a3f5f",
           "arrowhead": 0,
           "arrowwidth": 1
          },
          "autotypenumbers": "strict",
          "coloraxis": {
           "colorbar": {
            "outlinewidth": 0,
            "ticks": ""
           }
          },
          "colorscale": {
           "diverging": [
            [
             0,
             "#8e0152"
            ],
            [
             0.1,
             "#c51b7d"
            ],
            [
             0.2,
             "#de77ae"
            ],
            [
             0.3,
             "#f1b6da"
            ],
            [
             0.4,
             "#fde0ef"
            ],
            [
             0.5,
             "#f7f7f7"
            ],
            [
             0.6,
             "#e6f5d0"
            ],
            [
             0.7,
             "#b8e186"
            ],
            [
             0.8,
             "#7fbc41"
            ],
            [
             0.9,
             "#4d9221"
            ],
            [
             1,
             "#276419"
            ]
           ],
           "sequential": [
            [
             0,
             "#0d0887"
            ],
            [
             0.1111111111111111,
             "#46039f"
            ],
            [
             0.2222222222222222,
             "#7201a8"
            ],
            [
             0.3333333333333333,
             "#9c179e"
            ],
            [
             0.4444444444444444,
             "#bd3786"
            ],
            [
             0.5555555555555556,
             "#d8576b"
            ],
            [
             0.6666666666666666,
             "#ed7953"
            ],
            [
             0.7777777777777778,
             "#fb9f3a"
            ],
            [
             0.8888888888888888,
             "#fdca26"
            ],
            [
             1,
             "#f0f921"
            ]
           ],
           "sequentialminus": [
            [
             0,
             "#0d0887"
            ],
            [
             0.1111111111111111,
             "#46039f"
            ],
            [
             0.2222222222222222,
             "#7201a8"
            ],
            [
             0.3333333333333333,
             "#9c179e"
            ],
            [
             0.4444444444444444,
             "#bd3786"
            ],
            [
             0.5555555555555556,
             "#d8576b"
            ],
            [
             0.6666666666666666,
             "#ed7953"
            ],
            [
             0.7777777777777778,
             "#fb9f3a"
            ],
            [
             0.8888888888888888,
             "#fdca26"
            ],
            [
             1,
             "#f0f921"
            ]
           ]
          },
          "colorway": [
           "#636efa",
           "#EF553B",
           "#00cc96",
           "#ab63fa",
           "#FFA15A",
           "#19d3f3",
           "#FF6692",
           "#B6E880",
           "#FF97FF",
           "#FECB52"
          ],
          "font": {
           "color": "#2a3f5f"
          },
          "geo": {
           "bgcolor": "white",
           "lakecolor": "white",
           "landcolor": "#E5ECF6",
           "showlakes": true,
           "showland": true,
           "subunitcolor": "white"
          },
          "hoverlabel": {
           "align": "left"
          },
          "hovermode": "closest",
          "mapbox": {
           "style": "light"
          },
          "paper_bgcolor": "white",
          "plot_bgcolor": "#E5ECF6",
          "polar": {
           "angularaxis": {
            "gridcolor": "white",
            "linecolor": "white",
            "ticks": ""
           },
           "bgcolor": "#E5ECF6",
           "radialaxis": {
            "gridcolor": "white",
            "linecolor": "white",
            "ticks": ""
           }
          },
          "scene": {
           "xaxis": {
            "backgroundcolor": "#E5ECF6",
            "gridcolor": "white",
            "gridwidth": 2,
            "linecolor": "white",
            "showbackground": true,
            "ticks": "",
            "zerolinecolor": "white"
           },
           "yaxis": {
            "backgroundcolor": "#E5ECF6",
            "gridcolor": "white",
            "gridwidth": 2,
            "linecolor": "white",
            "showbackground": true,
            "ticks": "",
            "zerolinecolor": "white"
           },
           "zaxis": {
            "backgroundcolor": "#E5ECF6",
            "gridcolor": "white",
            "gridwidth": 2,
            "linecolor": "white",
            "showbackground": true,
            "ticks": "",
            "zerolinecolor": "white"
           }
          },
          "shapedefaults": {
           "line": {
            "color": "#2a3f5f"
           }
          },
          "ternary": {
           "aaxis": {
            "gridcolor": "white",
            "linecolor": "white",
            "ticks": ""
           },
           "baxis": {
            "gridcolor": "white",
            "linecolor": "white",
            "ticks": ""
           },
           "bgcolor": "#E5ECF6",
           "caxis": {
            "gridcolor": "white",
            "linecolor": "white",
            "ticks": ""
           }
          },
          "title": {
           "x": 0.05
          },
          "xaxis": {
           "automargin": true,
           "gridcolor": "white",
           "linecolor": "white",
           "ticks": "",
           "title": {
            "standoff": 15
           },
           "zerolinecolor": "white",
           "zerolinewidth": 2
          },
          "yaxis": {
           "automargin": true,
           "gridcolor": "white",
           "linecolor": "white",
           "ticks": "",
           "title": {
            "standoff": 15
           },
           "zerolinecolor": "white",
           "zerolinewidth": 2
          }
         }
        },
        "title": {
         "text": "Number of purchases in each State",
         "x": 0.5,
         "y": 0.95
        },
        "width": 900
       }
      }
     },
     "metadata": {},
     "output_type": "display_data"
    }
   ],
   "source": [
    "# Plot\n",
    "fig = go.Figure(data=go.Choropleth(\n",
    "    locations= plot_df['State_code'].value_counts().index,\n",
    "    z = plot_df['State_code'].value_counts(),\n",
    "    locationmode = 'USA-states',\n",
    "    colorscale = 'teal', zmin = 1, zmax = 2100\n",
    "))\n",
    "\n",
    "fig.update_layout(\n",
    "    font = dict(size = 14, family=\"Franklin Gothic\"),\n",
    "    title={'text': \"Number of purchases in each State\",'y':0.95,'x':0.5},\n",
    "    geo_scope='usa',\n",
    "    height = 500,\n",
    "    width = 900\n",
    ")\n",
    "\n",
    "fig.show()"
   ]
  },
  {
   "cell_type": "markdown",
   "metadata": {},
   "source": [
    "**Nhận xét:** \n",
    "\n",
    "Dựa vào các thông tin hiển thị trên bảng đồ Hoa Kỳ, ta có thể thấy:\n",
    "- Bang California có tổng số lượt tham gia mua sắm đông nhất với 2001 lượt, nhu cầu mua sắm ở California là cao nhất bởi lẽ đây là tiểu bang có dân số đông nhất Hoa Kỳ và lớn thứ ba về diện tích. Xếp sau nó là New York với 1128 lượt và Taxes với 985 lượt, đây đều là những tiểu bang đông dân và phát triển bậc nhất của Hoa Kỳ.\n",
    "\n",
    "- Ngược lại với Wyoming - tiểu bang có dân số ít nhất hoa Kỳ, chỉ ghi nhận được 1 lượt mua sắm.\n",
    "\n",
    "=> Khu vực có dân số càng đông và nền kinh tế càng phát triển thì nhu cầu mua sắm trang thiết bị càng lớn."
   ]
  },
  {
   "cell_type": "markdown",
   "metadata": {},
   "source": [
    "## Câu hỏi 3:\n",
    "\n",
    "**Nội dung câu hỏi:** Số lượng các sản phẩm bán ra của mỗi danh mục qua từng năm tăng giảm như thế nào?\n",
    "\n",
    "**Loại biểu đồ sử dụng:** Scatter plot\n",
    "\n",
    "**Tính phù hợp của biểu đồ với dữ liệu:** biểu đồ Scatter plot phù hợp để thể hiện tình hình số lượng các sản phẩm bán ra (Quantity) theo từng danh mục sản phẩm có trong thuộc tính 'Category'. Kết hợp với hiệu ứng animation cho từng năm sẽ làm cho biểu đồ có tính tương tác cao và sinh động hơn.\n",
    "\n",
    "**Trực quan hóa:**"
   ]
  },
  {
   "cell_type": "code",
   "execution_count": null,
   "metadata": {},
   "outputs": [],
   "source": [
    "#Xử lý dữ liệu\n",
    "temp=df.copy()\n",
    "temp['Order Date']=pd.to_datetime(temp['Order Date'], format='%m/%d/%Y')\n",
    "temp['Order Year']=temp['Order Date'].dt.year\n",
    "plot_df= temp.groupby(['Order Year','Category'])[\"Quantity\"].sum().reset_index()"
   ]
  },
  {
   "cell_type": "code",
   "execution_count": null,
   "metadata": {},
   "outputs": [
    {
     "data": {
      "application/vnd.plotly.v1+json": {
       "config": {
        "plotlyServerURL": "https://plot.ly"
       },
       "data": [
        {
         "hovertemplate": "<b>%{hovertext}</b><br><br>Category=%{x}<br>Order Year=2014<br>Quantity=%{marker.size}<extra></extra>",
         "hovertext": [
          "Furniture"
         ],
         "legendgroup": "Furniture",
         "marker": {
          "color": "#AA0DFE",
          "size": [
           1623
          ],
          "sizemode": "area",
          "sizeref": 3.0704,
          "symbol": "circle"
         },
         "mode": "markers",
         "name": "Furniture",
         "orientation": "v",
         "showlegend": true,
         "type": "scatter",
         "x": [
          "Furniture"
         ],
         "xaxis": "x",
         "y": [
          1623
         ],
         "yaxis": "y"
        },
        {
         "hovertemplate": "<b>%{hovertext}</b><br><br>Category=%{x}<br>Order Year=2014<br>Quantity=%{marker.size}<extra></extra>",
         "hovertext": [
          "Office Supplies"
         ],
         "legendgroup": "Office Supplies",
         "marker": {
          "color": "#3283FE",
          "size": [
           4569
          ],
          "sizemode": "area",
          "sizeref": 3.0704,
          "symbol": "circle"
         },
         "mode": "markers",
         "name": "Office Supplies",
         "orientation": "v",
         "showlegend": true,
         "type": "scatter",
         "x": [
          "Office Supplies"
         ],
         "xaxis": "x",
         "y": [
          4569
         ],
         "yaxis": "y"
        },
        {
         "hovertemplate": "<b>%{hovertext}</b><br><br>Category=%{x}<br>Order Year=2014<br>Quantity=%{marker.size}<extra></extra>",
         "hovertext": [
          "Technology"
         ],
         "legendgroup": "Technology",
         "marker": {
          "color": "#85660D",
          "size": [
           1389
          ],
          "sizemode": "area",
          "sizeref": 3.0704,
          "symbol": "circle"
         },
         "mode": "markers",
         "name": "Technology",
         "orientation": "v",
         "showlegend": true,
         "type": "scatter",
         "x": [
          "Technology"
         ],
         "xaxis": "x",
         "y": [
          1389
         ],
         "yaxis": "y"
        }
       ],
       "frames": [
        {
         "data": [
          {
           "hovertemplate": "<b>%{hovertext}</b><br><br>Category=%{x}<br>Order Year=2014<br>Quantity=%{marker.size}<extra></extra>",
           "hovertext": [
            "Furniture"
           ],
           "legendgroup": "Furniture",
           "marker": {
            "color": "#AA0DFE",
            "size": [
             1623
            ],
            "sizemode": "area",
            "sizeref": 3.0704,
            "symbol": "circle"
           },
           "mode": "markers",
           "name": "Furniture",
           "orientation": "v",
           "showlegend": true,
           "type": "scatter",
           "x": [
            "Furniture"
           ],
           "xaxis": "x",
           "y": [
            1623
           ],
           "yaxis": "y"
          },
          {
           "hovertemplate": "<b>%{hovertext}</b><br><br>Category=%{x}<br>Order Year=2014<br>Quantity=%{marker.size}<extra></extra>",
           "hovertext": [
            "Office Supplies"
           ],
           "legendgroup": "Office Supplies",
           "marker": {
            "color": "#3283FE",
            "size": [
             4569
            ],
            "sizemode": "area",
            "sizeref": 3.0704,
            "symbol": "circle"
           },
           "mode": "markers",
           "name": "Office Supplies",
           "orientation": "v",
           "showlegend": true,
           "type": "scatter",
           "x": [
            "Office Supplies"
           ],
           "xaxis": "x",
           "y": [
            4569
           ],
           "yaxis": "y"
          },
          {
           "hovertemplate": "<b>%{hovertext}</b><br><br>Category=%{x}<br>Order Year=2014<br>Quantity=%{marker.size}<extra></extra>",
           "hovertext": [
            "Technology"
           ],
           "legendgroup": "Technology",
           "marker": {
            "color": "#85660D",
            "size": [
             1389
            ],
            "sizemode": "area",
            "sizeref": 3.0704,
            "symbol": "circle"
           },
           "mode": "markers",
           "name": "Technology",
           "orientation": "v",
           "showlegend": true,
           "type": "scatter",
           "x": [
            "Technology"
           ],
           "xaxis": "x",
           "y": [
            1389
           ],
           "yaxis": "y"
          }
         ],
         "name": "2014"
        },
        {
         "data": [
          {
           "hovertemplate": "<b>%{hovertext}</b><br><br>Category=%{x}<br>Order Year=2015<br>Quantity=%{marker.size}<extra></extra>",
           "hovertext": [
            "Furniture"
           ],
           "legendgroup": "Furniture",
           "marker": {
            "color": "#AA0DFE",
            "size": [
             1775
            ],
            "sizemode": "area",
            "sizeref": 3.0704,
            "symbol": "circle"
           },
           "mode": "markers",
           "name": "Furniture",
           "orientation": "v",
           "showlegend": true,
           "type": "scatter",
           "x": [
            "Furniture"
           ],
           "xaxis": "x",
           "y": [
            1775
           ],
           "yaxis": "y"
          },
          {
           "hovertemplate": "<b>%{hovertext}</b><br><br>Category=%{x}<br>Order Year=2015<br>Quantity=%{marker.size}<extra></extra>",
           "hovertext": [
            "Office Supplies"
           ],
           "legendgroup": "Office Supplies",
           "marker": {
            "color": "#3283FE",
            "size": [
             4715
            ],
            "sizemode": "area",
            "sizeref": 3.0704,
            "symbol": "circle"
           },
           "mode": "markers",
           "name": "Office Supplies",
           "orientation": "v",
           "showlegend": true,
           "type": "scatter",
           "x": [
            "Office Supplies"
           ],
           "xaxis": "x",
           "y": [
            4715
           ],
           "yaxis": "y"
          },
          {
           "hovertemplate": "<b>%{hovertext}</b><br><br>Category=%{x}<br>Order Year=2015<br>Quantity=%{marker.size}<extra></extra>",
           "hovertext": [
            "Technology"
           ],
           "legendgroup": "Technology",
           "marker": {
            "color": "#85660D",
            "size": [
             1489
            ],
            "sizemode": "area",
            "sizeref": 3.0704,
            "symbol": "circle"
           },
           "mode": "markers",
           "name": "Technology",
           "orientation": "v",
           "showlegend": true,
           "type": "scatter",
           "x": [
            "Technology"
           ],
           "xaxis": "x",
           "y": [
            1489
           ],
           "yaxis": "y"
          }
         ],
         "name": "2015"
        },
        {
         "data": [
          {
           "hovertemplate": "<b>%{hovertext}</b><br><br>Category=%{x}<br>Order Year=2016<br>Quantity=%{marker.size}<extra></extra>",
           "hovertext": [
            "Furniture"
           ],
           "legendgroup": "Furniture",
           "marker": {
            "color": "#AA0DFE",
            "size": [
             2193
            ],
            "sizemode": "area",
            "sizeref": 3.0704,
            "symbol": "circle"
           },
           "mode": "markers",
           "name": "Furniture",
           "orientation": "v",
           "showlegend": true,
           "type": "scatter",
           "x": [
            "Furniture"
           ],
           "xaxis": "x",
           "y": [
            2193
           ],
           "yaxis": "y"
          },
          {
           "hovertemplate": "<b>%{hovertext}</b><br><br>Category=%{x}<br>Order Year=2016<br>Quantity=%{marker.size}<extra></extra>",
           "hovertext": [
            "Office Supplies"
           ],
           "legendgroup": "Office Supplies",
           "marker": {
            "color": "#3283FE",
            "size": [
             5946
            ],
            "sizemode": "area",
            "sizeref": 3.0704,
            "symbol": "circle"
           },
           "mode": "markers",
           "name": "Office Supplies",
           "orientation": "v",
           "showlegend": true,
           "type": "scatter",
           "x": [
            "Office Supplies"
           ],
           "xaxis": "x",
           "y": [
            5946
           ],
           "yaxis": "y"
          },
          {
           "hovertemplate": "<b>%{hovertext}</b><br><br>Category=%{x}<br>Order Year=2016<br>Quantity=%{marker.size}<extra></extra>",
           "hovertext": [
            "Technology"
           ],
           "legendgroup": "Technology",
           "marker": {
            "color": "#85660D",
            "size": [
             1698
            ],
            "sizemode": "area",
            "sizeref": 3.0704,
            "symbol": "circle"
           },
           "mode": "markers",
           "name": "Technology",
           "orientation": "v",
           "showlegend": true,
           "type": "scatter",
           "x": [
            "Technology"
           ],
           "xaxis": "x",
           "y": [
            1698
           ],
           "yaxis": "y"
          }
         ],
         "name": "2016"
        },
        {
         "data": [
          {
           "hovertemplate": "<b>%{hovertext}</b><br><br>Category=%{x}<br>Order Year=2017<br>Quantity=%{marker.size}<extra></extra>",
           "hovertext": [
            "Furniture"
           ],
           "legendgroup": "Furniture",
           "marker": {
            "color": "#AA0DFE",
            "size": [
             2437
            ],
            "sizemode": "area",
            "sizeref": 3.0704,
            "symbol": "circle"
           },
           "mode": "markers",
           "name": "Furniture",
           "orientation": "v",
           "showlegend": true,
           "type": "scatter",
           "x": [
            "Furniture"
           ],
           "xaxis": "x",
           "y": [
            2437
           ],
           "yaxis": "y"
          },
          {
           "hovertemplate": "<b>%{hovertext}</b><br><br>Category=%{x}<br>Order Year=2017<br>Quantity=%{marker.size}<extra></extra>",
           "hovertext": [
            "Office Supplies"
           ],
           "legendgroup": "Office Supplies",
           "marker": {
            "color": "#3283FE",
            "size": [
             7676
            ],
            "sizemode": "area",
            "sizeref": 3.0704,
            "symbol": "circle"
           },
           "mode": "markers",
           "name": "Office Supplies",
           "orientation": "v",
           "showlegend": true,
           "type": "scatter",
           "x": [
            "Office Supplies"
           ],
           "xaxis": "x",
           "y": [
            7676
           ],
           "yaxis": "y"
          },
          {
           "hovertemplate": "<b>%{hovertext}</b><br><br>Category=%{x}<br>Order Year=2017<br>Quantity=%{marker.size}<extra></extra>",
           "hovertext": [
            "Technology"
           ],
           "legendgroup": "Technology",
           "marker": {
            "color": "#85660D",
            "size": [
             2363
            ],
            "sizemode": "area",
            "sizeref": 3.0704,
            "symbol": "circle"
           },
           "mode": "markers",
           "name": "Technology",
           "orientation": "v",
           "showlegend": true,
           "type": "scatter",
           "x": [
            "Technology"
           ],
           "xaxis": "x",
           "y": [
            2363
           ],
           "yaxis": "y"
          }
         ],
         "name": "2017"
        }
       ],
       "layout": {
        "height": 600,
        "legend": {
         "itemsizing": "constant",
         "title": {
          "text": "Category"
         },
         "tracegroupgap": 0
        },
        "margin": {
         "t": 130
        },
        "sliders": [
         {
          "active": 0,
          "currentvalue": {
           "prefix": "Order Year="
          },
          "len": 0.9,
          "pad": {
           "b": 10,
           "t": 60
          },
          "steps": [
           {
            "args": [
             [
              "2014"
             ],
             {
              "frame": {
               "duration": 0,
               "redraw": false
              },
              "fromcurrent": true,
              "mode": "immediate",
              "transition": {
               "duration": 0,
               "easing": "linear"
              }
             }
            ],
            "label": "2014",
            "method": "animate"
           },
           {
            "args": [
             [
              "2015"
             ],
             {
              "frame": {
               "duration": 0,
               "redraw": false
              },
              "fromcurrent": true,
              "mode": "immediate",
              "transition": {
               "duration": 0,
               "easing": "linear"
              }
             }
            ],
            "label": "2015",
            "method": "animate"
           },
           {
            "args": [
             [
              "2016"
             ],
             {
              "frame": {
               "duration": 0,
               "redraw": false
              },
              "fromcurrent": true,
              "mode": "immediate",
              "transition": {
               "duration": 0,
               "easing": "linear"
              }
             }
            ],
            "label": "2016",
            "method": "animate"
           },
           {
            "args": [
             [
              "2017"
             ],
             {
              "frame": {
               "duration": 0,
               "redraw": false
              },
              "fromcurrent": true,
              "mode": "immediate",
              "transition": {
               "duration": 0,
               "easing": "linear"
              }
             }
            ],
            "label": "2017",
            "method": "animate"
           }
          ],
          "x": 0.1,
          "xanchor": "left",
          "y": 0,
          "yanchor": "top"
         }
        ],
        "template": {
         "data": {
          "bar": [
           {
            "error_x": {
             "color": "#f2f5fa"
            },
            "error_y": {
             "color": "#f2f5fa"
            },
            "marker": {
             "line": {
              "color": "rgb(17,17,17)",
              "width": 0.5
             },
             "pattern": {
              "fillmode": "overlay",
              "size": 10,
              "solidity": 0.2
             }
            },
            "type": "bar"
           }
          ],
          "barpolar": [
           {
            "marker": {
             "line": {
              "color": "rgb(17,17,17)",
              "width": 0.5
             },
             "pattern": {
              "fillmode": "overlay",
              "size": 10,
              "solidity": 0.2
             }
            },
            "type": "barpolar"
           }
          ],
          "carpet": [
           {
            "aaxis": {
             "endlinecolor": "#A2B1C6",
             "gridcolor": "#506784",
             "linecolor": "#506784",
             "minorgridcolor": "#506784",
             "startlinecolor": "#A2B1C6"
            },
            "baxis": {
             "endlinecolor": "#A2B1C6",
             "gridcolor": "#506784",
             "linecolor": "#506784",
             "minorgridcolor": "#506784",
             "startlinecolor": "#A2B1C6"
            },
            "type": "carpet"
           }
          ],
          "choropleth": [
           {
            "colorbar": {
             "outlinewidth": 0,
             "ticks": ""
            },
            "type": "choropleth"
           }
          ],
          "contour": [
           {
            "colorbar": {
             "outlinewidth": 0,
             "ticks": ""
            },
            "colorscale": [
             [
              0,
              "#0d0887"
             ],
             [
              0.1111111111111111,
              "#46039f"
             ],
             [
              0.2222222222222222,
              "#7201a8"
             ],
             [
              0.3333333333333333,
              "#9c179e"
             ],
             [
              0.4444444444444444,
              "#bd3786"
             ],
             [
              0.5555555555555556,
              "#d8576b"
             ],
             [
              0.6666666666666666,
              "#ed7953"
             ],
             [
              0.7777777777777778,
              "#fb9f3a"
             ],
             [
              0.8888888888888888,
              "#fdca26"
             ],
             [
              1,
              "#f0f921"
             ]
            ],
            "type": "contour"
           }
          ],
          "contourcarpet": [
           {
            "colorbar": {
             "outlinewidth": 0,
             "ticks": ""
            },
            "type": "contourcarpet"
           }
          ],
          "heatmap": [
           {
            "colorbar": {
             "outlinewidth": 0,
             "ticks": ""
            },
            "colorscale": [
             [
              0,
              "#0d0887"
             ],
             [
              0.1111111111111111,
              "#46039f"
             ],
             [
              0.2222222222222222,
              "#7201a8"
             ],
             [
              0.3333333333333333,
              "#9c179e"
             ],
             [
              0.4444444444444444,
              "#bd3786"
             ],
             [
              0.5555555555555556,
              "#d8576b"
             ],
             [
              0.6666666666666666,
              "#ed7953"
             ],
             [
              0.7777777777777778,
              "#fb9f3a"
             ],
             [
              0.8888888888888888,
              "#fdca26"
             ],
             [
              1,
              "#f0f921"
             ]
            ],
            "type": "heatmap"
           }
          ],
          "heatmapgl": [
           {
            "colorbar": {
             "outlinewidth": 0,
             "ticks": ""
            },
            "colorscale": [
             [
              0,
              "#0d0887"
             ],
             [
              0.1111111111111111,
              "#46039f"
             ],
             [
              0.2222222222222222,
              "#7201a8"
             ],
             [
              0.3333333333333333,
              "#9c179e"
             ],
             [
              0.4444444444444444,
              "#bd3786"
             ],
             [
              0.5555555555555556,
              "#d8576b"
             ],
             [
              0.6666666666666666,
              "#ed7953"
             ],
             [
              0.7777777777777778,
              "#fb9f3a"
             ],
             [
              0.8888888888888888,
              "#fdca26"
             ],
             [
              1,
              "#f0f921"
             ]
            ],
            "type": "heatmapgl"
           }
          ],
          "histogram": [
           {
            "marker": {
             "pattern": {
              "fillmode": "overlay",
              "size": 10,
              "solidity": 0.2
             }
            },
            "type": "histogram"
           }
          ],
          "histogram2d": [
           {
            "colorbar": {
             "outlinewidth": 0,
             "ticks": ""
            },
            "colorscale": [
             [
              0,
              "#0d0887"
             ],
             [
              0.1111111111111111,
              "#46039f"
             ],
             [
              0.2222222222222222,
              "#7201a8"
             ],
             [
              0.3333333333333333,
              "#9c179e"
             ],
             [
              0.4444444444444444,
              "#bd3786"
             ],
             [
              0.5555555555555556,
              "#d8576b"
             ],
             [
              0.6666666666666666,
              "#ed7953"
             ],
             [
              0.7777777777777778,
              "#fb9f3a"
             ],
             [
              0.8888888888888888,
              "#fdca26"
             ],
             [
              1,
              "#f0f921"
             ]
            ],
            "type": "histogram2d"
           }
          ],
          "histogram2dcontour": [
           {
            "colorbar": {
             "outlinewidth": 0,
             "ticks": ""
            },
            "colorscale": [
             [
              0,
              "#0d0887"
             ],
             [
              0.1111111111111111,
              "#46039f"
             ],
             [
              0.2222222222222222,
              "#7201a8"
             ],
             [
              0.3333333333333333,
              "#9c179e"
             ],
             [
              0.4444444444444444,
              "#bd3786"
             ],
             [
              0.5555555555555556,
              "#d8576b"
             ],
             [
              0.6666666666666666,
              "#ed7953"
             ],
             [
              0.7777777777777778,
              "#fb9f3a"
             ],
             [
              0.8888888888888888,
              "#fdca26"
             ],
             [
              1,
              "#f0f921"
             ]
            ],
            "type": "histogram2dcontour"
           }
          ],
          "mesh3d": [
           {
            "colorbar": {
             "outlinewidth": 0,
             "ticks": ""
            },
            "type": "mesh3d"
           }
          ],
          "parcoords": [
           {
            "line": {
             "colorbar": {
              "outlinewidth": 0,
              "ticks": ""
             }
            },
            "type": "parcoords"
           }
          ],
          "pie": [
           {
            "automargin": true,
            "type": "pie"
           }
          ],
          "scatter": [
           {
            "marker": {
             "line": {
              "color": "#283442"
             }
            },
            "type": "scatter"
           }
          ],
          "scatter3d": [
           {
            "line": {
             "colorbar": {
              "outlinewidth": 0,
              "ticks": ""
             }
            },
            "marker": {
             "colorbar": {
              "outlinewidth": 0,
              "ticks": ""
             }
            },
            "type": "scatter3d"
           }
          ],
          "scattercarpet": [
           {
            "marker": {
             "colorbar": {
              "outlinewidth": 0,
              "ticks": ""
             }
            },
            "type": "scattercarpet"
           }
          ],
          "scattergeo": [
           {
            "marker": {
             "colorbar": {
              "outlinewidth": 0,
              "ticks": ""
             }
            },
            "type": "scattergeo"
           }
          ],
          "scattergl": [
           {
            "marker": {
             "line": {
              "color": "#283442"
             }
            },
            "type": "scattergl"
           }
          ],
          "scattermapbox": [
           {
            "marker": {
             "colorbar": {
              "outlinewidth": 0,
              "ticks": ""
             }
            },
            "type": "scattermapbox"
           }
          ],
          "scatterpolar": [
           {
            "marker": {
             "colorbar": {
              "outlinewidth": 0,
              "ticks": ""
             }
            },
            "type": "scatterpolar"
           }
          ],
          "scatterpolargl": [
           {
            "marker": {
             "colorbar": {
              "outlinewidth": 0,
              "ticks": ""
             }
            },
            "type": "scatterpolargl"
           }
          ],
          "scatterternary": [
           {
            "marker": {
             "colorbar": {
              "outlinewidth": 0,
              "ticks": ""
             }
            },
            "type": "scatterternary"
           }
          ],
          "surface": [
           {
            "colorbar": {
             "outlinewidth": 0,
             "ticks": ""
            },
            "colorscale": [
             [
              0,
              "#0d0887"
             ],
             [
              0.1111111111111111,
              "#46039f"
             ],
             [
              0.2222222222222222,
              "#7201a8"
             ],
             [
              0.3333333333333333,
              "#9c179e"
             ],
             [
              0.4444444444444444,
              "#bd3786"
             ],
             [
              0.5555555555555556,
              "#d8576b"
             ],
             [
              0.6666666666666666,
              "#ed7953"
             ],
             [
              0.7777777777777778,
              "#fb9f3a"
             ],
             [
              0.8888888888888888,
              "#fdca26"
             ],
             [
              1,
              "#f0f921"
             ]
            ],
            "type": "surface"
           }
          ],
          "table": [
           {
            "cells": {
             "fill": {
              "color": "#506784"
             },
             "line": {
              "color": "rgb(17,17,17)"
             }
            },
            "header": {
             "fill": {
              "color": "#2a3f5f"
             },
             "line": {
              "color": "rgb(17,17,17)"
             }
            },
            "type": "table"
           }
          ]
         },
         "layout": {
          "annotationdefaults": {
           "arrowcolor": "#f2f5fa",
           "arrowhead": 0,
           "arrowwidth": 1
          },
          "autotypenumbers": "strict",
          "coloraxis": {
           "colorbar": {
            "outlinewidth": 0,
            "ticks": ""
           }
          },
          "colorscale": {
           "diverging": [
            [
             0,
             "#8e0152"
            ],
            [
             0.1,
             "#c51b7d"
            ],
            [
             0.2,
             "#de77ae"
            ],
            [
             0.3,
             "#f1b6da"
            ],
            [
             0.4,
             "#fde0ef"
            ],
            [
             0.5,
             "#f7f7f7"
            ],
            [
             0.6,
             "#e6f5d0"
            ],
            [
             0.7,
             "#b8e186"
            ],
            [
             0.8,
             "#7fbc41"
            ],
            [
             0.9,
             "#4d9221"
            ],
            [
             1,
             "#276419"
            ]
           ],
           "sequential": [
            [
             0,
             "#0d0887"
            ],
            [
             0.1111111111111111,
             "#46039f"
            ],
            [
             0.2222222222222222,
             "#7201a8"
            ],
            [
             0.3333333333333333,
             "#9c179e"
            ],
            [
             0.4444444444444444,
             "#bd3786"
            ],
            [
             0.5555555555555556,
             "#d8576b"
            ],
            [
             0.6666666666666666,
             "#ed7953"
            ],
            [
             0.7777777777777778,
             "#fb9f3a"
            ],
            [
             0.8888888888888888,
             "#fdca26"
            ],
            [
             1,
             "#f0f921"
            ]
           ],
           "sequentialminus": [
            [
             0,
             "#0d0887"
            ],
            [
             0.1111111111111111,
             "#46039f"
            ],
            [
             0.2222222222222222,
             "#7201a8"
            ],
            [
             0.3333333333333333,
             "#9c179e"
            ],
            [
             0.4444444444444444,
             "#bd3786"
            ],
            [
             0.5555555555555556,
             "#d8576b"
            ],
            [
             0.6666666666666666,
             "#ed7953"
            ],
            [
             0.7777777777777778,
             "#fb9f3a"
            ],
            [
             0.8888888888888888,
             "#fdca26"
            ],
            [
             1,
             "#f0f921"
            ]
           ]
          },
          "colorway": [
           "#636efa",
           "#EF553B",
           "#00cc96",
           "#ab63fa",
           "#FFA15A",
           "#19d3f3",
           "#FF6692",
           "#B6E880",
           "#FF97FF",
           "#FECB52"
          ],
          "font": {
           "color": "#f2f5fa"
          },
          "geo": {
           "bgcolor": "rgb(17,17,17)",
           "lakecolor": "rgb(17,17,17)",
           "landcolor": "rgb(17,17,17)",
           "showlakes": true,
           "showland": true,
           "subunitcolor": "#506784"
          },
          "hoverlabel": {
           "align": "left"
          },
          "hovermode": "closest",
          "mapbox": {
           "style": "dark"
          },
          "paper_bgcolor": "rgb(17,17,17)",
          "plot_bgcolor": "rgb(17,17,17)",
          "polar": {
           "angularaxis": {
            "gridcolor": "#506784",
            "linecolor": "#506784",
            "ticks": ""
           },
           "bgcolor": "rgb(17,17,17)",
           "radialaxis": {
            "gridcolor": "#506784",
            "linecolor": "#506784",
            "ticks": ""
           }
          },
          "scene": {
           "xaxis": {
            "backgroundcolor": "rgb(17,17,17)",
            "gridcolor": "#506784",
            "gridwidth": 2,
            "linecolor": "#506784",
            "showbackground": true,
            "ticks": "",
            "zerolinecolor": "#C8D4E3"
           },
           "yaxis": {
            "backgroundcolor": "rgb(17,17,17)",
            "gridcolor": "#506784",
            "gridwidth": 2,
            "linecolor": "#506784",
            "showbackground": true,
            "ticks": "",
            "zerolinecolor": "#C8D4E3"
           },
           "zaxis": {
            "backgroundcolor": "rgb(17,17,17)",
            "gridcolor": "#506784",
            "gridwidth": 2,
            "linecolor": "#506784",
            "showbackground": true,
            "ticks": "",
            "zerolinecolor": "#C8D4E3"
           }
          },
          "shapedefaults": {
           "line": {
            "color": "#f2f5fa"
           }
          },
          "sliderdefaults": {
           "bgcolor": "#C8D4E3",
           "bordercolor": "rgb(17,17,17)",
           "borderwidth": 1,
           "tickwidth": 0
          },
          "ternary": {
           "aaxis": {
            "gridcolor": "#506784",
            "linecolor": "#506784",
            "ticks": ""
           },
           "baxis": {
            "gridcolor": "#506784",
            "linecolor": "#506784",
            "ticks": ""
           },
           "bgcolor": "rgb(17,17,17)",
           "caxis": {
            "gridcolor": "#506784",
            "linecolor": "#506784",
            "ticks": ""
           }
          },
          "title": {
           "x": 0.05
          },
          "updatemenudefaults": {
           "bgcolor": "#506784",
           "borderwidth": 0
          },
          "xaxis": {
           "automargin": true,
           "gridcolor": "#283442",
           "linecolor": "#506784",
           "ticks": "",
           "title": {
            "standoff": 15
           },
           "zerolinecolor": "#283442",
           "zerolinewidth": 2
          },
          "yaxis": {
           "automargin": true,
           "gridcolor": "#283442",
           "linecolor": "#506784",
           "ticks": "",
           "title": {
            "standoff": 15
           },
           "zerolinecolor": "#283442",
           "zerolinewidth": 2
          }
         }
        },
        "title": {
         "font": {
          "family": "Franklin Gothic",
          "size": 25
         },
         "text": "Total number of products sold by each category by year",
         "x": 0.5,
         "y": 0.85
        },
        "updatemenus": [
         {
          "buttons": [
           {
            "args": [
             null,
             {
              "frame": {
               "duration": 500,
               "redraw": false
              },
              "fromcurrent": true,
              "mode": "immediate",
              "transition": {
               "duration": 500,
               "easing": "linear"
              }
             }
            ],
            "label": "&#9654;",
            "method": "animate"
           },
           {
            "args": [
             [
              null
             ],
             {
              "frame": {
               "duration": 0,
               "redraw": false
              },
              "fromcurrent": true,
              "mode": "immediate",
              "transition": {
               "duration": 0,
               "easing": "linear"
              }
             }
            ],
            "label": "&#9724;",
            "method": "animate"
           }
          ],
          "direction": "left",
          "pad": {
           "r": 10,
           "t": 70
          },
          "showactive": false,
          "type": "buttons",
          "x": 0.1,
          "xanchor": "right",
          "y": 0,
          "yanchor": "top"
         }
        ],
        "width": 1000,
        "xaxis": {
         "anchor": "y",
         "categoryarray": [
          "Furniture",
          "Office Supplies",
          "Technology"
         ],
         "categoryorder": "array",
         "domain": [
          0,
          1
         ],
         "title": {
          "text": "Category"
         }
        },
        "yaxis": {
         "anchor": "x",
         "categoryarray": [
          "Furniture",
          "Office Supplies",
          "Technology"
         ],
         "domain": [
          0,
          1
         ],
         "range": [
          1000,
          8600
         ],
         "title": {
          "text": "Quantity"
         }
        }
       }
      }
     },
     "metadata": {},
     "output_type": "display_data"
    }
   ],
   "source": [
    "#Plot\n",
    "fig=px.scatter(plot_df, y = 'Quantity', x = 'Category', size = 'Quantity', hover_name = 'Category', color = 'Category', \n",
    "           color_discrete_sequence=px.colors.qualitative.Alphabet, template = 'plotly_dark',\n",
    "           animation_frame = 'Order Year',size_max=50,\n",
    "           range_y=[1000,8600]).update_yaxes(categoryarray = ['Furniture', 'Office Supplies', 'Technology'])\n",
    "\n",
    "fig.update_layout(title={'text': \"Total number of products sold by each category by year\",'y':0.85,'x':0.5},\n",
    "                  titlefont = dict(size = 25, family=\"Franklin Gothic\"),\n",
    "                  height = 600,\n",
    "                  width = 1000,\n",
    "                  margin=dict(t=130 ,))\n",
    "\n",
    "fig.show()"
   ]
  },
  {
   "cell_type": "markdown",
   "metadata": {},
   "source": [
    "Nhận xét:\n",
    "\n",
    "Sử dụng tính năng animation trên biểu đồ để quan sát số lượng các sản phẩm bán ra của từng danh mục qua từng năm ta có nhận xét:\n",
    "\n",
    "Số lượng sản phẩm bán ra ở mọi danh mục (Funiture, Office Supplies, Technology) đều tăng qua từng năm. Đặc biệt, các sản phẩm trong Office Supplies có số lượng bán ra nhiều nhất (trong năm 2017 gấp 4 lần các danh mục khác) và tốc độ tăng mạnh nhất qua từng năm."
   ]
  },
  {
   "cell_type": "markdown",
   "metadata": {},
   "source": [
    "### Câu 4: Hãy phân tích về các loại sản phẩm được bán ở siêu thị này dựa trên các yếu tố: sales, profit, quantity,...\n",
    "\n",
    "Để trả lời câu hỏi này, ta sẽ chia ra trả lời 3 câu hỏi nhỏ, dựa trên 3 yếu tố là: Sales, Profit, Quantity."
   ]
  },
  {
   "cell_type": "markdown",
   "metadata": {},
   "source": [
    "#### 1. Sales\n",
    "\n",
    "Tính tổng số lượng các sản phẩm đã bán dựa theo Category và Sub-category."
   ]
  },
  {
   "cell_type": "code",
   "execution_count": null,
   "metadata": {},
   "outputs": [
    {
     "data": {
      "image/png": "[encoded data removed]",
      "text/plain": [
       "<Figure size 1080x648 with 3 Axes>"
      ]
     },
     "metadata": {
      "needs_background": "light"
     },
     "output_type": "display_data"
    }
   ],
   "source": [
    "# Tính tổng giá trị sales theo Category\n",
    "# Gộp nhóm theo Category để tạo bảng tính tổng và lưu vào dataframe\n",
    "sales_per_category = df[['Category', 'Sales']].groupby('Category').sum().reset_index()\n",
    "sales_per_category.sort_values(by='Sales', ascending=False, inplace=True)\n",
    "\n",
    "# Tính giá trị trung bình sale theo Category và lưu vào dataframe\n",
    "mean_sales_per_category = df[['Category', 'Sales']].groupby('Category').mean().reset_index()\n",
    "mean_sales_per_category.sort_values(by='Sales', ascending=False, inplace=True)\n",
    "\n",
    "# kết hợp biểu đồ\n",
    "fig, axs = plt.subplots(nrows=2, ncols=2, figsize=(15,9))\n",
    "fig.suptitle('Sales Analysis by Category',fontweight='bold',fontsize=20)\n",
    "\n",
    "# Vẽ biểu đồ con 1\n",
    "axs[0, 0].bar(sales_per_category['Category'], sales_per_category['Sales'], width=0.5, color='#142459')\n",
    "axs[0, 0].set_title('Sales by Category', fontsize=14, fontweight='bold')\n",
    "axs[0, 0].set_xlabel('Category', fontsize=12)\n",
    "axs[0, 0].set_ylabel('Sales', fontsize=12)\n",
    "axs[0, 0].ticklabel_format(style='plain', axis='y')\n",
    "axs[0, 0].tick_params(axis='x', which='major', labelsize=10)\n",
    "axs[0, 0].grid(axis='y')\n",
    "\n",
    "# Vẽ biểu đồ con 2\n",
    "axs[0, 1].bar(mean_sales_per_category['Category'], mean_sales_per_category['Sales'], width=0.5, color='#142459')\n",
    "axs[0, 1].set_title('Mean Sales by Category',fontsize=14, fontweight='bold')\n",
    "axs[0, 1].set_xlabel('Category', fontsize=12)\n",
    "axs[0, 1].set_ylabel('Sales', fontsize=12)\n",
    "axs[0, 1].ticklabel_format(style='plain', axis='y')\n",
    "axs[0, 1].tick_params(axis='x', which='major', labelsize=10)\n",
    "axs[0, 1].grid(axis='y')\n",
    "\n",
    "# Vẽ biểu đồ con 3\n",
    "axs[1, 0].boxplot([df[df['Category'] == category]['Sales'] for category in df['Category'].unique()], notch=True, showfliers=False)\n",
    "axs[1, 0].set_title('Boxplot Sales by Category', fontsize=14, fontweight='bold')\n",
    "axs[1, 0].set_xlabel('Category', fontsize=12)\n",
    "axs[1, 0].set_ylabel('Sales', fontsize=12)\n",
    "axs[1, 0].ticklabel_format(style='plain', axis='y')\n",
    "axs[1, 0].set_xticklabels(df['Category'].unique())\n",
    "axs[1, 0].grid(axis='y')\n",
    "\n",
    "# Xoá biểu đồ góc [1, 1]\n",
    "axs[1, 1].remove()\n",
    "\n",
    "plt.tight_layout()\n",
    "plt.show()"
   ]
  },
  {
   "cell_type": "code",
   "execution_count": null,
   "metadata": {},
   "outputs": [
    {
     "data": {
      "image/png": "[encoded data removed]",
      "text/plain": [
       "<Figure size 1080x648 with 3 Axes>"
      ]
     },
     "metadata": {
      "needs_background": "light"
     },
     "output_type": "display_data"
    }
   ],
   "source": [
    "# Tính tổng giá trị sales theo Category\n",
    "# Gộp nhóm theo Sub-Category để tạo bảng tính tổng và lưu vào dataframe\n",
    "sales_per_sub_category = df[['Sub-Category', 'Sales']].groupby('Sub-Category').sum().reset_index()\n",
    "sales_per_sub_category.sort_values(by='Sales', ascending=False, inplace=True)\n",
    "\n",
    "# Tính giá trị trung bình sale theo Sub-Category và lưu vào dataframe\n",
    "mean_sales_per_sub_category = df[['Sub-Category', 'Sales']].groupby('Sub-Category').mean().reset_index()\n",
    "mean_sales_per_sub_category.sort_values(by='Sales', ascending=False, inplace=True)\n",
    "\n",
    "# kết hợp biểu đồ\n",
    "fig, axs = plt.subplots(nrows=2, ncols=2, figsize=(15,9))\n",
    "fig.suptitle('Sales Analysis by Sub-Category',fontweight='bold',fontsize=20)\n",
    "\n",
    "# Vẽ biểu đồ con 1\n",
    "axs[0, 0].bar(sales_per_sub_category['Sub-Category'], sales_per_sub_category['Sales'], width=0.5, color='#142459')\n",
    "axs[0, 0].set_title('Sales by Sub-Category', fontsize=14, fontweight='bold')\n",
    "axs[0, 0].set_xlabel('Sub-Category', fontsize=12)\n",
    "axs[0, 0].set_ylabel('Sales', fontsize=12)\n",
    "axs[0, 0].ticklabel_format(style='plain', axis='y')\n",
    "axs[0, 0].tick_params(axis='x', which='major', labelsize=10, rotation=90)\n",
    "axs[0, 0].grid(axis='y')\n",
    "\n",
    "# Vẽ biểu đồ con 2\n",
    "axs[0, 1].bar(mean_sales_per_sub_category['Sub-Category'], mean_sales_per_sub_category['Sales'], width=0.5, color='#142459')\n",
    "axs[0, 1].set_title('Mean Sales by Sub-Category',fontsize=14, fontweight='bold')\n",
    "axs[0, 1].set_xlabel('Sub-Category', fontsize=12)\n",
    "axs[0, 1].set_ylabel('Sales', fontsize=12)\n",
    "axs[0, 1].ticklabel_format(style='plain', axis='y')\n",
    "axs[0, 1].tick_params(axis='x', which='major', labelsize=10, rotation=90)\n",
    "axs[0, 1].grid(axis='y')\n",
    "\n",
    "# Vẽ biểu đồ con 3\n",
    "axs[1, 0].boxplot([df[df['Sub-Category'] == sub_category]['Sales'] for sub_category in df['Sub-Category'].unique()], notch=True, showfliers=False)\n",
    "axs[1, 0].set_title('Boxplot Sales by Sub-Category', fontsize=14, fontweight='bold')\n",
    "axs[1, 0].set_xlabel('Sub-Category', fontsize=12)\n",
    "axs[1, 0].set_ylabel('Sales', fontsize=12)\n",
    "axs[1, 0].ticklabel_format(style='plain', axis='y')\n",
    "axs[1, 0].set_xticklabels(df['Sub-Category'].unique(), rotation=90)\n",
    "axs[1, 0].grid(axis='y')\n",
    "\n",
    "# Xoá biểu đồ góc [1, 1]\n",
    "axs[1, 1].remove()\n",
    "\n",
    "plt.tight_layout()\n",
    "plt.show()"
   ]
  },
  {
   "cell_type": "markdown",
   "metadata": {},
   "source": [
    "#### 2. Profit\n",
    "\n",
    "Tính lợi nhuận (Profit) các sản phẩm đã bán dựa theo Category và Sub-category. Cách làm tương tự như trên."
   ]
  },
  {
   "cell_type": "code",
   "execution_count": null,
   "metadata": {},
   "outputs": [
    {
     "data": {
      "image/png": "[encoded data removed]",
      "text/plain": [
       "<Figure size 1080x648 with 3 Axes>"
      ]
     },
     "metadata": {
      "needs_background": "light"
     },
     "output_type": "display_data"
    }
   ],
   "source": [
    "# Tính tổng giá trị Profit theo Category\n",
    "# Gộp nhóm theo Category để tạo bảng tính tổng và lưu vào dataframe\n",
    "profit_per_category = df[['Category', 'Profit']].groupby('Category').sum().reset_index()\n",
    "profit_per_category.sort_values(by='Profit', ascending=False, inplace=True)\n",
    "\n",
    "# Tính giá trị trung bình sale theo Category và lưu vào dataframe\n",
    "mean_profit_per_category = df[['Category', 'Profit']].groupby('Category').mean().reset_index()\n",
    "mean_profit_per_category.sort_values(by='Profit', ascending=False, inplace=True)\n",
    "\n",
    "# kết hợp biểu đồ\n",
    "fig, axs = plt.subplots(nrows=2, ncols=2, figsize=(15,9))\n",
    "fig.suptitle('Profit Analysis by Category',fontweight='bold',fontsize=20)\n",
    "\n",
    "# Vẽ biểu đồ con 1\n",
    "axs[0, 0].bar(profit_per_category['Category'], profit_per_category['Profit'], width=0.5, color='#142459')\n",
    "axs[0, 0].set_title('Profit by Category', fontsize=14, fontweight='bold')\n",
    "axs[0, 0].set_xlabel('Category', fontsize=12)\n",
    "axs[0, 0].set_ylabel('Profit', fontsize=12)\n",
    "axs[0, 0].ticklabel_format(style='plain', axis='y')\n",
    "axs[0, 0].tick_params(axis='x', which='major', labelsize=10)\n",
    "axs[0, 0].grid(axis='y')\n",
    "\n",
    "# Vẽ biểu đồ con 2\n",
    "axs[0, 1].bar(mean_profit_per_category['Category'], mean_profit_per_category['Profit'], width=0.5, color='#142459')\n",
    "axs[0, 1].set_title('Mean Profit by Category',fontsize=14, fontweight='bold')\n",
    "axs[0, 1].set_xlabel('Category', fontsize=12)\n",
    "axs[0, 1].set_ylabel('Profit', fontsize=12)\n",
    "axs[0, 1].ticklabel_format(style='plain', axis='y')\n",
    "axs[0, 1].tick_params(axis='x', which='major', labelsize=10)\n",
    "axs[0, 1].grid(axis='y')\n",
    "\n",
    "# Vẽ biểu đồ con 3\n",
    "axs[1, 0].boxplot([df[df['Category'] == category]['Profit'] for category in df['Category'].unique()], notch=True, showfliers=False)\n",
    "axs[1, 0].set_title('Boxplot Profit by Category', fontsize=14, fontweight='bold')\n",
    "axs[1, 0].set_xlabel('Category', fontsize=12)\n",
    "axs[1, 0].set_ylabel('Profit', fontsize=12)\n",
    "axs[1, 0].ticklabel_format(style='plain', axis='y')\n",
    "axs[1, 0].set_xticklabels(df['Category'].unique())\n",
    "axs[1, 0].grid(axis='y')\n",
    "\n",
    "# Xoá biểu đồ góc [1, 1]\n",
    "axs[1, 1].remove()\n",
    "\n",
    "plt.tight_layout()\n",
    "plt.show()"
   ]
  },
  {
   "cell_type": "code",
   "execution_count": null,
   "metadata": {},
   "outputs": [
    {
     "data": {
      "image/png": "[encoded data removed]",
      "text/plain": [
       "<Figure size 1080x648 with 3 Axes>"
      ]
     },
     "metadata": {
      "needs_background": "light"
     },
     "output_type": "display_data"
    }
   ],
   "source": [
    "# Tính tổng giá trị Profit theo Sub-Category\n",
    "# Gộp nhóm theo Sub-Category để tạo bảng tính tổng và lưu vào dataframe\n",
    "profit_per_Sub_Category = df[['Sub-Category', 'Profit']].groupby('Sub-Category').sum().reset_index()\n",
    "profit_per_Sub_Category.sort_values(by='Profit', ascending=False, inplace=True)\n",
    "\n",
    "# Tính giá trị trung bình sale theo Sub-Category và lưu vào dataframe\n",
    "mean_profit_per_Sub_Category = df[['Sub-Category', 'Profit']].groupby('Sub-Category').mean().reset_index()\n",
    "mean_profit_per_Sub_Category.sort_values(by='Profit', ascending=False, inplace=True)\n",
    "\n",
    "# kết hợp biểu đồ\n",
    "fig, axs = plt.subplots(nrows=2, ncols=2, figsize=(15,9))\n",
    "fig.suptitle('Profit Analysis by Sub-Category',fontweight='bold',fontsize=20)\n",
    "\n",
    "# Vẽ biểu đồ con 1\n",
    "axs[0, 0].bar(profit_per_Sub_Category['Sub-Category'], profit_per_Sub_Category['Profit'], width=0.5, color='#142459')\n",
    "axs[0, 0].set_title('Profit by Sub-Category', fontsize=14, fontweight='bold')\n",
    "axs[0, 0].set_xlabel('Sub-Category', fontsize=12)\n",
    "axs[0, 0].set_ylabel('Profit', fontsize=12)\n",
    "axs[0, 0].ticklabel_format(style='plain', axis='y')\n",
    "axs[0, 0].tick_params(axis='x', which='major', labelsize=10,rotation=90)\n",
    "axs[0, 0].grid(axis='y')\n",
    "\n",
    "# Vẽ biểu đồ con 2\n",
    "axs[0, 1].bar(mean_profit_per_Sub_Category['Sub-Category'], mean_profit_per_Sub_Category['Profit'], width=0.5, color='#142459')\n",
    "axs[0, 1].set_title('Mean Profit by Sub-Category',fontsize=14, fontweight='bold')\n",
    "axs[0, 1].set_xlabel('Sub-Category', fontsize=12)\n",
    "axs[0, 1].set_ylabel('Profit', fontsize=12)\n",
    "axs[0, 1].ticklabel_format(style='plain', axis='y')\n",
    "axs[0, 1].tick_params(axis='x', which='major', labelsize=10,rotation=90)\n",
    "axs[0, 1].grid(axis='y')\n",
    "\n",
    "# Vẽ biểu đồ con 3\n",
    "axs[1, 0].boxplot([df[df['Sub-Category'] == Sub_Category]['Profit'] for Sub_Category in df['Sub-Category'].unique()], notch=True, showfliers=False)\n",
    "axs[1, 0].set_title('Boxplot Profit by Sub-Category', fontsize=14, fontweight='bold')\n",
    "axs[1, 0].set_xlabel('Sub-Category', fontsize=12)\n",
    "axs[1, 0].set_ylabel('Profit', fontsize=12)\n",
    "axs[1, 0].ticklabel_format(style='plain', axis='y')\n",
    "axs[1, 0].set_xticklabels(df['Sub-Category'].unique(),rotation=90)\n",
    "axs[1, 0].grid(axis='y')\n",
    "\n",
    "# Xoá biểu đồ góc [1, 1]\n",
    "axs[1, 1].remove()\n",
    "\n",
    "plt.tight_layout()\n",
    "plt.show()"
   ]
  },
  {
   "cell_type": "markdown",
   "metadata": {},
   "source": [
    "#### 3. Quantity\n",
    "\n",
    "Tính số lượng (Quantity) các sản phẩm đã bán dựa theo Category và Sub-category. Cách làm tương tự như trên."
   ]
  },
  {
   "cell_type": "code",
   "execution_count": null,
   "metadata": {},
   "outputs": [
    {
     "data": {
      "image/png": "[encoded data removed]",
      "text/plain": [
       "<Figure size 1080x648 with 3 Axes>"
      ]
     },
     "metadata": {
      "needs_background": "light"
     },
     "output_type": "display_data"
    }
   ],
   "source": [
    "# Tính tổng giá trị Quantity theo Category\n",
    "# Gộp nhóm theo Category để tạo bảng tính tổng và lưu vào dataframe\n",
    "Quantity_per_category = df[['Category', 'Quantity']].groupby('Category').sum().reset_index()\n",
    "Quantity_per_category.sort_values(by='Quantity', ascending=False, inplace=True)\n",
    "\n",
    "# Tính giá trị trung bình sale theo Category và lưu vào dataframe\n",
    "mean_Quantity_per_category = df[['Category', 'Quantity']].groupby('Category').mean().reset_index()\n",
    "mean_Quantity_per_category.sort_values(by='Quantity', ascending=False, inplace=True)\n",
    "\n",
    "# kết hợp biểu đồ\n",
    "fig, axs = plt.subplots(nrows=2, ncols=2, figsize=(15,9))\n",
    "fig.suptitle('Quantity Analysis by Category',fontweight='bold',fontsize=20)\n",
    "\n",
    "# Vẽ biểu đồ con 1\n",
    "axs[0, 0].bar(Quantity_per_category['Category'], Quantity_per_category['Quantity'], width=0.5, color='#142459')\n",
    "axs[0, 0].set_title('Quantity by Category', fontsize=14, fontweight='bold')\n",
    "axs[0, 0].set_xlabel('Category', fontsize=12)\n",
    "axs[0, 0].set_ylabel('Quantity', fontsize=12)\n",
    "axs[0, 0].ticklabel_format(style='plain', axis='y')\n",
    "axs[0, 0].tick_params(axis='x', which='major', labelsize=10)\n",
    "axs[0, 0].grid(axis='y')\n",
    "\n",
    "# Vẽ biểu đồ con 2\n",
    "axs[0, 1].bar(mean_Quantity_per_category['Category'], mean_Quantity_per_category['Quantity'], width=0.5, color='#142459')\n",
    "axs[0, 1].set_title('Mean Quantity by Category',fontsize=14, fontweight='bold')\n",
    "axs[0, 1].set_xlabel('Category', fontsize=12)\n",
    "axs[0, 1].set_ylabel('Quantity', fontsize=12)\n",
    "axs[0, 1].ticklabel_format(style='plain', axis='y')\n",
    "axs[0, 1].tick_params(axis='x', which='major', labelsize=10)\n",
    "axs[0, 1].grid(axis='y')\n",
    "\n",
    "# Vẽ biểu đồ con 3\n",
    "axs[1, 0].boxplot([df[df['Category'] == category]['Quantity'] for category in df['Category'].unique()], notch=True, showfliers=False)\n",
    "axs[1, 0].set_title('Boxplot Quantity by Category', fontsize=14, fontweight='bold')\n",
    "axs[1, 0].set_xlabel('Category', fontsize=12)\n",
    "axs[1, 0].set_ylabel('Quantity', fontsize=12)\n",
    "axs[1, 0].ticklabel_format(style='plain', axis='y')\n",
    "axs[1, 0].set_xticklabels(df['Category'].unique())\n",
    "axs[1, 0].grid(axis='y')\n",
    "\n",
    "# Xoá biểu đồ góc [1, 1]\n",
    "axs[1, 1].remove()\n",
    "\n",
    "plt.tight_layout()\n",
    "plt.show()"
   ]
  },
  {
   "cell_type": "code",
   "execution_count": null,
   "metadata": {},
   "outputs": [
    {
     "data": {
      "image/png": "[encoded data removed]",
      "text/plain": [
       "<Figure size 1080x648 with 3 Axes>"
      ]
     },
     "metadata": {
      "needs_background": "light"
     },
     "output_type": "display_data"
    }
   ],
   "source": [
    "# Tính tổng giá trị Quantity theo Sub-Category\n",
    "# Gộp nhóm theo Sub-Category để tạo bảng tính tổng và lưu vào dataframe\n",
    "Quantity_per_Sub_Category = df[['Sub-Category', 'Quantity']].groupby('Sub-Category').sum().reset_index()\n",
    "Quantity_per_Sub_Category.sort_values(by='Quantity', ascending=False, inplace=True)\n",
    "\n",
    "# Tính giá trị trung bình sale theo Sub-Category và lưu vào dataframe\n",
    "mean_Quantity_per_Sub_Category = df[['Sub-Category', 'Quantity']].groupby('Sub-Category').mean().reset_index()\n",
    "mean_Quantity_per_Sub_Category.sort_values(by='Quantity', ascending=False, inplace=True)\n",
    "\n",
    "# kết hợp biểu đồ\n",
    "fig, axs = plt.subplots(nrows=2, ncols=2, figsize=(15,9))\n",
    "fig.suptitle('Quantity Analysis by Sub-Category',fontweight='bold',fontsize=20)\n",
    "\n",
    "# Vẽ biểu đồ con 1\n",
    "axs[0, 0].bar(Quantity_per_Sub_Category['Sub-Category'], Quantity_per_Sub_Category['Quantity'], width=0.5, color='#142459')\n",
    "axs[0, 0].set_title('Quantity by Sub-Category', fontsize=14, fontweight='bold')\n",
    "axs[0, 0].set_xlabel('Sub-Category', fontsize=12)\n",
    "axs[0, 0].set_ylabel('Quantity', fontsize=12)\n",
    "axs[0, 0].ticklabel_format(style='plain', axis='y')\n",
    "axs[0, 0].tick_params(axis='x', which='major', labelsize=10,rotation=90)\n",
    "axs[0, 0].grid(axis='y')\n",
    "\n",
    "# Vẽ biểu đồ con 2\n",
    "axs[0, 1].bar(mean_Quantity_per_Sub_Category['Sub-Category'], mean_Quantity_per_Sub_Category['Quantity'], width=0.5, color='#142459')\n",
    "axs[0, 1].set_title('Mean Quantity by Sub-Category',fontsize=14, fontweight='bold')\n",
    "axs[0, 1].set_xlabel('Sub-Category', fontsize=12)\n",
    "axs[0, 1].set_ylabel('Quantity', fontsize=12)\n",
    "axs[0, 1].ticklabel_format(style='plain', axis='y')\n",
    "axs[0, 1].tick_params(axis='x', which='major', labelsize=10,rotation=90)\n",
    "axs[0, 1].grid(axis='y')\n",
    "\n",
    "# Vẽ biểu đồ con 3\n",
    "axs[1, 0].boxplot([df[df['Sub-Category'] == Sub_Category]['Quantity'] for Sub_Category in df['Sub-Category'].unique()], notch=True, showfliers=False)\n",
    "axs[1, 0].set_title('Boxplot Quantity by Sub-Category', fontsize=14, fontweight='bold')\n",
    "axs[1, 0].set_xlabel('Sub-Category', fontsize=12)\n",
    "axs[1, 0].set_ylabel('Quantity', fontsize=12)\n",
    "axs[1, 0].ticklabel_format(style='plain', axis='y')\n",
    "axs[1, 0].set_xticklabels(df['Sub-Category'].unique(),rotation=90)\n",
    "axs[1, 0].grid(axis='y')\n",
    "\n",
    "# Xoá biểu đồ góc [1, 1]\n",
    "axs[1, 1].remove()\n",
    "\n",
    "plt.tight_layout()\n",
    "plt.show()"
   ]
  },
  {
   "attachments": {},
   "cell_type": "markdown",
   "metadata": {},
   "source": [
    "**Từ các biểu đồ về phân tích sản phẩm như trên, ta rút ra được các nhận xét như sau:**\n",
    "1. Về doanh số bán hàng (Biểu đồ 1, 2):\n",
    "- Xét theo Category: Nhóm Technology (Các hàng hoá liên quan đến công nghệ) luôn có tổng doanh số, trung bình doanh số cao nhất, tiếp đến là nhóm Funiture (nội thất) và thấp nhất là nhóm Office Supplies.\n",
    "- Xét theo Sub-Category: xét về tổng doanh số (Sales) thì Phones and Chair là lớn nhất, còn xét về Sales trung bình thì Copies và Machines có Sales trung bình cao nhất, và cao hơn hẳn so với các sản phẩm còn lại.\n",
    "- Về Boxplot, ta thấy hầu hết các loại hàng đều có Sales phân bố trong khoảng khá hẹp (Ngoại trừ Machines và Copies, biểu đồ 2).\n",
    "2. Về lợi nhuận (Biểu đồ 3, 4):\n",
    "- Xét theo Category: Nhóm Technology luôn có tổng lợi nhuận và trung bình lợi nhuận cao nhất (riêng trung bình lợi nhuận thì Technology chiếm ưu thế áp đảo so với 2 nhóm mặt hàng Funiture và Office Supplies).\n",
    "- Xét theo Sub-Category: Copies, Phones, Accessories có tổng lợi nhuận cao nhất. Thế nhưng nếu xét về trung bình lợi nhuận thì Copies có lợi nhuận lớn nhất và áp đảo hoàn toàn so với toàn bộ những sản phẩm khác. Có một điểm đặt biệt là có những sản phẩm mang lại lợi nhuận âm (Bookcases, Supplies, Tables).\n",
    "- Về Boxplot, ta thấy Machines và Copies là có khoảng phân bố rộng và cao hơn, còn tất cả những sản phẩm còn lại có khoảng phân bố khá hẹp và thấp hơn.\n",
    "3. Về số lượng (Biểu đồ 5, 6):\n",
    "- Xét theo Category: tổng số lượng đặt mua của Office Supplies là lớn nhất, nhưng về số lượng trung bình trên mỗi đơn đặt hàng thì cả 3 loại sản phẩm đều có số lượng đặt hàng gần như nhau (xấp xỉ 3,8 mặt hàng/1 đơn hàng).\n",
    "- Xét theo Sub-Category: Binders, Papers có số lượng đặt hàng cao nhất. Thế nhưng, về trung bình số lượng hàng / 1 đơn đặt hàng thì hầu như tất cả các loại sản phẩm đều ngang nhau.\n",
    "- Về Botplot: Tất cả các loại sản phẩm đều khá giống nhau về khoảng phân bố."
   ]
  },
  {
   "attachments": {},
   "cell_type": "markdown",
   "metadata": {},
   "source": [
    "**Từ những đánh giá trên, ta có thể tổng hợp lại như sau**:\n",
    "- Office Supplies luôn có số lượng bán ra nhiều nhất (ví dụ như Binders, Papers,...). Thế nhưng chúng lại có doanh số bán ra và lợi nhuận không phải là cao nhất.\n",
    "- Trong khi đó, Technology dù số lượng không bán ra nhiều, nhưng chúng lại chiếm doanh số và lợi nhuận lớn nhất.\n",
    "- Funiture thì số lượng bán ra cũng không nhiều, chúng cũng mang lại quá nhiều lợi nhuận, thậm chí có một số mặt hàng có lợi nhuận âm (Tables, Bookcases,...)\n",
    "\n",
    "Từ đây, ta có thể gợi ý một vài chính sách để tăng cường lợi nhuận cho siêu thị như:\n",
    "- Tăng số lượng hàng hoá nhập vào thuộc nhóm Technology để tăng lợi nhuận\n",
    "- Giảm nhập vào một số hàng hoá thuộc nhóm Funiture vì chúng mang lại rất ít lợi nhuận\n",
    "- Vẫn giữ số lượng hàng hoá nhập vào của Office Supplies, mặc dù chúng không mang lại quá nhiều lợi nhuận như Technology nhưng người dùng có nhu cầu rất lớn về những mặt hàng này (Có thể thấy qua Quantity thì Office Supplies chiếm số lượng lớn nhất)."
   ]
  },
  {
   "attachments": {},
   "cell_type": "markdown",
   "metadata": {},
   "source": [
    "### Câu 5: Hãy phân tích về các sự kiện discount của cửa hàng và mối liên hệ giữa Discount và các yếu tố khác.\n",
    "\n",
    "Để trả lời câu hỏi này, ta sẽ phân tích các yếu tố khi có Discount và khi không có Discount có sự khác biệt với nhau như thế nào. Các yếu tố này có thể bao gồm: Total Sales, Mean Sales, Total Profits,...\n",
    "\n",
    "#### 1. Discount và Sales"
   ]
  },
  {
   "cell_type": "code",
   "execution_count": null,
   "metadata": {},
   "outputs": [
    {
     "data": {
      "image/png": "[encoded data removed]",
      "text/plain": [
       "<Figure size 864x576 with 4 Axes>"
      ]
     },
     "metadata": {
      "needs_background": "light"
     },
     "output_type": "display_data"
    }
   ],
   "source": [
    "# Tổng hợp dữ liệu\n",
    "orders_with_discount = df.copy()\n",
    "orders_with_discount['With Discount'] = orders_with_discount['Discount'].apply(lambda x: x > 0)\n",
    "orders_with_discount.replace({False: 'Without Discount', True: 'With Discount'}, inplace = True)\n",
    "\n",
    "orders_with_discount_sales = orders_with_discount[['With Discount', 'Sales']].groupby('With Discount', as_index = False).sum()\n",
    "orders_with_discount_meanSales = orders_with_discount[['With Discount', 'Sales']].groupby('With Discount', as_index = False).mean()\n",
    "\n",
    "# Vẽ biểu đồ\n",
    "fig, axs = plt.subplots(nrows=2, ncols=2, figsize=(12,8))\n",
    "fig.suptitle('Discount and Sales Analysis',fontweight='bold',fontsize=20)\n",
    "\n",
    "# Hàm để tính tỉ lệ %\n",
    "def make_autopct(values):\n",
    "    def my_autopct(pct):\n",
    "        total = sum(values)\n",
    "        val = int(round(pct*total/100.0))\n",
    "        return '{p:.2f}%  ({v:d})'.format(p=pct,v=val)\n",
    "    return my_autopct\n",
    "\n",
    "# Vẽ biểu đồ con 1\n",
    "axs[0, 0].bar(orders_with_discount_sales['With Discount'], orders_with_discount_sales['Sales'], width=0.5, color='#142459')\n",
    "axs[0, 0].set_title('Total Sales & Discount Barchart', fontsize=14, fontweight='bold')\n",
    "axs[0, 0].set_xlabel('Types', fontsize=12)\n",
    "axs[0, 0].set_ylabel('Sales', fontsize=12)\n",
    "axs[0, 0].ticklabel_format(style='plain', axis='y')\n",
    "axs[0, 0].tick_params(axis='x', which='major', labelsize=10)\n",
    "axs[0, 0].grid(axis='y')\n",
    "\n",
    "# Vẽ biểu đồ con 2\n",
    "axs[0, 1].pie(orders_with_discount_sales['Sales'], autopct=make_autopct(orders_with_discount_sales['Sales']))\n",
    "axs[0, 1].set_title('Total Sales & Discount Piechart',fontsize=14, fontweight='bold')\n",
    "axs[0,1].legend(orders_with_discount_sales['With Discount'],\n",
    "          title=\"Types\",\n",
    "          loc=\"center left\",\n",
    "          bbox_to_anchor=(1, 0, 0.5, 1))\n",
    "\n",
    "# Vẽ biểu đồ con 3\n",
    "axs[1, 0].bar(orders_with_discount_meanSales['With Discount'], orders_with_discount_meanSales['Sales'], width=0.5, color='#142459')\n",
    "axs[1, 0].set_title('Mean Sales & Discount Barchart', fontsize=14, fontweight='bold')\n",
    "axs[1, 0].set_xlabel('Types', fontsize=12)\n",
    "axs[1, 0].set_ylabel('Sales', fontsize=12)\n",
    "axs[1, 0].ticklabel_format(style='plain', axis='y')\n",
    "axs[1, 0].tick_params(axis='x', which='major', labelsize=10)\n",
    "axs[1, 0].grid(axis='y')\n",
    "\n",
    "# Vẽ biểu đồ con 4\n",
    "axs[1, 1].pie(orders_with_discount_meanSales['Sales'], autopct=make_autopct(orders_with_discount_meanSales['Sales']))\n",
    "axs[1, 1].set_title('Mean Sales & Discount Piechart',fontsize=14, fontweight='bold')\n",
    "axs[1, 1].legend(orders_with_discount_sales['With Discount'],\n",
    "          title=\"Types\",\n",
    "          loc=\"center left\",\n",
    "          bbox_to_anchor=(1, 0, 0.5, 1))\n",
    "\n",
    "plt.tight_layout()\n",
    "plt.show()\n"
   ]
  },
  {
   "attachments": {},
   "cell_type": "markdown",
   "metadata": {},
   "source": [
    "**Nhận xét**: Có vẻ như doanh số bán hàng khi Discount và không có Discount gần như tương đương nhau. Điều này chứng tỏ những đơn hàng có Discount chiếm doanh số tương đối lớn."
   ]
  },
  {
   "attachments": {},
   "cell_type": "markdown",
   "metadata": {},
   "source": [
    "#### 2. Discount và Profits"
   ]
  },
  {
   "cell_type": "code",
   "execution_count": null,
   "metadata": {},
   "outputs": [
    {
     "data": {
      "image/png": "[encoded data removed]",
      "text/plain": [
       "<Figure size 864x576 with 2 Axes>"
      ]
     },
     "metadata": {
      "needs_background": "light"
     },
     "output_type": "display_data"
    }
   ],
   "source": [
    "# Tổng hợp dữ liệu\n",
    "orders_with_discount_profit = orders_with_discount[['With Discount', 'Profit']].groupby('With Discount', as_index = False).sum()\n",
    "orders_with_discount_mean_profit = orders_with_discount[['With Discount', 'Profit']].groupby('With Discount', as_index = False).mean()\n",
    "\n",
    "# Vẽ biểu đồ\n",
    "fig, axs = plt.subplots(nrows=1, ncols=2, figsize=(12,8))\n",
    "fig.suptitle('Discount and Profits Analysis',fontweight='bold',fontsize=20)\n",
    "\n",
    "# Hàm để tính tỉ lệ %\n",
    "def make_autopct(values):\n",
    "    def my_autopct(pct):\n",
    "        total = sum(values)\n",
    "        val = int(round(pct*total/100.0))\n",
    "        return '{p:.2f}%  ({v:d})'.format(p=pct,v=val)\n",
    "    return my_autopct\n",
    "\n",
    "# Vẽ biểu đồ con 1\n",
    "axs[0].bar(orders_with_discount_profit['With Discount'], orders_with_discount_profit['Profit'], width=0.5, color='#142459')\n",
    "axs[0].set_title('Total Profits & Discount Barchart', fontsize=14, fontweight='bold')\n",
    "axs[0].set_xlabel('Types', fontsize=12)\n",
    "axs[0].set_ylabel('Profits', fontsize=12)\n",
    "axs[0].ticklabel_format(style='plain', axis='y')\n",
    "axs[0].tick_params(axis='x', which='major', labelsize=10)\n",
    "axs[0].grid(axis='y')\n",
    "\n",
    "# Vẽ biểu đồ con 2\n",
    "axs[1].bar(orders_with_discount_mean_profit['With Discount'], orders_with_discount_mean_profit['Profit'], width=0.5, color='#142459')\n",
    "axs[1].set_title('Mean Profits & Discount Barchart', fontsize=14, fontweight='bold')\n",
    "axs[1].set_xlabel('Types', fontsize=12)\n",
    "axs[1].set_ylabel('Profits', fontsize=12)\n",
    "axs[1].ticklabel_format(style='plain', axis='y')\n",
    "axs[1].tick_params(axis='x', which='major', labelsize=10)\n",
    "axs[1].grid(axis='y')\n",
    "\n",
    "plt.tight_layout()\n",
    "plt.show()"
   ]
  },
  {
   "attachments": {},
   "cell_type": "markdown",
   "metadata": {},
   "source": [
    "**Nhận xét:** Có vẻ như khi có Discount thì lợi nhuận tổng cộng và lợi nhuận trung bình thu được của sản phẩm giảm đi.\n"
   ]
  },
  {
   "attachments": {},
   "cell_type": "markdown",
   "metadata": {},
   "source": [
    "#### 3. Discount và Frequency"
   ]
  },
  {
   "cell_type": "code",
   "execution_count": null,
   "metadata": {},
   "outputs": [
    {
     "data": {
      "image/png": "[encoded data removed]",
      "text/plain": [
       "<Figure size 720x432 with 2 Axes>"
      ]
     },
     "metadata": {
      "needs_background": "light"
     },
     "output_type": "display_data"
    }
   ],
   "source": [
    "########## DISCOUNT AND SEGMENT FREQUENCY #############\n",
    "# Prepare data\n",
    "segment_data = orders_with_discount['Segment']\n",
    "discount_data = orders_with_discount['With Discount']\n",
    "fig, ax = plt.subplots(nrows=1, ncols=2, figsize=(10,6))\n",
    "\n",
    "# Plot histogram\n",
    "ax[0].hist([segment_data[discount_data == 'With Discount'], segment_data[discount_data == 'Without Discount']],\n",
    "        bins = 3,\n",
    "        color=['#1FA040','#254B87'],\n",
    "        label=['With Discount', 'Without Discount'],\n",
    "        alpha = 0.7,\n",
    "        edgecolor = 'black')\n",
    "\n",
    "# Set Title and x/y ax[0]is labels\n",
    "ax[0].set_title(\"Frequency of Orders by Segment and Order Type\\n(With Discount / Without Discount)\", fontsize=14, y=1.05)\n",
    "ax[0].set_xlabel(\"Segment\")\n",
    "ax[0].set_ylabel(\"Number of Orders\")\n",
    "\n",
    "# Set legend\n",
    "ax[0].legend(title=\"Discount\", fontsize=12)\n",
    "\n",
    "ax[0].set_xticks([0.3,1, 1.7])\n",
    "\n",
    "########## DISCOUNT AND CATEGORY FREQUENCY #############\n",
    "# Plot histogram\n",
    "category_data = orders_with_discount['Category']\n",
    "discount_data = orders_with_discount['With Discount']\n",
    "ax[1].hist([category_data[discount_data == 'With Discount'], category_data[discount_data == 'Without Discount']],\n",
    "        bins = 3,\n",
    "        color=['#1FA040','#254B87'],\n",
    "        label=['With Discount', 'Without Discount'],\n",
    "        alpha = 0.7,\n",
    "        edgecolor = 'black')\n",
    "\n",
    "# Set Title and x/y ax[1]is labels\n",
    "ax[1].set_title(\"Frequency of Orders by Category and Order Type\\n(With Discount / Without Discount)\", fontsize=14, y=1.05)\n",
    "ax[1].set_xlabel(\"Category\")\n",
    "ax[1].set_ylabel(\"Number of Orders\")\n",
    "\n",
    "# Set legend\n",
    "ax[1].legend(title=\"Discount\", fontsize=12)\n",
    "\n",
    "ax[1].set_xticks([0.3,1, 1.7])\n",
    "\n",
    "\n",
    "# Adjust layout\n",
    "fig.tight_layout()\n",
    "\n",
    "plt.show()"
   ]
  },
  {
   "cell_type": "code",
   "execution_count": null,
   "metadata": {},
   "outputs": [
    {
     "data": {
      "image/png": "[encoded data removed]",
      "text/plain": [
       "<Figure size 1584x432 with 1 Axes>"
      ]
     },
     "metadata": {
      "needs_background": "light"
     },
     "output_type": "display_data"
    }
   ],
   "source": [
    "\n",
    "# Prepare data\n",
    "SubCategory_data = orders_with_discount['Sub-Category']\n",
    "discount_data = orders_with_discount['With Discount']\n",
    "fig, ax = plt.subplots(figsize=(22,6))\n",
    "\n",
    "# Plot histogram\n",
    "hist = ax.hist([SubCategory_data[discount_data == 'With Discount'], SubCategory_data[discount_data == 'Without Discount']],\n",
    "               bins = 17,\n",
    "               color=['#1FA040','#254B87'],\n",
    "               label=['With Discount', 'Without Discount'],\n",
    "               alpha = 0.7,\n",
    "               rwidth=0.7,\n",
    "               edgecolor = 'black')\n",
    "\n",
    "# Set Title and x/y axis labels\n",
    "ax.set_title(\"Frequency of Orders by Sub-Category and Order Type\\n(With Discount / Without Discount)\", fontsize=14, y=1.05)\n",
    "ax.set_xlabel(\"Sub-Category\")\n",
    "ax.set_ylabel(\"Number of Orders\")\n",
    "\n",
    "# Set legend\n",
    "ax.legend(title=\"Discount\", fontsize=12)\n",
    "\n",
    "# Set x ticks and labels\n",
    "midpoints = 0.5 * (hist[1][1:] + hist[1][:-1]) # Calculate the midpoints of each bin\n",
    "ax.set_xticks(midpoints)\n",
    "\n",
    "plt.show()"
   ]
  },
  {
   "attachments": {},
   "cell_type": "markdown",
   "metadata": {},
   "source": [
    "**Nhận xét:** \n",
    "- Về mối liên hệ giữa Discount và Segment: Ta thấy ở các phân khúc, khi có Discount thì số lượng đơn hàng của các Segment tăng lên (Ngoại trừ HomeOffice thì có hơi giảm một chút).\n",
    "- Về mối liên hệ giữa Discount và Category: Số đơn hàng của Funiture và Technology khi có Discount tăng lên nhiều hơn.\n",
    "- Về mối liên hệ giữa Discount và Sub-Category: Một số loại hàng khi có Discount tăng nhiều hơn khi không có Discount như: Binders, Phones, Chairs, Bookcases, Tables. Những loại hàng còn lại thì dù có Discount nhưng số đơn hàng vẫn ít hơn không có Discount. Có lẽ do sự cần thiết của những loại hàng này nên họ không đợi khi có Discount rồi mới mua hàng."
   ]
  },
  {
   "attachments": {},
   "cell_type": "markdown",
   "metadata": {},
   "source": [
    "**Tóm lại**:\n",
    "- Discount có tác động tích cực đến doanh số bán hàng.\n",
    "- Thế nhưng, về tổng lợi nhuận và lợi nhuận trung bình thì khi có Discount, lợi nhuận là số âm (nghĩa là khi có Discount thì bán bị lỗ).\n",
    "- Discount ảnh hưởng tương đối lớn đến tần suất mua hàng, khi số lượng các đơn hàng có Discount gần bằng số lượng đơn hàng không có Discount.\n",
    "- Với mỗi loại mặt hàng khác nhau thì Discount sẽ có các mức độ ảnh hưởng khác nhau.\n",
    "- Như vậy, ta có thể rút ra được rằng: Dù Discount làm giảm đi lợi nhuận, thế nhưng mức giảm này không quá lớn, vì thế siêu thị có thể khuyến mãi thêm nhiều Discount để tăng thêm doanh số bán hàng."
   ]
  },
  {
   "attachments": {},
   "cell_type": "markdown",
   "metadata": {},
   "source": [
    "### Câu 6: Đánh giá và phân tích về khách hàng\n"
   ]
  },
  {
   "cell_type": "markdown",
   "metadata": {},
   "source": [
    "**Top khách hàng theo Sales**\n"
   ]
  },
  {
   "cell_type": "code",
   "execution_count": null,
   "metadata": {},
   "outputs": [
    {
     "data": {
      "text/plain": [
       "<Axes: title={'center': 'Tên khách hàng & Số lượng đơn hàng'}>"
      ]
     },
     "execution_count": 36,
     "metadata": {},
     "output_type": "execute_result"
    },
    {
     "data": {
      "image/png": "[encoded data removed]",
      "text/plain": [
       "<Figure size 432x288 with 1 Axes>"
      ]
     },
     "metadata": {
      "needs_background": "light"
     },
     "output_type": "display_data"
    }
   ],
   "source": [
    "df['Customer Name'].value_counts()[:10].plot(kind='barh',title='Tên khách hàng & Số lượng đơn hàng')"
   ]
  },
  {
   "attachments": {},
   "cell_type": "markdown",
   "metadata": {},
   "source": [
    "Nhận xét:\n",
    "- Biểu đồ thể hiện top những khách hàng và số lượng đơn hàng của họ. Có thể thấy sự chênh lệch nhưng không đáng kể."
   ]
  },
  {
   "cell_type": "markdown",
   "metadata": {},
   "source": [
    "**Phần trăm lợi nhuận của Top 9 khách hàng**"
   ]
  },
  {
   "cell_type": "code",
   "execution_count": null,
   "metadata": {},
   "outputs": [],
   "source": [
    "customers = list(df['Customer Name'].value_counts()[:10].index)\n",
    "filters = df['Customer Name'].isin(customers)\n",
    "A = df[filters]"
   ]
  },
  {
   "cell_type": "code",
   "execution_count": null,
   "metadata": {},
   "outputs": [],
   "source": [
    "#  Zuschuss Carroll is in the top 10 but her/his profit is negative\n",
    "A = A[A['Customer Name'] != 'Zuschuss Carroll']\n",
    "del customers[-2]"
   ]
  },
  {
   "cell_type": "code",
   "execution_count": null,
   "metadata": {},
   "outputs": [
    {
     "data": {
      "image/png": "[encoded data removed]",
      "text/plain": [
       "<Figure size 1080x1080 with 1 Axes>"
      ]
     },
     "metadata": {},
     "output_type": "display_data"
    }
   ],
   "source": [
    "colors = color=['#F05454','#30475E' ,'#1f77b4', '#ff7f0e', '#2ca02c', '#d62728', '#9467bd', '#8c564b', '#e377c2', '#7f7f7f', '#bcbd22', '#17becf'] \n",
    "plt.figure(figsize=(15,15))\n",
    "values = A.groupby('Customer Name')['Profit'].sum()\n",
    "\n",
    "plt.pie(values, labels = customers, colors = colors, autopct='%.0f%%')\n",
    "plt.title(\"Tổng số phần % lợi nhuận của 9 khách hàng\")\n",
    "plt.show()"
   ]
  },
  {
   "cell_type": "markdown",
   "metadata": {},
   "source": [
    "**Danh mục khách hàng mua nhiều nhất** "
   ]
  },
  {
   "cell_type": "code",
   "execution_count": null,
   "metadata": {},
   "outputs": [
    {
     "data": {
      "image/png": "[encoded data removed]",
      "text/plain": [
       "<Figure size 432x288 with 1 Axes>"
      ]
     },
     "metadata": {
      "needs_background": "light"
     },
     "output_type": "display_data"
    }
   ],
   "source": [
    "values = A.groupby('Category')['Customer Name'].count().plot(kind='barh',title='Tên danh mục và số lượng được mua bởi khách hàng')"
   ]
  },
  {
   "attachments": {},
   "cell_type": "markdown",
   "metadata": {},
   "source": [
    "Nhận xét:\n",
    "\n",
    "- Dựa vào biểu đồ ta có thể thấy sự không đồng đều sức mua của khách hàng theo danh mục. Trong đó danh mục Office Supplies là danh mục được ưa chuộng nhất tiếp theo sau đó là Furniture và Technology. Giữa Furniture và Technology không có sự chênh lệch đáng kể"
   ]
  },
  {
   "cell_type": "markdown",
   "metadata": {},
   "source": [
    "**Phân khúc bán hàng**"
   ]
  },
  {
   "cell_type": "code",
   "execution_count": null,
   "metadata": {},
   "outputs": [
    {
     "name": "stderr",
     "output_type": "stream",
     "text": [
      "<ipython-input-41-4524f742e94b>:1: FutureWarning:\n",
      "\n",
      "The default value of numeric_only in DataFrameGroupBy.sum is deprecated. In a future version, numeric_only will default to False. Either specify numeric_only or select only columns which should be valid for the function.\n",
      "\n"
     ]
    },
    {
     "data": {
      "text/html": [
       "<div>\n",
       "<style scoped>\n",
       "    .dataframe tbody tr th:only-of-type {\n",
       "        vertical-align: middle;\n",
       "    }\n",
       "\n",
       "    .dataframe tbody tr th {\n",
       "        vertical-align: top;\n",
       "    }\n",
       "\n",
       "    .dataframe thead th {\n",
       "        text-align: right;\n",
       "    }\n",
       "</style>\n",
       "<table border=\"1\" class=\"dataframe\">\n",
       "  <thead>\n",
       "    <tr style=\"text-align: right;\">\n",
       "      <th></th>\n",
       "      <th>Segment</th>\n",
       "      <th>Row ID</th>\n",
       "      <th>Sales</th>\n",
       "      <th>Quantity</th>\n",
       "      <th>Discount</th>\n",
       "      <th>Profit</th>\n",
       "    </tr>\n",
       "  </thead>\n",
       "  <tbody>\n",
       "    <tr>\n",
       "      <th>0</th>\n",
       "      <td>Consumer</td>\n",
       "      <td>25581329</td>\n",
       "      <td>1.161401e+06</td>\n",
       "      <td>19521</td>\n",
       "      <td>820.91</td>\n",
       "      <td>134119.2092</td>\n",
       "    </tr>\n",
       "    <tr>\n",
       "      <th>1</th>\n",
       "      <td>Corporate</td>\n",
       "      <td>15504734</td>\n",
       "      <td>7.061464e+05</td>\n",
       "      <td>11608</td>\n",
       "      <td>477.85</td>\n",
       "      <td>91979.1340</td>\n",
       "    </tr>\n",
       "    <tr>\n",
       "      <th>2</th>\n",
       "      <td>Home Office</td>\n",
       "      <td>8858952</td>\n",
       "      <td>4.296531e+05</td>\n",
       "      <td>6744</td>\n",
       "      <td>262.33</td>\n",
       "      <td>60298.6785</td>\n",
       "    </tr>\n",
       "  </tbody>\n",
       "</table>\n",
       "</div>"
      ],
      "text/plain": [
       "       Segment    Row ID         Sales  Quantity  Discount       Profit\n",
       "0     Consumer  25581329  1.161401e+06     19521    820.91  134119.2092\n",
       "1    Corporate  15504734  7.061464e+05     11608    477.85   91979.1340\n",
       "2  Home Office   8858952  4.296531e+05      6744    262.33   60298.6785"
      ]
     },
     "execution_count": 41,
     "metadata": {},
     "output_type": "execute_result"
    }
   ],
   "source": [
    "segments_info = df.groupby(\"Segment\").sum().reset_index()\n",
    "segments_info"
   ]
  },
  {
   "cell_type": "code",
   "execution_count": null,
   "metadata": {},
   "outputs": [
    {
     "data": {
      "text/html": [
       "<div>\n",
       "<style scoped>\n",
       "    .dataframe tbody tr th:only-of-type {\n",
       "        vertical-align: middle;\n",
       "    }\n",
       "\n",
       "    .dataframe tbody tr th {\n",
       "        vertical-align: top;\n",
       "    }\n",
       "\n",
       "    .dataframe thead th {\n",
       "        text-align: right;\n",
       "    }\n",
       "</style>\n",
       "<table border=\"1\" class=\"dataframe\">\n",
       "  <thead>\n",
       "    <tr style=\"text-align: right;\">\n",
       "      <th></th>\n",
       "      <th>Segment</th>\n",
       "      <th>Sales</th>\n",
       "    </tr>\n",
       "  </thead>\n",
       "  <tbody>\n",
       "    <tr>\n",
       "      <th>0</th>\n",
       "      <td>Consumer</td>\n",
       "      <td>1.161401e+06</td>\n",
       "    </tr>\n",
       "    <tr>\n",
       "      <th>1</th>\n",
       "      <td>Corporate</td>\n",
       "      <td>7.061464e+05</td>\n",
       "    </tr>\n",
       "    <tr>\n",
       "      <th>2</th>\n",
       "      <td>Home Office</td>\n",
       "      <td>4.296531e+05</td>\n",
       "    </tr>\n",
       "  </tbody>\n",
       "</table>\n",
       "</div>"
      ],
      "text/plain": [
       "       Segment         Sales\n",
       "0     Consumer  1.161401e+06\n",
       "1    Corporate  7.061464e+05\n",
       "2  Home Office  4.296531e+05"
      ]
     },
     "execution_count": 42,
     "metadata": {},
     "output_type": "execute_result"
    }
   ],
   "source": [
    "segments_info[['Segment' , 'Sales']]"
   ]
  },
  {
   "attachments": {},
   "cell_type": "markdown",
   "metadata": {},
   "source": [
    "Nhận xét:\n",
    "\n",
    "- Dựa vào dữ liệu thì chúng ta có 3 phân khúc bán hàng chính: Consumer, Corporate, Home Office. Như ta có thể thấy phân khúc Consumer cho ta kết quả tốt nhất: só lượng nhiều nhất, sales và profit xếp vị trí cao nhất, cho thấy phân khúc Consumer đóng một vai trò cực kì quan trọng trong bộ dữ liệu này. Tiếp theo đó là Corporate tuy đóng góp không nhỏ vào profit và sales nhưng so với phân khúc Consumer thì phân khúc này tỏ ra yếu thế và có sự chênh lệch cao giữa các phân khúc trong dữ liệu khi phân khúc Home Office mang lại profit và sales thấp nhất và thấp hơn rất nhiều nếu so sánh với 2 phân khúc trên."
   ]
  },
  {
   "cell_type": "code",
   "execution_count": null,
   "metadata": {},
   "outputs": [
    {
     "data": {
      "image/png": "[encoded data removed]",
      "text/plain": [
       "<Figure size 432x288 with 1 Axes>"
      ]
     },
     "metadata": {
      "needs_background": "light"
     },
     "output_type": "display_data"
    }
   ],
   "source": [
    "Viz_Bar(segments_info , 'Segment' ,'Sales')"
   ]
  },
  {
   "attachments": {},
   "cell_type": "markdown",
   "metadata": {},
   "source": [
    "Nhận xét: Biểu đồ cột phân khúc theo Sales"
   ]
  },
  {
   "cell_type": "markdown",
   "metadata": {},
   "source": [
    "**Lợi nhuận khách hàng**"
   ]
  },
  {
   "cell_type": "code",
   "execution_count": null,
   "metadata": {},
   "outputs": [
    {
     "data": {
      "text/html": [
       "<div>\n",
       "<style scoped>\n",
       "    .dataframe tbody tr th:only-of-type {\n",
       "        vertical-align: middle;\n",
       "    }\n",
       "\n",
       "    .dataframe tbody tr th {\n",
       "        vertical-align: top;\n",
       "    }\n",
       "\n",
       "    .dataframe thead th {\n",
       "        text-align: right;\n",
       "    }\n",
       "</style>\n",
       "<table border=\"1\" class=\"dataframe\">\n",
       "  <thead>\n",
       "    <tr style=\"text-align: right;\">\n",
       "      <th></th>\n",
       "      <th>Segment</th>\n",
       "      <th>Profit</th>\n",
       "    </tr>\n",
       "  </thead>\n",
       "  <tbody>\n",
       "    <tr>\n",
       "      <th>0</th>\n",
       "      <td>Consumer</td>\n",
       "      <td>134119.2092</td>\n",
       "    </tr>\n",
       "    <tr>\n",
       "      <th>1</th>\n",
       "      <td>Corporate</td>\n",
       "      <td>91979.1340</td>\n",
       "    </tr>\n",
       "    <tr>\n",
       "      <th>2</th>\n",
       "      <td>Home Office</td>\n",
       "      <td>60298.6785</td>\n",
       "    </tr>\n",
       "  </tbody>\n",
       "</table>\n",
       "</div>"
      ],
      "text/plain": [
       "       Segment       Profit\n",
       "0     Consumer  134119.2092\n",
       "1    Corporate   91979.1340\n",
       "2  Home Office   60298.6785"
      ]
     },
     "execution_count": 44,
     "metadata": {},
     "output_type": "execute_result"
    }
   ],
   "source": [
    "segments_info[['Segment' , 'Profit']]"
   ]
  },
  {
   "cell_type": "code",
   "execution_count": null,
   "metadata": {},
   "outputs": [
    {
     "data": {
      "image/png": "[encoded data removed]",
      "text/plain": [
       "<Figure size 432x288 with 1 Axes>"
      ]
     },
     "metadata": {
      "needs_background": "light"
     },
     "output_type": "display_data"
    }
   ],
   "source": [
    "Viz_Bar(segments_info , 'Segment' ,'Profit')"
   ]
  },
  {
   "attachments": {},
   "cell_type": "markdown",
   "metadata": {},
   "source": [
    "Nhận xét: Biểu đồ cột phân khúc theo lợi nhuận"
   ]
  },
  {
   "attachments": {},
   "cell_type": "markdown",
   "metadata": {},
   "source": [
    "### Câu 7: Phân tích mối quan hệ giữa khách hàng và khu vực sinh sống.\n",
    "\n",
    "**Số lượng khách hàng và trung bình Sales và Profit theo khu vực sinh sống**"
   ]
  },
  {
   "cell_type": "code",
   "execution_count": null,
   "metadata": {},
   "outputs": [
    {
     "data": {
      "text/html": [
       "<div>\n",
       "<style scoped>\n",
       "    .dataframe tbody tr th:only-of-type {\n",
       "        vertical-align: middle;\n",
       "    }\n",
       "\n",
       "    .dataframe tbody tr th {\n",
       "        vertical-align: top;\n",
       "    }\n",
       "\n",
       "    .dataframe thead th {\n",
       "        text-align: right;\n",
       "    }\n",
       "</style>\n",
       "<table border=\"1\" class=\"dataframe\">\n",
       "  <thead>\n",
       "    <tr style=\"text-align: right;\">\n",
       "      <th></th>\n",
       "      <th>Region</th>\n",
       "      <th>State</th>\n",
       "      <th>number_order</th>\n",
       "      <th>Số_lượng_khách_hàng</th>\n",
       "      <th>total_sale</th>\n",
       "      <th>total_profit</th>\n",
       "      <th>Trung bình Sale</th>\n",
       "      <th>Trung bình Profit</th>\n",
       "    </tr>\n",
       "  </thead>\n",
       "  <tbody>\n",
       "    <tr>\n",
       "      <th>0</th>\n",
       "      <td>Central</td>\n",
       "      <td>Illinois</td>\n",
       "      <td>492</td>\n",
       "      <td>492</td>\n",
       "      <td>80166.101</td>\n",
       "      <td>-12607.8870</td>\n",
       "      <td>162.939230</td>\n",
       "      <td>-25.625787</td>\n",
       "    </tr>\n",
       "    <tr>\n",
       "      <th>1</th>\n",
       "      <td>Central</td>\n",
       "      <td>Indiana</td>\n",
       "      <td>149</td>\n",
       "      <td>149</td>\n",
       "      <td>53555.360</td>\n",
       "      <td>18382.9363</td>\n",
       "      <td>359.431946</td>\n",
       "      <td>123.375411</td>\n",
       "    </tr>\n",
       "  </tbody>\n",
       "</table>\n",
       "</div>"
      ],
      "text/plain": [
       "    Region     State  number_order  Số_lượng_khách_hàng  total_sale  \\\n",
       "0  Central  Illinois           492                  492   80166.101   \n",
       "1  Central   Indiana           149                  149   53555.360   \n",
       "\n",
       "   total_profit  Trung bình Sale  Trung bình Profit  \n",
       "0   -12607.8870       162.939230         -25.625787  \n",
       "1    18382.9363       359.431946         123.375411  "
      ]
     },
     "execution_count": 46,
     "metadata": {},
     "output_type": "execute_result"
    }
   ],
   "source": [
    "data_3= df.groupby(['Region','State'], as_index=False).agg(\n",
    "                                number_order= ('Row ID','count'),\n",
    "                                Số_lượng_khách_hàng= ('Customer ID','count'),\n",
    "                                total_sale= ('Sales','sum'), \n",
    "                                total_profit= ('Profit','sum'))\n",
    "data_3['Trung bình Sale']= data_3['total_sale']/data_3['Số_lượng_khách_hàng']\n",
    "data_3['Trung bình Profit']= data_3['total_profit']/data_3['Số_lượng_khách_hàng']\n",
    "data_3.head(2)"
   ]
  },
  {
   "cell_type": "code",
   "execution_count": null,
   "metadata": {},
   "outputs": [],
   "source": [
    "col_list= ['Trung bình Sale','Trung bình Profit']\n",
    "def customer_1(data_3,col):\n",
    "    fig= px.scatter(data_3, x=\"Số_lượng_khách_hàng\", y=col, \n",
    "                   size='number_order',color=\"Region\",\n",
    "                 hover_name=\"State\", log_x=True, size_max=80, \n",
    "                   title= f'Số lượng khách hàng và {col} theo bang')\n",
    "    return fig"
   ]
  },
  {
   "cell_type": "code",
   "execution_count": null,
   "metadata": {},
   "outputs": [],
   "source": [
    "customer_fig_1=[]\n",
    "for col in col_list:\n",
    "    customer_fig_1.append(customer_1(data_3,col))"
   ]
  },
  {
   "cell_type": "code",
   "execution_count": null,
   "metadata": {},
   "outputs": [
    {
     "data": {
      "application/vnd.plotly.v1+json": {
       "config": {
        "plotlyServerURL": "https://plot.ly"
       },
       "data": [
        {
         "hovertemplate": "<b>%{hovertext}</b><br><br>Region=Central<br>Số_lượng_khách_hàng=%{x}<br>Trung bình Sale=%{y}<br>number_order=%{marker.size}<extra></extra>",
         "hovertext": [
          "Illinois",
          "Indiana",
          "Iowa",
          "Kansas",
          "Michigan",
          "Minnesota",
          "Missouri",
          "Nebraska",
          "North Dakota",
          "Oklahoma",
          "South Dakota",
          "Texas",
          "Wisconsin"
         ],
         "legendgroup": "Central",
         "marker": {
          "color": "#636efa",
          "size": [
           492,
           149,
           30,
           24,
           255,
           89,
           66,
           38,
           7,
           66,
           12,
           985,
           110
          ],
          "sizemode": "area",
          "sizeref": 0.31265625,
          "symbol": "circle"
         },
         "mode": "markers",
         "name": "Central",
         "orientation": "v",
         "showlegend": true,
         "type": "scatter",
         "x": [
          492,
          149,
          30,
          24,
          255,
          89,
          66,
          38,
          7,
          66,
          12,
          985,
          110
         ],
         "xaxis": "x",
         "y": [
          162.93922967479674,
          359.43194630872483,
          152.65866666666668,
          121.42958333333333,
          299.0965254901961,
          335.54101123595507,
          336.44166666666666,
          196.4455263157895,
          131.41571428571427,
          298.23318181818183,
          109.63,
          172.77974192893402,
          291.951
         ],
         "yaxis": "y"
        },
        {
         "hovertemplate": "<b>%{hovertext}</b><br><br>Region=East<br>Số_lượng_khách_hàng=%{x}<br>Trung bình Sale=%{y}<br>number_order=%{marker.size}<extra></extra>",
         "hovertext": [
          "Connecticut",
          "Delaware",
          "District of Columbia",
          "Maine",
          "Maryland",
          "Massachusetts",
          "New Hampshire",
          "New Jersey",
          "New York",
          "Ohio",
          "Pennsylvania",
          "Rhode Island",
          "Vermont",
          "West Virginia"
         ],
         "legendgroup": "East",
         "marker": {
          "color": "#EF553B",
          "size": [
           82,
           96,
           10,
           8,
           105,
           135,
           27,
           130,
           1128,
           469,
           587,
           56,
           11,
           4
          ],
          "sizemode": "area",
          "sizeref": 0.31265625,
          "symbol": "circle"
         },
         "mode": "markers",
         "name": "East",
         "orientation": "v",
         "showlegend": true,
         "type": "scatter",
         "x": [
          82,
          96,
          10,
          8,
          105,
          135,
          27,
          130,
          1128,
          469,
          587,
          56,
          11,
          4
         ],
         "xaxis": "x",
         "y": [
          163.22386585365854,
          285.94863541666666,
          286.502,
          158.81625,
          225.76688571428573,
          212.10691851851854,
          270.0934814814815,
          275.1100923076923,
          275.5995310283688,
          166.86169722814498,
          198.4870766609881,
          404.07064285714284,
          811.760909090909,
          302.456
         ],
         "yaxis": "y"
        },
        {
         "hovertemplate": "<b>%{hovertext}</b><br><br>Region=South<br>Số_lượng_khách_hàng=%{x}<br>Trung bình Sale=%{y}<br>number_order=%{marker.size}<extra></extra>",
         "hovertext": [
          "Alabama",
          "Arkansas",
          "Florida",
          "Georgia",
          "Kentucky",
          "Louisiana",
          "Mississippi",
          "North Carolina",
          "South Carolina",
          "Tennessee",
          "Virginia"
         ],
         "legendgroup": "South",
         "marker": {
          "color": "#00cc96",
          "size": [
           61,
           60,
           383,
           184,
           139,
           42,
           53,
           249,
           42,
           183,
           224
          ],
          "sizemode": "area",
          "sizeref": 0.31265625,
          "symbol": "circle"
         },
         "mode": "markers",
         "name": "South",
         "orientation": "v",
         "showlegend": true,
         "type": "scatter",
         "x": [
          61,
          60,
          383,
          184,
          139,
          42,
          53,
          249,
          42,
          183,
          224
         ],
         "xaxis": "x",
         "y": [
          319.8465573770492,
          194.63549999999998,
          233.6128146214099,
          266.8252173913043,
          263.25,
          219.45309523809524,
          203.23283018867926,
          223.3058795180723,
          201.94547619047617,
          167.55121857923498,
          315.34250000000003
         ],
         "yaxis": "y"
        },
        {
         "hovertemplate": "<b>%{hovertext}</b><br><br>Region=West<br>Số_lượng_khách_hàng=%{x}<br>Trung bình Sale=%{y}<br>number_order=%{marker.size}<extra></extra>",
         "hovertext": [
          "Arizona",
          "California",
          "Colorado",
          "Idaho",
          "Montana",
          "Nevada",
          "New Mexico",
          "Oregon",
          "Utah",
          "Washington",
          "Wyoming"
         ],
         "legendgroup": "West",
         "marker": {
          "color": "#ab63fa",
          "size": [
           224,
           2001,
           182,
           21,
           15,
           39,
           37,
           124,
           53,
           506,
           1
          ],
          "sizemode": "area",
          "sizeref": 0.31265625,
          "symbol": "circle"
         },
         "mode": "markers",
         "name": "West",
         "orientation": "v",
         "showlegend": true,
         "type": "scatter",
         "x": [
          224,
          2001,
          182,
          21,
          15,
          39,
          37,
          124,
          53,
          506,
          1
         ],
         "xaxis": "x",
         "y": [
          157.50893303571428,
          228.72945102448776,
          176.41823076923077,
          208.68980952380952,
          372.6234666666667,
          428.9513333333333,
          129.28437837837836,
          140.57379032258066,
          211.69916981132076,
          273.99460474308296,
          1603.136
         ],
         "yaxis": "y"
        }
       ],
       "layout": {
        "legend": {
         "itemsizing": "constant",
         "title": {
          "text": "Region"
         },
         "tracegroupgap": 0
        },
        "template": {
         "data": {
          "bar": [
           {
            "error_x": {
             "color": "#2a3f5f"
            },
            "error_y": {
             "color": "#2a3f5f"
            },
            "marker": {
             "line": {
              "color": "#E5ECF6",
              "width": 0.5
             },
             "pattern": {
              "fillmode": "overlay",
              "size": 10,
              "solidity": 0.2
             }
            },
            "type": "bar"
           }
          ],
          "barpolar": [
           {
            "marker": {
             "line": {
              "color": "#E5ECF6",
              "width": 0.5
             },
             "pattern": {
              "fillmode": "overlay",
              "size": 10,
              "solidity": 0.2
             }
            },
            "type": "barpolar"
           }
          ],
          "carpet": [
           {
            "aaxis": {
             "endlinecolor": "#2a3f5f",
             "gridcolor": "white",
             "linecolor": "white",
             "minorgridcolor": "white",
             "startlinecolor": "#2a3f5f"
            },
            "baxis": {
             "endlinecolor": "#2a3f5f",
             "gridcolor": "white",
             "linecolor": "white",
             "minorgridcolor": "white",
             "startlinecolor": "#2a3f5f"
            },
            "type": "carpet"
           }
          ],
          "choropleth": [
           {
            "colorbar": {
             "outlinewidth": 0,
             "ticks": ""
            },
            "type": "choropleth"
           }
          ],
          "contour": [
           {
            "colorbar": {
             "outlinewidth": 0,
             "ticks": ""
            },
            "colorscale": [
             [
              0,
              "#0d0887"
             ],
             [
              0.1111111111111111,
              "#46039f"
             ],
             [
              0.2222222222222222,
              "#7201a8"
             ],
             [
              0.3333333333333333,
              "#9c179e"
             ],
             [
              0.4444444444444444,
              "#bd3786"
             ],
             [
              0.5555555555555556,
              "#d8576b"
             ],
             [
              0.6666666666666666,
              "#ed7953"
             ],
             [
              0.7777777777777778,
              "#fb9f3a"
             ],
             [
              0.8888888888888888,
              "#fdca26"
             ],
             [
              1,
              "#f0f921"
             ]
            ],
            "type": "contour"
           }
          ],
          "contourcarpet": [
           {
            "colorbar": {
             "outlinewidth": 0,
             "ticks": ""
            },
            "type": "contourcarpet"
           }
          ],
          "heatmap": [
           {
            "colorbar": {
             "outlinewidth": 0,
             "ticks": ""
            },
            "colorscale": [
             [
              0,
              "#0d0887"
             ],
             [
              0.1111111111111111,
              "#46039f"
             ],
             [
              0.2222222222222222,
              "#7201a8"
             ],
             [
              0.3333333333333333,
              "#9c179e"
             ],
             [
              0.4444444444444444,
              "#bd3786"
             ],
             [
              0.5555555555555556,
              "#d8576b"
             ],
             [
              0.6666666666666666,
              "#ed7953"
             ],
             [
              0.7777777777777778,
              "#fb9f3a"
             ],
             [
              0.8888888888888888,
              "#fdca26"
             ],
             [
              1,
              "#f0f921"
             ]
            ],
            "type": "heatmap"
           }
          ],
          "heatmapgl": [
           {
            "colorbar": {
             "outlinewidth": 0,
             "ticks": ""
            },
            "colorscale": [
             [
              0,
              "#0d0887"
             ],
             [
              0.1111111111111111,
              "#46039f"
             ],
             [
              0.2222222222222222,
              "#7201a8"
             ],
             [
              0.3333333333333333,
              "#9c179e"
             ],
             [
              0.4444444444444444,
              "#bd3786"
             ],
             [
              0.5555555555555556,
              "#d8576b"
             ],
             [
              0.6666666666666666,
              "#ed7953"
             ],
             [
              0.7777777777777778,
              "#fb9f3a"
             ],
             [
              0.8888888888888888,
              "#fdca26"
             ],
             [
              1,
              "#f0f921"
             ]
            ],
            "type": "heatmapgl"
           }
          ],
          "histogram": [
           {
            "marker": {
             "pattern": {
              "fillmode": "overlay",
              "size": 10,
              "solidity": 0.2
             }
            },
            "type": "histogram"
           }
          ],
          "histogram2d": [
           {
            "colorbar": {
             "outlinewidth": 0,
             "ticks": ""
            },
            "colorscale": [
             [
              0,
              "#0d0887"
             ],
             [
              0.1111111111111111,
              "#46039f"
             ],
             [
              0.2222222222222222,
              "#7201a8"
             ],
             [
              0.3333333333333333,
              "#9c179e"
             ],
             [
              0.4444444444444444,
              "#bd3786"
             ],
             [
              0.5555555555555556,
              "#d8576b"
             ],
             [
              0.6666666666666666,
              "#ed7953"
             ],
             [
              0.7777777777777778,
              "#fb9f3a"
             ],
             [
              0.8888888888888888,
              "#fdca26"
             ],
             [
              1,
              "#f0f921"
             ]
            ],
            "type": "histogram2d"
           }
          ],
          "histogram2dcontour": [
           {
            "colorbar": {
             "outlinewidth": 0,
             "ticks": ""
            },
            "colorscale": [
             [
              0,
              "#0d0887"
             ],
             [
              0.1111111111111111,
              "#46039f"
             ],
             [
              0.2222222222222222,
              "#7201a8"
             ],
             [
              0.3333333333333333,
              "#9c179e"
             ],
             [
              0.4444444444444444,
              "#bd3786"
             ],
             [
              0.5555555555555556,
              "#d8576b"
             ],
             [
              0.6666666666666666,
              "#ed7953"
             ],
             [
              0.7777777777777778,
              "#fb9f3a"
             ],
             [
              0.8888888888888888,
              "#fdca26"
             ],
             [
              1,
              "#f0f921"
             ]
            ],
            "type": "histogram2dcontour"
           }
          ],
          "mesh3d": [
           {
            "colorbar": {
             "outlinewidth": 0,
             "ticks": ""
            },
            "type": "mesh3d"
           }
          ],
          "parcoords": [
           {
            "line": {
             "colorbar": {
              "outlinewidth": 0,
              "ticks": ""
             }
            },
            "type": "parcoords"
           }
          ],
          "pie": [
           {
            "automargin": true,
            "type": "pie"
           }
          ],
          "scatter": [
           {
            "fillpattern": {
             "fillmode": "overlay",
             "size": 10,
             "solidity": 0.2
            },
            "type": "scatter"
           }
          ],
          "scatter3d": [
           {
            "line": {
             "colorbar": {
              "outlinewidth": 0,
              "ticks": ""
             }
            },
            "marker": {
             "colorbar": {
              "outlinewidth": 0,
              "ticks": ""
             }
            },
            "type": "scatter3d"
           }
          ],
          "scattercarpet": [
           {
            "marker": {
             "colorbar": {
              "outlinewidth": 0,
              "ticks": ""
             }
            },
            "type": "scattercarpet"
           }
          ],
          "scattergeo": [
           {
            "marker": {
             "colorbar": {
              "outlinewidth": 0,
              "ticks": ""
             }
            },
            "type": "scattergeo"
           }
          ],
          "scattergl": [
           {
            "marker": {
             "colorbar": {
              "outlinewidth": 0,
              "ticks": ""
             }
            },
            "type": "scattergl"
           }
          ],
          "scattermapbox": [
           {
            "marker": {
             "colorbar": {
              "outlinewidth": 0,
              "ticks": ""
             }
            },
            "type": "scattermapbox"
           }
          ],
          "scatterpolar": [
           {
            "marker": {
             "colorbar": {
              "outlinewidth": 0,
              "ticks": ""
             }
            },
            "type": "scatterpolar"
           }
          ],
          "scatterpolargl": [
           {
            "marker": {
             "colorbar": {
              "outlinewidth": 0,
              "ticks": ""
             }
            },
            "type": "scatterpolargl"
           }
          ],
          "scatterternary": [
           {
            "marker": {
             "colorbar": {
              "outlinewidth": 0,
              "ticks": ""
             }
            },
            "type": "scatterternary"
           }
          ],
          "surface": [
           {
            "colorbar": {
             "outlinewidth": 0,
             "ticks": ""
            },
            "colorscale": [
             [
              0,
              "#0d0887"
             ],
             [
              0.1111111111111111,
              "#46039f"
             ],
             [
              0.2222222222222222,
              "#7201a8"
             ],
             [
              0.3333333333333333,
              "#9c179e"
             ],
             [
              0.4444444444444444,
              "#bd3786"
             ],
             [
              0.5555555555555556,
              "#d8576b"
             ],
             [
              0.6666666666666666,
              "#ed7953"
             ],
             [
              0.7777777777777778,
              "#fb9f3a"
             ],
             [
              0.8888888888888888,
              "#fdca26"
             ],
             [
              1,
              "#f0f921"
             ]
            ],
            "type": "surface"
           }
          ],
          "table": [
           {
            "cells": {
             "fill": {
              "color": "#EBF0F8"
             },
             "line": {
              "color": "white"
             }
            },
            "header": {
             "fill": {
              "color": "#C8D4E3"
             },
             "line": {
              "color": "white"
             }
            },
            "type": "table"
           }
          ]
         },
         "layout": {
          "annotationdefaults": {
           "arrowcolor": "#2a3f5f",
           "arrowhead": 0,
           "arrowwidth": 1
          },
          "autotypenumbers": "strict",
          "coloraxis": {
           "colorbar": {
            "outlinewidth": 0,
            "ticks": ""
           }
          },
          "colorscale": {
           "diverging": [
            [
             0,
             "#8e0152"
            ],
            [
             0.1,
             "#c51b7d"
            ],
            [
             0.2,
             "#de77ae"
            ],
            [
             0.3,
             "#f1b6da"
            ],
            [
             0.4,
             "#fde0ef"
            ],
            [
             0.5,
             "#f7f7f7"
            ],
            [
             0.6,
             "#e6f5d0"
            ],
            [
             0.7,
             "#b8e186"
            ],
            [
             0.8,
             "#7fbc41"
            ],
            [
             0.9,
             "#4d9221"
            ],
            [
             1,
             "#276419"
            ]
           ],
           "sequential": [
            [
             0,
             "#0d0887"
            ],
            [
             0.1111111111111111,
             "#46039f"
            ],
            [
             0.2222222222222222,
             "#7201a8"
            ],
            [
             0.3333333333333333,
             "#9c179e"
            ],
            [
             0.4444444444444444,
             "#bd3786"
            ],
            [
             0.5555555555555556,
             "#d8576b"
            ],
            [
             0.6666666666666666,
             "#ed7953"
            ],
            [
             0.7777777777777778,
             "#fb9f3a"
            ],
            [
             0.8888888888888888,
             "#fdca26"
            ],
            [
             1,
             "#f0f921"
            ]
           ],
           "sequentialminus": [
            [
             0,
             "#0d0887"
            ],
            [
             0.1111111111111111,
             "#46039f"
            ],
            [
             0.2222222222222222,
             "#7201a8"
            ],
            [
             0.3333333333333333,
             "#9c179e"
            ],
            [
             0.4444444444444444,
             "#bd3786"
            ],
            [
             0.5555555555555556,
             "#d8576b"
            ],
            [
             0.6666666666666666,
             "#ed7953"
            ],
            [
             0.7777777777777778,
             "#fb9f3a"
            ],
            [
             0.8888888888888888,
             "#fdca26"
            ],
            [
             1,
             "#f0f921"
            ]
           ]
          },
          "colorway": [
           "#636efa",
           "#EF553B",
           "#00cc96",
           "#ab63fa",
           "#FFA15A",
           "#19d3f3",
           "#FF6692",
           "#B6E880",
           "#FF97FF",
           "#FECB52"
          ],
          "font": {
           "color": "#2a3f5f"
          },
          "geo": {
           "bgcolor": "white",
           "lakecolor": "white",
           "landcolor": "#E5ECF6",
           "showlakes": true,
           "showland": true,
           "subunitcolor": "white"
          },
          "hoverlabel": {
           "align": "left"
          },
          "hovermode": "closest",
          "mapbox": {
           "style": "light"
          },
          "paper_bgcolor": "white",
          "plot_bgcolor": "#E5ECF6",
          "polar": {
           "angularaxis": {
            "gridcolor": "white",
            "linecolor": "white",
            "ticks": ""
           },
           "bgcolor": "#E5ECF6",
           "radialaxis": {
            "gridcolor": "white",
            "linecolor": "white",
            "ticks": ""
           }
          },
          "scene": {
           "xaxis": {
            "backgroundcolor": "#E5ECF6",
            "gridcolor": "white",
            "gridwidth": 2,
            "linecolor": "white",
            "showbackground": true,
            "ticks": "",
            "zerolinecolor": "white"
           },
           "yaxis": {
            "backgroundcolor": "#E5ECF6",
            "gridcolor": "white",
            "gridwidth": 2,
            "linecolor": "white",
            "showbackground": true,
            "ticks": "",
            "zerolinecolor": "white"
           },
           "zaxis": {
            "backgroundcolor": "#E5ECF6",
            "gridcolor": "white",
            "gridwidth": 2,
            "linecolor": "white",
            "showbackground": true,
            "ticks": "",
            "zerolinecolor": "white"
           }
          },
          "shapedefaults": {
           "line": {
            "color": "#2a3f5f"
           }
          },
          "ternary": {
           "aaxis": {
            "gridcolor": "white",
            "linecolor": "white",
            "ticks": ""
           },
           "baxis": {
            "gridcolor": "white",
            "linecolor": "white",
            "ticks": ""
           },
           "bgcolor": "#E5ECF6",
           "caxis": {
            "gridcolor": "white",
            "linecolor": "white",
            "ticks": ""
           }
          },
          "title": {
           "x": 0.05
          },
          "xaxis": {
           "automargin": true,
           "gridcolor": "white",
           "linecolor": "white",
           "ticks": "",
           "title": {
            "standoff": 15
           },
           "zerolinecolor": "white",
           "zerolinewidth": 2
          },
          "yaxis": {
           "automargin": true,
           "gridcolor": "white",
           "linecolor": "white",
           "ticks": "",
           "title": {
            "standoff": 15
           },
           "zerolinecolor": "white",
           "zerolinewidth": 2
          }
         }
        },
        "title": {
         "text": "Số lượng khách hàng và Trung bình Sale theo bang"
        },
        "xaxis": {
         "anchor": "y",
         "domain": [
          0,
          1
         ],
         "title": {
          "text": "Số_lượng_khách_hàng"
         },
         "type": "log"
        },
        "yaxis": {
         "anchor": "x",
         "domain": [
          0,
          1
         ],
         "title": {
          "text": "Trung bình Sale"
         }
        }
       }
      }
     },
     "metadata": {},
     "output_type": "display_data"
    }
   ],
   "source": [
    "customer_fig_1[0]"
   ]
  },
  {
   "attachments": {},
   "cell_type": "markdown",
   "metadata": {},
   "source": [
    "\n",
    "Nhận xét:\n",
    "\n",
    "- Qua biểu đồ trên ta có thể thấy là có sư chênh lệch giữa số lượng khách hàng và trung bình sale theo khu vực. Trong đó khu vực bang California thuộc khu vực phía tây có số lượng khách hàng và đơn hàng nhiều nhất, tiếp theo đó là New York thuộc khu vực phía đông. Bang Vermont thuộc khu vực phía đông mặc dù có số lượng khách hàng ít nhưng lại cho trung bình sale cao nhất (811.7609). Biểu đồ cho ta thấy khu vực phía đông chiếm ưu thế trong việc cho ra số lượng trung bình sale cao nhất so với các khu vực khác. Phần lớn các khu vực cho số lượng sale trung bình nằm trong khoảng từ 150 -> 250 và có sự phân hóa cao theo khu vực."
   ]
  },
  {
   "cell_type": "code",
   "execution_count": null,
   "metadata": {},
   "outputs": [
    {
     "data": {
      "application/vnd.plotly.v1+json": {
       "config": {
        "plotlyServerURL": "https://plot.ly"
       },
       "data": [
        {
         "hovertemplate": "<b>%{hovertext}</b><br><br>Region=Central<br>Số_lượng_khách_hàng=%{x}<br>Trung bình Profit=%{y}<br>number_order=%{marker.size}<extra></extra>",
         "hovertext": [
          "Illinois",
          "Indiana",
          "Iowa",
          "Kansas",
          "Michigan",
          "Minnesota",
          "Missouri",
          "Nebraska",
          "North Dakota",
          "Oklahoma",
          "South Dakota",
          "Texas",
          "Wisconsin"
         ],
         "legendgroup": "Central",
         "marker": {
          "color": "#636efa",
          "size": [
           492,
           149,
           30,
           24,
           255,
           89,
           66,
           38,
           7,
           66,
           12,
           985,
           110
          ],
          "sizemode": "area",
          "sizeref": 0.31265625,
          "symbol": "circle"
         },
         "mode": "markers",
         "name": "Central",
         "orientation": "v",
         "showlegend": true,
         "type": "scatter",
         "x": [
          492,
          149,
          30,
          24,
          255,
          89,
          66,
          38,
          7,
          66,
          12,
          985,
          110
         ],
         "xaxis": "x",
         "y": [
          -25.625786585365855,
          123.37541140939598,
          39.46039666666666,
          34.8518125,
          95.93406901960785,
          121.60884719101125,
          97.51834090909091,
          53.60774210526316,
          32.87852857142857,
          73.54478787878789,
          32.90235833333333,
          -26.12117390862944,
          76.38000363636364
         ],
         "yaxis": "y"
        },
        {
         "hovertemplate": "<b>%{hovertext}</b><br><br>Region=East<br>Số_lượng_khách_hàng=%{x}<br>Trung bình Profit=%{y}<br>number_order=%{marker.size}<extra></extra>",
         "hovertext": [
          "Connecticut",
          "Delaware",
          "District of Columbia",
          "Maine",
          "Maryland",
          "Massachusetts",
          "New Hampshire",
          "New Jersey",
          "New York",
          "Ohio",
          "Pennsylvania",
          "Rhode Island",
          "Vermont",
          "West Virginia"
         ],
         "legendgroup": "East",
         "marker": {
          "color": "#EF553B",
          "size": [
           82,
           96,
           10,
           8,
           105,
           135,
           27,
           130,
           1128,
           469,
           587,
           56,
           11,
           4
          ],
          "sizemode": "area",
          "sizeref": 0.31265625,
          "symbol": "circle"
         },
         "mode": "markers",
         "name": "East",
         "orientation": "v",
         "showlegend": true,
         "type": "scatter",
         "x": [
          82,
          96,
          10,
          8,
          105,
          135,
          27,
          130,
          1128,
          469,
          587,
          56,
          11,
          4
         ],
         "xaxis": "x",
         "y": [
          42.82307073170731,
          103.9309875,
          105.95892999999998,
          56.810775,
          66.96360761904762,
          50.26297481481482,
          63.2038074074074,
          75.17626,
          65.63701117021276,
          -36.186304051172705,
          -26.50759846678024,
          130.10052321428572,
          204.08893636363635,
          46.4804
         ],
         "yaxis": "y"
        },
        {
         "hovertemplate": "<b>%{hovertext}</b><br><br>Region=South<br>Số_lượng_khách_hàng=%{x}<br>Trung bình Profit=%{y}<br>number_order=%{marker.size}<extra></extra>",
         "hovertext": [
          "Alabama",
          "Arkansas",
          "Florida",
          "Georgia",
          "Kentucky",
          "Louisiana",
          "Mississippi",
          "North Carolina",
          "South Carolina",
          "Tennessee",
          "Virginia"
         ],
         "legendgroup": "South",
         "marker": {
          "color": "#00cc96",
          "size": [
           61,
           60,
           383,
           184,
           139,
           42,
           53,
           249,
           42,
           183,
           224
          ],
          "sizemode": "area",
          "sizeref": 0.31265625,
          "symbol": "circle"
         },
         "mode": "markers",
         "name": "South",
         "orientation": "v",
         "showlegend": true,
         "type": "scatter",
         "x": [
          61,
          60,
          383,
          184,
          139,
          42,
          53,
          249,
          42,
          183,
          224
         ],
         "xaxis": "x",
         "y": [
          94.86598852459016,
          66.81145166666667,
          -8.875461357702351,
          88.3154527173913,
          80.57335683453238,
          52.28815,
          59.867475471698114,
          -30.083984738955824,
          42.120395238095234,
          -29.1895825136612,
          83.02656428571429
         ],
         "yaxis": "y"
        },
        {
         "hovertemplate": "<b>%{hovertext}</b><br><br>Region=West<br>Số_lượng_khách_hàng=%{x}<br>Trung bình Profit=%{y}<br>number_order=%{marker.size}<extra></extra>",
         "hovertext": [
          "Arizona",
          "California",
          "Colorado",
          "Idaho",
          "Montana",
          "Nevada",
          "New Mexico",
          "Oregon",
          "Utah",
          "Washington",
          "Wyoming"
         ],
         "legendgroup": "West",
         "marker": {
          "color": "#ab63fa",
          "size": [
           224,
           2001,
           182,
           21,
           15,
           39,
           37,
           124,
           53,
           506,
           1
          ],
          "sizemode": "area",
          "sizeref": 0.31265625,
          "symbol": "circle"
         },
         "mode": "markers",
         "name": "West",
         "orientation": "v",
         "showlegend": true,
         "type": "scatter",
         "x": [
          224,
          2001,
          182,
          21,
          15,
          39,
          37,
          124,
          53,
          506,
          1
         ],
         "xaxis": "x",
         "y": [
          -15.303234821428571,
          38.17160774612693,
          -35.867351098901096,
          39.36776666666667,
          122.2219,
          85.04527948717949,
          31.273408108108107,
          -9.600568548387097,
          48.047801886792456,
          66.01314565217392,
          100.196
         ],
         "yaxis": "y"
        }
       ],
       "layout": {
        "legend": {
         "itemsizing": "constant",
         "title": {
          "text": "Region"
         },
         "tracegroupgap": 0
        },
        "template": {
         "data": {
          "bar": [
           {
            "error_x": {
             "color": "#2a3f5f"
            },
            "error_y": {
             "color": "#2a3f5f"
            },
            "marker": {
             "line": {
              "color": "#E5ECF6",
              "width": 0.5
             },
             "pattern": {
              "fillmode": "overlay",
              "size": 10,
              "solidity": 0.2
             }
            },
            "type": "bar"
           }
          ],
          "barpolar": [
           {
            "marker": {
             "line": {
              "color": "#E5ECF6",
              "width": 0.5
             },
             "pattern": {
              "fillmode": "overlay",
              "size": 10,
              "solidity": 0.2
             }
            },
            "type": "barpolar"
           }
          ],
          "carpet": [
           {
            "aaxis": {
             "endlinecolor": "#2a3f5f",
             "gridcolor": "white",
             "linecolor": "white",
             "minorgridcolor": "white",
             "startlinecolor": "#2a3f5f"
            },
            "baxis": {
             "endlinecolor": "#2a3f5f",
             "gridcolor": "white",
             "linecolor": "white",
             "minorgridcolor": "white",
             "startlinecolor": "#2a3f5f"
            },
            "type": "carpet"
           }
          ],
          "choropleth": [
           {
            "colorbar": {
             "outlinewidth": 0,
             "ticks": ""
            },
            "type": "choropleth"
           }
          ],
          "contour": [
           {
            "colorbar": {
             "outlinewidth": 0,
             "ticks": ""
            },
            "colorscale": [
             [
              0,
              "#0d0887"
             ],
             [
              0.1111111111111111,
              "#46039f"
             ],
             [
              0.2222222222222222,
              "#7201a8"
             ],
             [
              0.3333333333333333,
              "#9c179e"
             ],
             [
              0.4444444444444444,
              "#bd3786"
             ],
             [
              0.5555555555555556,
              "#d8576b"
             ],
             [
              0.6666666666666666,
              "#ed7953"
             ],
             [
              0.7777777777777778,
              "#fb9f3a"
             ],
             [
              0.8888888888888888,
              "#fdca26"
             ],
             [
              1,
              "#f0f921"
             ]
            ],
            "type": "contour"
           }
          ],
          "contourcarpet": [
           {
            "colorbar": {
             "outlinewidth": 0,
             "ticks": ""
            },
            "type": "contourcarpet"
           }
          ],
          "heatmap": [
           {
            "colorbar": {
             "outlinewidth": 0,
             "ticks": ""
            },
            "colorscale": [
             [
              0,
              "#0d0887"
             ],
             [
              0.1111111111111111,
              "#46039f"
             ],
             [
              0.2222222222222222,
              "#7201a8"
             ],
             [
              0.3333333333333333,
              "#9c179e"
             ],
             [
              0.4444444444444444,
              "#bd3786"
             ],
             [
              0.5555555555555556,
              "#d8576b"
             ],
             [
              0.6666666666666666,
              "#ed7953"
             ],
             [
              0.7777777777777778,
              "#fb9f3a"
             ],
             [
              0.8888888888888888,
              "#fdca26"
             ],
             [
              1,
              "#f0f921"
             ]
            ],
            "type": "heatmap"
           }
          ],
          "heatmapgl": [
           {
            "colorbar": {
             "outlinewidth": 0,
             "ticks": ""
            },
            "colorscale": [
             [
              0,
              "#0d0887"
             ],
             [
              0.1111111111111111,
              "#46039f"
             ],
             [
              0.2222222222222222,
              "#7201a8"
             ],
             [
              0.3333333333333333,
              "#9c179e"
             ],
             [
              0.4444444444444444,
              "#bd3786"
             ],
             [
              0.5555555555555556,
              "#d8576b"
             ],
             [
              0.6666666666666666,
              "#ed7953"
             ],
             [
              0.7777777777777778,
              "#fb9f3a"
             ],
             [
              0.8888888888888888,
              "#fdca26"
             ],
             [
              1,
              "#f0f921"
             ]
            ],
            "type": "heatmapgl"
           }
          ],
          "histogram": [
           {
            "marker": {
             "pattern": {
              "fillmode": "overlay",
              "size": 10,
              "solidity": 0.2
             }
            },
            "type": "histogram"
           }
          ],
          "histogram2d": [
           {
            "colorbar": {
             "outlinewidth": 0,
             "ticks": ""
            },
            "colorscale": [
             [
              0,
              "#0d0887"
             ],
             [
              0.1111111111111111,
              "#46039f"
             ],
             [
              0.2222222222222222,
              "#7201a8"
             ],
             [
              0.3333333333333333,
              "#9c179e"
             ],
             [
              0.4444444444444444,
              "#bd3786"
             ],
             [
              0.5555555555555556,
              "#d8576b"
             ],
             [
              0.6666666666666666,
              "#ed7953"
             ],
             [
              0.7777777777777778,
              "#fb9f3a"
             ],
             [
              0.8888888888888888,
              "#fdca26"
             ],
             [
              1,
              "#f0f921"
             ]
            ],
            "type": "histogram2d"
           }
          ],
          "histogram2dcontour": [
           {
            "colorbar": {
             "outlinewidth": 0,
             "ticks": ""
            },
            "colorscale": [
             [
              0,
              "#0d0887"
             ],
             [
              0.1111111111111111,
              "#46039f"
             ],
             [
              0.2222222222222222,
              "#7201a8"
             ],
             [
              0.3333333333333333,
              "#9c179e"
             ],
             [
              0.4444444444444444,
              "#bd3786"
             ],
             [
              0.5555555555555556,
              "#d8576b"
             ],
             [
              0.6666666666666666,
              "#ed7953"
             ],
             [
              0.7777777777777778,
              "#fb9f3a"
             ],
             [
              0.8888888888888888,
              "#fdca26"
             ],
             [
              1,
              "#f0f921"
             ]
            ],
            "type": "histogram2dcontour"
           }
          ],
          "mesh3d": [
           {
            "colorbar": {
             "outlinewidth": 0,
             "ticks": ""
            },
            "type": "mesh3d"
           }
          ],
          "parcoords": [
           {
            "line": {
             "colorbar": {
              "outlinewidth": 0,
              "ticks": ""
             }
            },
            "type": "parcoords"
           }
          ],
          "pie": [
           {
            "automargin": true,
            "type": "pie"
           }
          ],
          "scatter": [
           {
            "fillpattern": {
             "fillmode": "overlay",
             "size": 10,
             "solidity": 0.2
            },
            "type": "scatter"
           }
          ],
          "scatter3d": [
           {
            "line": {
             "colorbar": {
              "outlinewidth": 0,
              "ticks": ""
             }
            },
            "marker": {
             "colorbar": {
              "outlinewidth": 0,
              "ticks": ""
             }
            },
            "type": "scatter3d"
           }
          ],
          "scattercarpet": [
           {
            "marker": {
             "colorbar": {
              "outlinewidth": 0,
              "ticks": ""
             }
            },
            "type": "scattercarpet"
           }
          ],
          "scattergeo": [
           {
            "marker": {
             "colorbar": {
              "outlinewidth": 0,
              "ticks": ""
             }
            },
            "type": "scattergeo"
           }
          ],
          "scattergl": [
           {
            "marker": {
             "colorbar": {
              "outlinewidth": 0,
              "ticks": ""
             }
            },
            "type": "scattergl"
           }
          ],
          "scattermapbox": [
           {
            "marker": {
             "colorbar": {
              "outlinewidth": 0,
              "ticks": ""
             }
            },
            "type": "scattermapbox"
           }
          ],
          "scatterpolar": [
           {
            "marker": {
             "colorbar": {
              "outlinewidth": 0,
              "ticks": ""
             }
            },
            "type": "scatterpolar"
           }
          ],
          "scatterpolargl": [
           {
            "marker": {
             "colorbar": {
              "outlinewidth": 0,
              "ticks": ""
             }
            },
            "type": "scatterpolargl"
           }
          ],
          "scatterternary": [
           {
            "marker": {
             "colorbar": {
              "outlinewidth": 0,
              "ticks": ""
             }
            },
            "type": "scatterternary"
           }
          ],
          "surface": [
           {
            "colorbar": {
             "outlinewidth": 0,
             "ticks": ""
            },
            "colorscale": [
             [
              0,
              "#0d0887"
             ],
             [
              0.1111111111111111,
              "#46039f"
             ],
             [
              0.2222222222222222,
              "#7201a8"
             ],
             [
              0.3333333333333333,
              "#9c179e"
             ],
             [
              0.4444444444444444,
              "#bd3786"
             ],
             [
              0.5555555555555556,
              "#d8576b"
             ],
             [
              0.6666666666666666,
              "#ed7953"
             ],
             [
              0.7777777777777778,
              "#fb9f3a"
             ],
             [
              0.8888888888888888,
              "#fdca26"
             ],
             [
              1,
              "#f0f921"
             ]
            ],
            "type": "surface"
           }
          ],
          "table": [
           {
            "cells": {
             "fill": {
              "color": "#EBF0F8"
             },
             "line": {
              "color": "white"
             }
            },
            "header": {
             "fill": {
              "color": "#C8D4E3"
             },
             "line": {
              "color": "white"
             }
            },
            "type": "table"
           }
          ]
         },
         "layout": {
          "annotationdefaults": {
           "arrowcolor": "#2a3f5f",
           "arrowhead": 0,
           "arrowwidth": 1
          },
          "autotypenumbers": "strict",
          "coloraxis": {
           "colorbar": {
            "outlinewidth": 0,
            "ticks": ""
           }
          },
          "colorscale": {
           "diverging": [
            [
             0,
             "#8e0152"
            ],
            [
             0.1,
             "#c51b7d"
            ],
            [
             0.2,
             "#de77ae"
            ],
            [
             0.3,
             "#f1b6da"
            ],
            [
             0.4,
             "#fde0ef"
            ],
            [
             0.5,
             "#f7f7f7"
            ],
            [
             0.6,
             "#e6f5d0"
            ],
            [
             0.7,
             "#b8e186"
            ],
            [
             0.8,
             "#7fbc41"
            ],
            [
             0.9,
             "#4d9221"
            ],
            [
             1,
             "#276419"
            ]
           ],
           "sequential": [
            [
             0,
             "#0d0887"
            ],
            [
             0.1111111111111111,
             "#46039f"
            ],
            [
             0.2222222222222222,
             "#7201a8"
            ],
            [
             0.3333333333333333,
             "#9c179e"
            ],
            [
             0.4444444444444444,
             "#bd3786"
            ],
            [
             0.5555555555555556,
             "#d8576b"
            ],
            [
             0.6666666666666666,
             "#ed7953"
            ],
            [
             0.7777777777777778,
             "#fb9f3a"
            ],
            [
             0.8888888888888888,
             "#fdca26"
            ],
            [
             1,
             "#f0f921"
            ]
           ],
           "sequentialminus": [
            [
             0,
             "#0d0887"
            ],
            [
             0.1111111111111111,
             "#46039f"
            ],
            [
             0.2222222222222222,
             "#7201a8"
            ],
            [
             0.3333333333333333,
             "#9c179e"
            ],
            [
             0.4444444444444444,
             "#bd3786"
            ],
            [
             0.5555555555555556,
             "#d8576b"
            ],
            [
             0.6666666666666666,
             "#ed7953"
            ],
            [
             0.7777777777777778,
             "#fb9f3a"
            ],
            [
             0.8888888888888888,
             "#fdca26"
            ],
            [
             1,
             "#f0f921"
            ]
           ]
          },
          "colorway": [
           "#636efa",
           "#EF553B",
           "#00cc96",
           "#ab63fa",
           "#FFA15A",
           "#19d3f3",
           "#FF6692",
           "#B6E880",
           "#FF97FF",
           "#FECB52"
          ],
          "font": {
           "color": "#2a3f5f"
          },
          "geo": {
           "bgcolor": "white",
           "lakecolor": "white",
           "landcolor": "#E5ECF6",
           "showlakes": true,
           "showland": true,
           "subunitcolor": "white"
          },
          "hoverlabel": {
           "align": "left"
          },
          "hovermode": "closest",
          "mapbox": {
           "style": "light"
          },
          "paper_bgcolor": "white",
          "plot_bgcolor": "#E5ECF6",
          "polar": {
           "angularaxis": {
            "gridcolor": "white",
            "linecolor": "white",
            "ticks": ""
           },
           "bgcolor": "#E5ECF6",
           "radialaxis": {
            "gridcolor": "white",
            "linecolor": "white",
            "ticks": ""
           }
          },
          "scene": {
           "xaxis": {
            "backgroundcolor": "#E5ECF6",
            "gridcolor": "white",
            "gridwidth": 2,
            "linecolor": "white",
            "showbackground": true,
            "ticks": "",
            "zerolinecolor": "white"
           },
           "yaxis": {
            "backgroundcolor": "#E5ECF6",
            "gridcolor": "white",
            "gridwidth": 2,
            "linecolor": "white",
            "showbackground": true,
            "ticks": "",
            "zerolinecolor": "white"
           },
           "zaxis": {
            "backgroundcolor": "#E5ECF6",
            "gridcolor": "white",
            "gridwidth": 2,
            "linecolor": "white",
            "showbackground": true,
            "ticks": "",
            "zerolinecolor": "white"
           }
          },
          "shapedefaults": {
           "line": {
            "color": "#2a3f5f"
           }
          },
          "ternary": {
           "aaxis": {
            "gridcolor": "white",
            "linecolor": "white",
            "ticks": ""
           },
           "baxis": {
            "gridcolor": "white",
            "linecolor": "white",
            "ticks": ""
           },
           "bgcolor": "#E5ECF6",
           "caxis": {
            "gridcolor": "white",
            "linecolor": "white",
            "ticks": ""
           }
          },
          "title": {
           "x": 0.05
          },
          "xaxis": {
           "automargin": true,
           "gridcolor": "white",
           "linecolor": "white",
           "ticks": "",
           "title": {
            "standoff": 15
           },
           "zerolinecolor": "white",
           "zerolinewidth": 2
          },
          "yaxis": {
           "automargin": true,
           "gridcolor": "white",
           "linecolor": "white",
           "ticks": "",
           "title": {
            "standoff": 15
           },
           "zerolinecolor": "white",
           "zerolinewidth": 2
          }
         }
        },
        "title": {
         "text": "Số lượng khách hàng và Trung bình Profit theo bang"
        },
        "xaxis": {
         "anchor": "y",
         "domain": [
          0,
          1
         ],
         "title": {
          "text": "Số_lượng_khách_hàng"
         },
         "type": "log"
        },
        "yaxis": {
         "anchor": "x",
         "domain": [
          0,
          1
         ],
         "title": {
          "text": "Trung bình Profit"
         }
        }
       }
      }
     },
     "metadata": {},
     "output_type": "display_data"
    }
   ],
   "source": [
    "customer_fig_1[1]"
   ]
  },
  {
   "attachments": {},
   "cell_type": "markdown",
   "metadata": {},
   "source": [
    "Nhận xét:\n",
    "\n",
    "- Cũng như biểu đồ trên, bang california có số lượng khách hàng và đơn hàng cao nhất song lợi nhuận mang lại chưa được cao cho lắm. Vãn là bang Vermont thuộc khu vực phía đông mặc dù số lượng khách hàng ít nhưng lại mang lại lợi nhuận nhiều nhất. Biều đồ cho ta thấy một số bang lợi nhuận < 0 tức thua lỗ tiêu biêu là bang Texas số lượng khách hàng và đơn hàng tương đối lớn nhưng lợi nhuận lại không đạt được như kì vọng."
   ]
  },
  {
   "attachments": {},
   "cell_type": "markdown",
   "metadata": {},
   "source": [
    "## Câu hỏi 8: \n",
    "\n",
    "**Nội dung câu hỏi:** Phân tích mối quan hệ lợi nhuận và doanh thu.\n",
    "\n",
    "\n",
    "**Loại biểu đồ sử dụng:** Bar Chart\n",
    "\n",
    "**Tính phù hợp của biểu đồ với dữ liệu:** Bar chart là một loại biểu đồ được sử dụng để hiển thị một loạt các giá trị dưới dạng các thanh hình chữ nhật. Biểu đồ này thường được sử dụng để thể hiện các loại dữ liệu phân loại hoặc dữ liệu định lượng. Vì thế, Bar chart là một công cụ hữu ích để so sánh các giá trị khác nhau theo các nhóm khác nhau, qua đó thấy được mối quan hệ giữa lợi nhuận và doanh thu.\n",
    "\n",
    "\n"
   ]
  },
  {
   "attachments": {},
   "cell_type": "markdown",
   "metadata": {},
   "source": [
    "**Tỉ lệ Profit và Sales của mỗi mặt hàng**"
   ]
  },
  {
   "cell_type": "code",
   "execution_count": null,
   "metadata": {},
   "outputs": [
    {
     "data": {
      "image/png": "[encoded data removed]",
      "text/plain": [
       "<Figure size 720x1080 with 2 Axes>"
      ]
     },
     "metadata": {},
     "output_type": "display_data"
    }
   ],
   "source": [
    "df_pie = df[['Category','Sales','Profit']]\n",
    "df_pie = df_pie.groupby(['Category']).sum().reset_index()\n",
    "\n",
    "plt.figure(figsize=(10,15))\n",
    "\n",
    "# Vẽ biểu đồ Pie Chart (Profit)\n",
    "plt.subplot(1,3,1)\n",
    "plt.pie(df_pie['Profit'], labels=df_pie['Category'], colors=['#F05454','#30475E','#222831','#DDDDDD'])\n",
    "plt.title(\"Composition of Category for Profit\")\n",
    "\n",
    "# Vẽ biểu đồ Pie Chart (Sales)\n",
    "plt.subplot(1,3,3)\n",
    "plt.pie(df_pie['Sales'], labels=df_pie['Category'], colors=['#F05454','#30475E','#222831','#DDDDDD'])\n",
    "plt.title(\"Composition of Category for Sales\")\n",
    "\n",
    "\n",
    "plt.show()"
   ]
  },
  {
   "attachments": {},
   "cell_type": "markdown",
   "metadata": {},
   "source": [
    "**Mối quan hệ giữa Sales và Profit**"
   ]
  },
  {
   "cell_type": "code",
   "execution_count": null,
   "metadata": {},
   "outputs": [
    {
     "data": {
      "text/plain": [
       "<matplotlib.legend.Legend at 0x28f18b46fd0>"
      ]
     },
     "execution_count": 52,
     "metadata": {},
     "output_type": "execute_result"
    },
    {
     "data": {
      "image/png": "[encoded data removed]",
      "text/plain": [
       "<Figure size 1440x720 with 2 Axes>"
      ]
     },
     "metadata": {
      "needs_background": "light"
     },
     "output_type": "display_data"
    },
    {
     "data": {
      "image/png": "[encoded data removed]",
      "text/plain": [
       "<Figure size 1800x504 with 1 Axes>"
      ]
     },
     "metadata": {
      "needs_background": "light"
     },
     "output_type": "display_data"
    }
   ],
   "source": [
    "# Ship Modes\n",
    "df_shipmode = df[['Ship Mode','Sales','Profit']]\n",
    "df_shipmode = df_shipmode.groupby(['Ship Mode']).sum().reset_index()\n",
    "plt.figure(figsize=[20,10])\n",
    "plt.subplot(3,2,1)\n",
    "plt.bar(x=df_shipmode['Ship Mode'], height=df_shipmode['Sales'], color='#F05454')\n",
    "plt.bar(x=df_shipmode['Ship Mode'], height=df_shipmode['Profit'], bottom=df_shipmode['Sales'], color='#30475E')\n",
    "plt.title(\"Sales & Profit Across Ship Modes\", size=12, pad=20)\n",
    "plt.legend(['Sales','Profit'])\n",
    "\n",
    "\n",
    "#Segment\n",
    "df_segment = df[['Segment','Sales','Profit']]\n",
    "df_segment = df_segment.groupby(['Segment']).sum().reset_index()\n",
    "plt.subplot(3,2,2)\n",
    "plt.bar(x=df_segment['Segment'], height=df_segment['Sales'], color='#F05454')\n",
    "plt.bar(x=df_segment['Segment'], height=df_segment['Profit'], bottom=df_segment['Sales'], color='#30475E')\n",
    "plt.title(\"Sales & Profit Across Segments\", size=12, pad=20)\n",
    "plt.legend(['Sales','Profit'])\n",
    "\n",
    "#State(top20-quantity)\n",
    "df_state = df[['State','Sales','Profit','Quantity']]\n",
    "df_state = df_state.groupby(['State']).sum().reset_index()\n",
    "df_state = df_state.sort_values(\"Quantity\",ascending=False)\n",
    "df_state = df_state.head(20)\n",
    "plt.figure(figsize=[25,7])\n",
    "plt.subplot(1,1,1)\n",
    "plt.bar(x=df_state['State'], height=df_state['Sales'], color='#F05454')\n",
    "plt.bar(x=df_state['State'], height=df_state['Profit'], bottom=df_state['Sales'], color='#30475E')\n",
    "plt.title(\"Sales & Profit Across State - Top 20 Quantity\", size=12, pad=20)\n",
    "plt.legend(['Sales','Profit'])\n"
   ]
  },
  {
   "attachments": {},
   "cell_type": "markdown",
   "metadata": {},
   "source": [
    "**Nhận xét**\n",
    "\n",
    "Mối quan hệ giữa Sales và Profit được thể hiện rõ ràng và khá giống nhau qua ba biểu đồ.\n",
    "\n",
    "Với Ship Modes và Segments, ta thấy Sales tỷ lệ thuận với Profit và không có ngoại lệ nào.\n",
    "\n",
    "Với State, nhìn chung Sales càng lớn thì tỉ lệ Profit lớn càng cao, tuy nhiên không đồng nhất và có vài ngoại lệ có thể kể đến như:\n",
    "\n",
    "+ Florida và Ohio: Florida có lượng doanh thu lớn hơn Ohio nhưng lợi nhuận của Ohio lại cao hơn Florida\n",
    "\n",
    "+ Pennsylvania và Michigan: Pennsylvania có lượng doanh thu lớn hơn Michigan nhưng lợi nhuận của Michigan lại cao hơn Pennsylvania\n",
    "\n",
    "+ ...\n",
    "\n",
    "**Kết luận**\n",
    "\n",
    "Doanh thu bán hàng càng lớn thì lợi nhuận càng lớn và ngược lại, tuy có vài ngoại lệ nhưng không đáng kể."
   ]
  },
  {
   "attachments": {},
   "cell_type": "markdown",
   "metadata": {},
   "source": [
    "## Câu hỏi 9\n",
    "\n",
    "**Nội dung câu hỏi:** Các sub-category thường xuyên được mua chung của các đơn hàng có hơn hoặc bằng 2 sản phẩm.\n",
    "\n",
    "**Loại biểu đồ sử dụng:** Heatmap\n",
    "\n",
    "**Tính phù hợp của biểu đồ với dữ liệu:** Biểu đồ heatmap là một loại biểu đồ dùng để biểu diễn dữ liệu hai chiều dưới dạng màu sắc. Nó thường được sử dụng để trực quan hóa một bảng dữ liệu, trong đó mỗi giá trị trong bảng được ánh xạ thành một màu sắc tương ứng. Biểu đồ heatmap thường được sử dụng trong phân tích dữ liệu để phát hiện các mối quan hệ và xu hướng trong dữ liệu. Qua đó, màu sắc trong heatmap sẽ nói lên tần số của các mối quan hệ sub-category trong dữ liệu"
   ]
  },
  {
   "attachments": {},
   "cell_type": "markdown",
   "metadata": {},
   "source": [
    "Số lượng các `Sub-category` trong Dataframe"
   ]
  },
  {
   "cell_type": "code",
   "execution_count": null,
   "metadata": {},
   "outputs": [
    {
     "data": {
      "text/plain": [
       "array(['Bookcases', 'Chairs', 'Labels', 'Tables', 'Storage',\n",
       "       'Furnishings', 'Art', 'Phones', 'Binders', 'Appliances', 'Paper',\n",
       "       'Accessories', 'Envelopes', 'Fasteners', 'Supplies', 'Machines',\n",
       "       'Copiers'], dtype=object)"
      ]
     },
     "execution_count": 53,
     "metadata": {},
     "output_type": "execute_result"
    }
   ],
   "source": [
    "df['Sub-Category'].unique()"
   ]
  },
  {
   "attachments": {},
   "cell_type": "markdown",
   "metadata": {},
   "source": [
    "Nhóm dữ liệu theo `Order ID` và lấy danh sách các `Sub-category` của từng `Order ID`"
   ]
  },
  {
   "cell_type": "code",
   "execution_count": null,
   "metadata": {},
   "outputs": [],
   "source": [
    "# group the data by Order ID and get a list of sub-categories in each order\n",
    "order_data = df.groupby('Order ID')['Sub-Category'].apply(list).to_frame()"
   ]
  },
  {
   "attachments": {},
   "cell_type": "markdown",
   "metadata": {},
   "source": [
    "Lọai các `Order ID` có danh sách `Sub-category` bằng 1"
   ]
  },
  {
   "cell_type": "code",
   "execution_count": null,
   "metadata": {},
   "outputs": [
    {
     "data": {
      "text/html": [
       "<div>\n",
       "<style scoped>\n",
       "    .dataframe tbody tr th:only-of-type {\n",
       "        vertical-align: middle;\n",
       "    }\n",
       "\n",
       "    .dataframe tbody tr th {\n",
       "        vertical-align: top;\n",
       "    }\n",
       "\n",
       "    .dataframe thead th {\n",
       "        text-align: right;\n",
       "    }\n",
       "</style>\n",
       "<table border=\"1\" class=\"dataframe\">\n",
       "  <thead>\n",
       "    <tr style=\"text-align: right;\">\n",
       "      <th></th>\n",
       "      <th>Sub-Category</th>\n",
       "    </tr>\n",
       "    <tr>\n",
       "      <th>Order ID</th>\n",
       "      <th></th>\n",
       "    </tr>\n",
       "  </thead>\n",
       "  <tbody>\n",
       "    <tr>\n",
       "      <th>CA-2014-100090</th>\n",
       "      <td>[Tables, Binders]</td>\n",
       "    </tr>\n",
       "    <tr>\n",
       "      <th>CA-2014-100363</th>\n",
       "      <td>[Fasteners, Paper]</td>\n",
       "    </tr>\n",
       "    <tr>\n",
       "      <th>CA-2014-100678</th>\n",
       "      <td>[Art, Chairs, Envelopes, Accessories]</td>\n",
       "    </tr>\n",
       "    <tr>\n",
       "      <th>CA-2014-100706</th>\n",
       "      <td>[Accessories, Furnishings]</td>\n",
       "    </tr>\n",
       "    <tr>\n",
       "      <th>CA-2014-100762</th>\n",
       "      <td>[Art, Labels, Paper, Paper]</td>\n",
       "    </tr>\n",
       "    <tr>\n",
       "      <th>...</th>\n",
       "      <td>...</td>\n",
       "    </tr>\n",
       "    <tr>\n",
       "      <th>US-2017-168116</th>\n",
       "      <td>[Machines, Appliances]</td>\n",
       "    </tr>\n",
       "    <tr>\n",
       "      <th>US-2017-169320</th>\n",
       "      <td>[Art, Accessories]</td>\n",
       "    </tr>\n",
       "    <tr>\n",
       "      <th>US-2017-169488</th>\n",
       "      <td>[Paper, Paper]</td>\n",
       "    </tr>\n",
       "    <tr>\n",
       "      <th>US-2017-169502</th>\n",
       "      <td>[Supplies, Appliances]</td>\n",
       "    </tr>\n",
       "    <tr>\n",
       "      <th>US-2017-169551</th>\n",
       "      <td>[Bookcases, Paper, Phones, Storage, Accessorie...</td>\n",
       "    </tr>\n",
       "  </tbody>\n",
       "</table>\n",
       "<p>2471 rows × 1 columns</p>\n",
       "</div>"
      ],
      "text/plain": [
       "                                                     Sub-Category\n",
       "Order ID                                                         \n",
       "CA-2014-100090                                  [Tables, Binders]\n",
       "CA-2014-100363                                 [Fasteners, Paper]\n",
       "CA-2014-100678              [Art, Chairs, Envelopes, Accessories]\n",
       "CA-2014-100706                         [Accessories, Furnishings]\n",
       "CA-2014-100762                        [Art, Labels, Paper, Paper]\n",
       "...                                                           ...\n",
       "US-2017-168116                             [Machines, Appliances]\n",
       "US-2017-169320                                 [Art, Accessories]\n",
       "US-2017-169488                                     [Paper, Paper]\n",
       "US-2017-169502                             [Supplies, Appliances]\n",
       "US-2017-169551  [Bookcases, Paper, Phones, Storage, Accessorie...\n",
       "\n",
       "[2471 rows x 1 columns]"
      ]
     },
     "execution_count": 55,
     "metadata": {},
     "output_type": "execute_result"
    }
   ],
   "source": [
    "order_data = order_data[order_data['Sub-Category'].apply(lambda x: len(x)) > 1]\n",
    "order_data"
   ]
  },
  {
   "attachments": {},
   "cell_type": "markdown",
   "metadata": {},
   "source": [
    "Tạo Dataframe thể hiện tần số của các cặp `Sub-category`"
   ]
  },
  {
   "cell_type": "code",
   "execution_count": null,
   "metadata": {},
   "outputs": [
    {
     "data": {
      "text/html": [
       "<div>\n",
       "<style scoped>\n",
       "    .dataframe tbody tr th:only-of-type {\n",
       "        vertical-align: middle;\n",
       "    }\n",
       "\n",
       "    .dataframe tbody tr th {\n",
       "        vertical-align: top;\n",
       "    }\n",
       "\n",
       "    .dataframe thead th {\n",
       "        text-align: right;\n",
       "    }\n",
       "</style>\n",
       "<table border=\"1\" class=\"dataframe\">\n",
       "  <thead>\n",
       "    <tr style=\"text-align: right;\">\n",
       "      <th></th>\n",
       "      <th>Accessories</th>\n",
       "      <th>Appliances</th>\n",
       "      <th>Art</th>\n",
       "      <th>Binders</th>\n",
       "      <th>Bookcases</th>\n",
       "      <th>Chairs</th>\n",
       "      <th>Copiers</th>\n",
       "      <th>Envelopes</th>\n",
       "      <th>Fasteners</th>\n",
       "      <th>Furnishings</th>\n",
       "      <th>Labels</th>\n",
       "      <th>Machines</th>\n",
       "      <th>Paper</th>\n",
       "      <th>Phones</th>\n",
       "      <th>Storage</th>\n",
       "      <th>Supplies</th>\n",
       "      <th>Tables</th>\n",
       "    </tr>\n",
       "  </thead>\n",
       "  <tbody>\n",
       "    <tr>\n",
       "      <th>Accessories</th>\n",
       "      <td>0</td>\n",
       "      <td>74</td>\n",
       "      <td>112</td>\n",
       "      <td>223</td>\n",
       "      <td>34</td>\n",
       "      <td>86</td>\n",
       "      <td>6</td>\n",
       "      <td>35</td>\n",
       "      <td>35</td>\n",
       "      <td>142</td>\n",
       "      <td>57</td>\n",
       "      <td>25</td>\n",
       "      <td>208</td>\n",
       "      <td>151</td>\n",
       "      <td>135</td>\n",
       "      <td>29</td>\n",
       "      <td>49</td>\n",
       "    </tr>\n",
       "    <tr>\n",
       "      <th>Appliances</th>\n",
       "      <td>74</td>\n",
       "      <td>0</td>\n",
       "      <td>66</td>\n",
       "      <td>165</td>\n",
       "      <td>14</td>\n",
       "      <td>54</td>\n",
       "      <td>9</td>\n",
       "      <td>22</td>\n",
       "      <td>22</td>\n",
       "      <td>86</td>\n",
       "      <td>23</td>\n",
       "      <td>9</td>\n",
       "      <td>140</td>\n",
       "      <td>92</td>\n",
       "      <td>65</td>\n",
       "      <td>24</td>\n",
       "      <td>31</td>\n",
       "    </tr>\n",
       "    <tr>\n",
       "      <th>Art</th>\n",
       "      <td>112</td>\n",
       "      <td>66</td>\n",
       "      <td>0</td>\n",
       "      <td>214</td>\n",
       "      <td>39</td>\n",
       "      <td>101</td>\n",
       "      <td>8</td>\n",
       "      <td>32</td>\n",
       "      <td>35</td>\n",
       "      <td>128</td>\n",
       "      <td>59</td>\n",
       "      <td>17</td>\n",
       "      <td>195</td>\n",
       "      <td>154</td>\n",
       "      <td>131</td>\n",
       "      <td>35</td>\n",
       "      <td>42</td>\n",
       "    </tr>\n",
       "    <tr>\n",
       "      <th>Binders</th>\n",
       "      <td>223</td>\n",
       "      <td>165</td>\n",
       "      <td>214</td>\n",
       "      <td>0</td>\n",
       "      <td>72</td>\n",
       "      <td>158</td>\n",
       "      <td>24</td>\n",
       "      <td>66</td>\n",
       "      <td>74</td>\n",
       "      <td>16</td>\n",
       "      <td>107</td>\n",
       "      <td>42</td>\n",
       "      <td>143</td>\n",
       "      <td>19</td>\n",
       "      <td>24</td>\n",
       "      <td>49</td>\n",
       "      <td>85</td>\n",
       "    </tr>\n",
       "    <tr>\n",
       "      <th>Bookcases</th>\n",
       "      <td>34</td>\n",
       "      <td>14</td>\n",
       "      <td>39</td>\n",
       "      <td>72</td>\n",
       "      <td>0</td>\n",
       "      <td>25</td>\n",
       "      <td>2</td>\n",
       "      <td>11</td>\n",
       "      <td>7</td>\n",
       "      <td>33</td>\n",
       "      <td>23</td>\n",
       "      <td>6</td>\n",
       "      <td>60</td>\n",
       "      <td>55</td>\n",
       "      <td>44</td>\n",
       "      <td>11</td>\n",
       "      <td>10</td>\n",
       "    </tr>\n",
       "    <tr>\n",
       "      <th>Chairs</th>\n",
       "      <td>86</td>\n",
       "      <td>54</td>\n",
       "      <td>101</td>\n",
       "      <td>158</td>\n",
       "      <td>25</td>\n",
       "      <td>0</td>\n",
       "      <td>10</td>\n",
       "      <td>32</td>\n",
       "      <td>31</td>\n",
       "      <td>117</td>\n",
       "      <td>39</td>\n",
       "      <td>19</td>\n",
       "      <td>178</td>\n",
       "      <td>112</td>\n",
       "      <td>105</td>\n",
       "      <td>20</td>\n",
       "      <td>32</td>\n",
       "    </tr>\n",
       "    <tr>\n",
       "      <th>Copiers</th>\n",
       "      <td>6</td>\n",
       "      <td>9</td>\n",
       "      <td>8</td>\n",
       "      <td>24</td>\n",
       "      <td>2</td>\n",
       "      <td>10</td>\n",
       "      <td>0</td>\n",
       "      <td>4</td>\n",
       "      <td>3</td>\n",
       "      <td>12</td>\n",
       "      <td>7</td>\n",
       "      <td>2</td>\n",
       "      <td>24</td>\n",
       "      <td>12</td>\n",
       "      <td>13</td>\n",
       "      <td>4</td>\n",
       "      <td>2</td>\n",
       "    </tr>\n",
       "    <tr>\n",
       "      <th>Envelopes</th>\n",
       "      <td>35</td>\n",
       "      <td>22</td>\n",
       "      <td>32</td>\n",
       "      <td>66</td>\n",
       "      <td>11</td>\n",
       "      <td>32</td>\n",
       "      <td>4</td>\n",
       "      <td>0</td>\n",
       "      <td>12</td>\n",
       "      <td>34</td>\n",
       "      <td>12</td>\n",
       "      <td>6</td>\n",
       "      <td>71</td>\n",
       "      <td>50</td>\n",
       "      <td>45</td>\n",
       "      <td>5</td>\n",
       "      <td>12</td>\n",
       "    </tr>\n",
       "    <tr>\n",
       "      <th>Fasteners</th>\n",
       "      <td>35</td>\n",
       "      <td>22</td>\n",
       "      <td>35</td>\n",
       "      <td>74</td>\n",
       "      <td>7</td>\n",
       "      <td>31</td>\n",
       "      <td>3</td>\n",
       "      <td>12</td>\n",
       "      <td>0</td>\n",
       "      <td>47</td>\n",
       "      <td>18</td>\n",
       "      <td>9</td>\n",
       "      <td>68</td>\n",
       "      <td>46</td>\n",
       "      <td>43</td>\n",
       "      <td>11</td>\n",
       "      <td>10</td>\n",
       "    </tr>\n",
       "    <tr>\n",
       "      <th>Furnishings</th>\n",
       "      <td>142</td>\n",
       "      <td>86</td>\n",
       "      <td>128</td>\n",
       "      <td>16</td>\n",
       "      <td>33</td>\n",
       "      <td>117</td>\n",
       "      <td>12</td>\n",
       "      <td>34</td>\n",
       "      <td>47</td>\n",
       "      <td>0</td>\n",
       "      <td>64</td>\n",
       "      <td>33</td>\n",
       "      <td>253</td>\n",
       "      <td>190</td>\n",
       "      <td>174</td>\n",
       "      <td>33</td>\n",
       "      <td>57</td>\n",
       "    </tr>\n",
       "    <tr>\n",
       "      <th>Labels</th>\n",
       "      <td>57</td>\n",
       "      <td>23</td>\n",
       "      <td>59</td>\n",
       "      <td>107</td>\n",
       "      <td>23</td>\n",
       "      <td>39</td>\n",
       "      <td>7</td>\n",
       "      <td>12</td>\n",
       "      <td>18</td>\n",
       "      <td>64</td>\n",
       "      <td>0</td>\n",
       "      <td>8</td>\n",
       "      <td>107</td>\n",
       "      <td>71</td>\n",
       "      <td>76</td>\n",
       "      <td>20</td>\n",
       "      <td>19</td>\n",
       "    </tr>\n",
       "    <tr>\n",
       "      <th>Machines</th>\n",
       "      <td>25</td>\n",
       "      <td>9</td>\n",
       "      <td>17</td>\n",
       "      <td>42</td>\n",
       "      <td>6</td>\n",
       "      <td>19</td>\n",
       "      <td>2</td>\n",
       "      <td>6</td>\n",
       "      <td>9</td>\n",
       "      <td>33</td>\n",
       "      <td>8</td>\n",
       "      <td>0</td>\n",
       "      <td>33</td>\n",
       "      <td>23</td>\n",
       "      <td>23</td>\n",
       "      <td>1</td>\n",
       "      <td>6</td>\n",
       "    </tr>\n",
       "    <tr>\n",
       "      <th>Paper</th>\n",
       "      <td>208</td>\n",
       "      <td>140</td>\n",
       "      <td>195</td>\n",
       "      <td>143</td>\n",
       "      <td>60</td>\n",
       "      <td>178</td>\n",
       "      <td>24</td>\n",
       "      <td>71</td>\n",
       "      <td>68</td>\n",
       "      <td>253</td>\n",
       "      <td>107</td>\n",
       "      <td>33</td>\n",
       "      <td>0</td>\n",
       "      <td>243</td>\n",
       "      <td>1</td>\n",
       "      <td>59</td>\n",
       "      <td>76</td>\n",
       "    </tr>\n",
       "    <tr>\n",
       "      <th>Phones</th>\n",
       "      <td>151</td>\n",
       "      <td>92</td>\n",
       "      <td>154</td>\n",
       "      <td>19</td>\n",
       "      <td>55</td>\n",
       "      <td>112</td>\n",
       "      <td>12</td>\n",
       "      <td>50</td>\n",
       "      <td>46</td>\n",
       "      <td>190</td>\n",
       "      <td>71</td>\n",
       "      <td>23</td>\n",
       "      <td>243</td>\n",
       "      <td>0</td>\n",
       "      <td>156</td>\n",
       "      <td>29</td>\n",
       "      <td>60</td>\n",
       "    </tr>\n",
       "    <tr>\n",
       "      <th>Storage</th>\n",
       "      <td>135</td>\n",
       "      <td>65</td>\n",
       "      <td>131</td>\n",
       "      <td>24</td>\n",
       "      <td>44</td>\n",
       "      <td>105</td>\n",
       "      <td>13</td>\n",
       "      <td>45</td>\n",
       "      <td>43</td>\n",
       "      <td>174</td>\n",
       "      <td>76</td>\n",
       "      <td>23</td>\n",
       "      <td>1</td>\n",
       "      <td>156</td>\n",
       "      <td>0</td>\n",
       "      <td>35</td>\n",
       "      <td>53</td>\n",
       "    </tr>\n",
       "    <tr>\n",
       "      <th>Supplies</th>\n",
       "      <td>29</td>\n",
       "      <td>24</td>\n",
       "      <td>35</td>\n",
       "      <td>49</td>\n",
       "      <td>11</td>\n",
       "      <td>20</td>\n",
       "      <td>4</td>\n",
       "      <td>5</td>\n",
       "      <td>11</td>\n",
       "      <td>33</td>\n",
       "      <td>20</td>\n",
       "      <td>1</td>\n",
       "      <td>59</td>\n",
       "      <td>29</td>\n",
       "      <td>35</td>\n",
       "      <td>0</td>\n",
       "      <td>11</td>\n",
       "    </tr>\n",
       "    <tr>\n",
       "      <th>Tables</th>\n",
       "      <td>49</td>\n",
       "      <td>31</td>\n",
       "      <td>42</td>\n",
       "      <td>85</td>\n",
       "      <td>10</td>\n",
       "      <td>32</td>\n",
       "      <td>2</td>\n",
       "      <td>12</td>\n",
       "      <td>10</td>\n",
       "      <td>57</td>\n",
       "      <td>19</td>\n",
       "      <td>6</td>\n",
       "      <td>76</td>\n",
       "      <td>60</td>\n",
       "      <td>53</td>\n",
       "      <td>11</td>\n",
       "      <td>0</td>\n",
       "    </tr>\n",
       "  </tbody>\n",
       "</table>\n",
       "</div>"
      ],
      "text/plain": [
       "             Accessories  Appliances  Art  Binders  Bookcases  Chairs  \\\n",
       "Accessories            0          74  112      223         34      86   \n",
       "Appliances            74           0   66      165         14      54   \n",
       "Art                  112          66    0      214         39     101   \n",
       "Binders              223         165  214        0         72     158   \n",
       "Bookcases             34          14   39       72          0      25   \n",
       "Chairs                86          54  101      158         25       0   \n",
       "Copiers                6           9    8       24          2      10   \n",
       "Envelopes             35          22   32       66         11      32   \n",
       "Fasteners             35          22   35       74          7      31   \n",
       "Furnishings          142          86  128       16         33     117   \n",
       "Labels                57          23   59      107         23      39   \n",
       "Machines              25           9   17       42          6      19   \n",
       "Paper                208         140  195      143         60     178   \n",
       "Phones               151          92  154       19         55     112   \n",
       "Storage              135          65  131       24         44     105   \n",
       "Supplies              29          24   35       49         11      20   \n",
       "Tables                49          31   42       85         10      32   \n",
       "\n",
       "             Copiers  Envelopes  Fasteners  Furnishings  Labels  Machines  \\\n",
       "Accessories        6         35         35          142      57        25   \n",
       "Appliances         9         22         22           86      23         9   \n",
       "Art                8         32         35          128      59        17   \n",
       "Binders           24         66         74           16     107        42   \n",
       "Bookcases          2         11          7           33      23         6   \n",
       "Chairs            10         32         31          117      39        19   \n",
       "Copiers            0          4          3           12       7         2   \n",
       "Envelopes          4          0         12           34      12         6   \n",
       "Fasteners          3         12          0           47      18         9   \n",
       "Furnishings       12         34         47            0      64        33   \n",
       "Labels             7         12         18           64       0         8   \n",
       "Machines           2          6          9           33       8         0   \n",
       "Paper             24         71         68          253     107        33   \n",
       "Phones            12         50         46          190      71        23   \n",
       "Storage           13         45         43          174      76        23   \n",
       "Supplies           4          5         11           33      20         1   \n",
       "Tables             2         12         10           57      19         6   \n",
       "\n",
       "             Paper  Phones  Storage  Supplies  Tables  \n",
       "Accessories    208     151      135        29      49  \n",
       "Appliances     140      92       65        24      31  \n",
       "Art            195     154      131        35      42  \n",
       "Binders        143      19       24        49      85  \n",
       "Bookcases       60      55       44        11      10  \n",
       "Chairs         178     112      105        20      32  \n",
       "Copiers         24      12       13         4       2  \n",
       "Envelopes       71      50       45         5      12  \n",
       "Fasteners       68      46       43        11      10  \n",
       "Furnishings    253     190      174        33      57  \n",
       "Labels         107      71       76        20      19  \n",
       "Machines        33      23       23         1       6  \n",
       "Paper            0     243        1        59      76  \n",
       "Phones         243       0      156        29      60  \n",
       "Storage          1     156        0        35      53  \n",
       "Supplies        59      29       35         0      11  \n",
       "Tables          76      60       53        11       0  "
      ]
     },
     "execution_count": 56,
     "metadata": {},
     "output_type": "execute_result"
    }
   ],
   "source": [
    "# Use get_dummies to one-hot encode the categories\n",
    "dummies = pd.get_dummies(order_data['Sub-Category'].apply(pd.Series).stack()).groupby(level=0).sum()\n",
    "\n",
    "# Aggregate the counts by category combination\n",
    "category_counts = dummies.T.dot(dummies)\n",
    "\n",
    "# Set the diagonal to zero to remove self-counts\n",
    "for i in range(category_counts.shape[0]):\n",
    "    category_counts.iloc[i,i] = 0\n",
    "\n",
    "# Print the resulting dataframe\n",
    "category_counts"
   ]
  },
  {
   "attachments": {},
   "cell_type": "markdown",
   "metadata": {},
   "source": [
    "Vẽ biểu đồ heatmap"
   ]
  },
  {
   "cell_type": "code",
   "execution_count": null,
   "metadata": {},
   "outputs": [
    {
     "data": {
      "image/png": "[encoded data removed]",
      "text/plain": [
       "<Figure size 720x576 with 2 Axes>"
      ]
     },
     "metadata": {
      "needs_background": "light"
     },
     "output_type": "display_data"
    }
   ],
   "source": [
    "# create a mask to hide the lower triangle\n",
    "mask = np.zeros_like(category_counts)\n",
    "mask[np.triu_indices_from(mask)] = True\n",
    "\n",
    "# create a larger figure\n",
    "fig, ax = plt.subplots(figsize=(10, 8))\n",
    "\n",
    "# add a title\n",
    "ax.set_title('Frequency of Sub-Category Pairs', fontsize=18)\n",
    "\n",
    "sns.heatmap(\n",
    "    data = category_counts, \n",
    "    cmap='plasma', \n",
    "    mask=mask,\n",
    "    square=True, \n",
    "    linewidths=.5, \n",
    "    linecolor='white', \n",
    "    )\n",
    "\n",
    "# show the plot\n",
    "plt.show()"
   ]
  },
  {
   "attachments": {},
   "cell_type": "markdown",
   "metadata": {},
   "source": [
    "**Nhận xét:**\n",
    "\n",
    "- Các sản phẩm thuộc Accessories thường được mua chung với các sản phẩm thuộc Binders, Paper và ngược lại\n",
    "- Các sản phẩm thuộc Art thường được mua chung các sản phẩm thuộc với Paper, Binders và ngược lại\n",
    "- Các sản phẩm thuộc Furnishings thường được mua chung với các sản phẩm thuộc Paper, Phones, Storage và ngược lại\n",
    "- Các sản phẩm thuộc Paper thường được mua chung với các sản phẩm thuộc Phones và ngược lại\n",
    "\n",
    "Nhìn chung, các sản phẩm thuộc Paper thường được mua chung nhiều nhất ở các đơn hàng có từ 2 sản phẩm trở lên, cụ thể các sản phẩm đó nằm vào các nhóm: Accessories, Art, Furnishings, Paper"
   ]
  }
 ],
 "metadata": {
  "kernelspec": {
   "display_name": "Python 3 (ipykernel)",
   "language": "python",
   "name": "python3"
  },
  "language_info": {
   "codemirror_mode": {
    "name": "ipython",
    "version": 3
   },
   "file_extension": ".py",
   "mimetype": "text/x-python",
   "name": "python",
   "nbconvert_exporter": "python",
   "pygments_lexer": "ipython3",
   "version": "3.9.16"
  }
 },
 "nbformat": 4,
 "nbformat_minor": 2
}
